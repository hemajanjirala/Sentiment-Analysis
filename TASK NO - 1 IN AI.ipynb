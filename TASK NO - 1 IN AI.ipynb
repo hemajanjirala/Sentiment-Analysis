{
 "cells": [
  {
   "cell_type": "code",
   "execution_count": 2,
   "id": "54eee518",
   "metadata": {},
   "outputs": [
    {
     "name": "stderr",
     "output_type": "stream",
     "text": [
      "[nltk_data] Downloading collection 'all'\n",
      "[nltk_data]    | \n",
      "[nltk_data]    | Downloading package abc to\n",
      "[nltk_data]    |     C:\\Users\\Dell\\AppData\\Roaming\\nltk_data...\n",
      "[nltk_data]    |   Unzipping corpora\\abc.zip.\n",
      "[nltk_data]    | Downloading package alpino to\n",
      "[nltk_data]    |     C:\\Users\\Dell\\AppData\\Roaming\\nltk_data...\n",
      "[nltk_data]    |   Unzipping corpora\\alpino.zip.\n",
      "[nltk_data]    | Downloading package averaged_perceptron_tagger to\n",
      "[nltk_data]    |     C:\\Users\\Dell\\AppData\\Roaming\\nltk_data...\n",
      "[nltk_data]    |   Unzipping taggers\\averaged_perceptron_tagger.zip.\n",
      "[nltk_data]    | Downloading package averaged_perceptron_tagger_ru to\n",
      "[nltk_data]    |     C:\\Users\\Dell\\AppData\\Roaming\\nltk_data...\n",
      "[nltk_data]    |   Unzipping\n",
      "[nltk_data]    |       taggers\\averaged_perceptron_tagger_ru.zip.\n",
      "[nltk_data]    | Downloading package basque_grammars to\n",
      "[nltk_data]    |     C:\\Users\\Dell\\AppData\\Roaming\\nltk_data...\n",
      "[nltk_data]    |   Unzipping grammars\\basque_grammars.zip.\n",
      "[nltk_data]    | Downloading package bcp47 to\n",
      "[nltk_data]    |     C:\\Users\\Dell\\AppData\\Roaming\\nltk_data...\n",
      "[nltk_data]    | Downloading package biocreative_ppi to\n",
      "[nltk_data]    |     C:\\Users\\Dell\\AppData\\Roaming\\nltk_data...\n",
      "[nltk_data]    |   Unzipping corpora\\biocreative_ppi.zip.\n",
      "[nltk_data]    | Downloading package bllip_wsj_no_aux to\n",
      "[nltk_data]    |     C:\\Users\\Dell\\AppData\\Roaming\\nltk_data...\n",
      "[nltk_data]    |   Unzipping models\\bllip_wsj_no_aux.zip.\n",
      "[nltk_data]    | Downloading package book_grammars to\n",
      "[nltk_data]    |     C:\\Users\\Dell\\AppData\\Roaming\\nltk_data...\n",
      "[nltk_data]    |   Unzipping grammars\\book_grammars.zip.\n",
      "[nltk_data]    | Downloading package brown to\n",
      "[nltk_data]    |     C:\\Users\\Dell\\AppData\\Roaming\\nltk_data...\n",
      "[nltk_data]    |   Unzipping corpora\\brown.zip.\n",
      "[nltk_data]    | Downloading package brown_tei to\n",
      "[nltk_data]    |     C:\\Users\\Dell\\AppData\\Roaming\\nltk_data...\n",
      "[nltk_data]    |   Unzipping corpora\\brown_tei.zip.\n",
      "[nltk_data]    | Downloading package cess_cat to\n",
      "[nltk_data]    |     C:\\Users\\Dell\\AppData\\Roaming\\nltk_data...\n",
      "[nltk_data]    |   Unzipping corpora\\cess_cat.zip.\n",
      "[nltk_data]    | Downloading package cess_esp to\n",
      "[nltk_data]    |     C:\\Users\\Dell\\AppData\\Roaming\\nltk_data...\n",
      "[nltk_data]    |   Unzipping corpora\\cess_esp.zip.\n",
      "[nltk_data]    | Downloading package chat80 to\n",
      "[nltk_data]    |     C:\\Users\\Dell\\AppData\\Roaming\\nltk_data...\n",
      "[nltk_data]    |   Unzipping corpora\\chat80.zip.\n",
      "[nltk_data]    | Downloading package city_database to\n",
      "[nltk_data]    |     C:\\Users\\Dell\\AppData\\Roaming\\nltk_data...\n",
      "[nltk_data]    |   Unzipping corpora\\city_database.zip.\n",
      "[nltk_data]    | Downloading package cmudict to\n",
      "[nltk_data]    |     C:\\Users\\Dell\\AppData\\Roaming\\nltk_data...\n",
      "[nltk_data]    |   Unzipping corpora\\cmudict.zip.\n",
      "[nltk_data]    | Downloading package comparative_sentences to\n",
      "[nltk_data]    |     C:\\Users\\Dell\\AppData\\Roaming\\nltk_data...\n",
      "[nltk_data]    |   Unzipping corpora\\comparative_sentences.zip.\n",
      "[nltk_data]    | Downloading package comtrans to\n",
      "[nltk_data]    |     C:\\Users\\Dell\\AppData\\Roaming\\nltk_data...\n",
      "[nltk_data]    | Downloading package conll2000 to\n",
      "[nltk_data]    |     C:\\Users\\Dell\\AppData\\Roaming\\nltk_data...\n",
      "[nltk_data]    |   Unzipping corpora\\conll2000.zip.\n",
      "[nltk_data]    | Downloading package conll2002 to\n",
      "[nltk_data]    |     C:\\Users\\Dell\\AppData\\Roaming\\nltk_data...\n",
      "[nltk_data]    |   Unzipping corpora\\conll2002.zip.\n",
      "[nltk_data]    | Downloading package conll2007 to\n",
      "[nltk_data]    |     C:\\Users\\Dell\\AppData\\Roaming\\nltk_data...\n",
      "[nltk_data]    | Downloading package crubadan to\n",
      "[nltk_data]    |     C:\\Users\\Dell\\AppData\\Roaming\\nltk_data...\n",
      "[nltk_data]    |   Unzipping corpora\\crubadan.zip.\n",
      "[nltk_data]    | Downloading package dependency_treebank to\n",
      "[nltk_data]    |     C:\\Users\\Dell\\AppData\\Roaming\\nltk_data...\n",
      "[nltk_data]    |   Unzipping corpora\\dependency_treebank.zip.\n",
      "[nltk_data]    | Downloading package dolch to\n",
      "[nltk_data]    |     C:\\Users\\Dell\\AppData\\Roaming\\nltk_data...\n",
      "[nltk_data]    |   Unzipping corpora\\dolch.zip.\n",
      "[nltk_data]    | Downloading package europarl_raw to\n",
      "[nltk_data]    |     C:\\Users\\Dell\\AppData\\Roaming\\nltk_data...\n",
      "[nltk_data]    |   Unzipping corpora\\europarl_raw.zip.\n",
      "[nltk_data]    | Downloading package extended_omw to\n",
      "[nltk_data]    |     C:\\Users\\Dell\\AppData\\Roaming\\nltk_data...\n",
      "[nltk_data]    | Downloading package floresta to\n",
      "[nltk_data]    |     C:\\Users\\Dell\\AppData\\Roaming\\nltk_data...\n",
      "[nltk_data]    |   Unzipping corpora\\floresta.zip.\n",
      "[nltk_data]    | Downloading package framenet_v15 to\n",
      "[nltk_data]    |     C:\\Users\\Dell\\AppData\\Roaming\\nltk_data...\n",
      "[nltk_data]    |   Unzipping corpora\\framenet_v15.zip.\n",
      "[nltk_data]    | Downloading package framenet_v17 to\n",
      "[nltk_data]    |     C:\\Users\\Dell\\AppData\\Roaming\\nltk_data...\n",
      "[nltk_data]    |   Unzipping corpora\\framenet_v17.zip.\n",
      "[nltk_data]    | Downloading package gazetteers to\n",
      "[nltk_data]    |     C:\\Users\\Dell\\AppData\\Roaming\\nltk_data...\n",
      "[nltk_data]    |   Unzipping corpora\\gazetteers.zip.\n",
      "[nltk_data]    | Downloading package genesis to\n",
      "[nltk_data]    |     C:\\Users\\Dell\\AppData\\Roaming\\nltk_data...\n",
      "[nltk_data]    |   Unzipping corpora\\genesis.zip.\n",
      "[nltk_data]    | Downloading package gutenberg to\n",
      "[nltk_data]    |     C:\\Users\\Dell\\AppData\\Roaming\\nltk_data...\n",
      "[nltk_data]    |   Unzipping corpora\\gutenberg.zip.\n",
      "[nltk_data]    | Downloading package ieer to\n",
      "[nltk_data]    |     C:\\Users\\Dell\\AppData\\Roaming\\nltk_data...\n",
      "[nltk_data]    |   Unzipping corpora\\ieer.zip.\n",
      "[nltk_data]    | Downloading package inaugural to\n",
      "[nltk_data]    |     C:\\Users\\Dell\\AppData\\Roaming\\nltk_data...\n",
      "[nltk_data]    |   Unzipping corpora\\inaugural.zip.\n",
      "[nltk_data]    | Downloading package indian to\n",
      "[nltk_data]    |     C:\\Users\\Dell\\AppData\\Roaming\\nltk_data...\n",
      "[nltk_data]    |   Unzipping corpora\\indian.zip.\n",
      "[nltk_data]    | Downloading package jeita to\n",
      "[nltk_data]    |     C:\\Users\\Dell\\AppData\\Roaming\\nltk_data...\n",
      "[nltk_data]    | Downloading package kimmo to\n",
      "[nltk_data]    |     C:\\Users\\Dell\\AppData\\Roaming\\nltk_data...\n",
      "[nltk_data]    |   Unzipping corpora\\kimmo.zip.\n",
      "[nltk_data]    | Downloading package knbc to\n",
      "[nltk_data]    |     C:\\Users\\Dell\\AppData\\Roaming\\nltk_data...\n",
      "[nltk_data]    | Downloading package large_grammars to\n",
      "[nltk_data]    |     C:\\Users\\Dell\\AppData\\Roaming\\nltk_data...\n",
      "[nltk_data]    |   Unzipping grammars\\large_grammars.zip.\n",
      "[nltk_data]    | Downloading package lin_thesaurus to\n",
      "[nltk_data]    |     C:\\Users\\Dell\\AppData\\Roaming\\nltk_data...\n",
      "[nltk_data]    |   Unzipping corpora\\lin_thesaurus.zip.\n",
      "[nltk_data]    | Downloading package mac_morpho to\n",
      "[nltk_data]    |     C:\\Users\\Dell\\AppData\\Roaming\\nltk_data...\n",
      "[nltk_data]    |   Unzipping corpora\\mac_morpho.zip.\n",
      "[nltk_data]    | Downloading package machado to\n",
      "[nltk_data]    |     C:\\Users\\Dell\\AppData\\Roaming\\nltk_data...\n",
      "[nltk_data]    | Downloading package masc_tagged to\n",
      "[nltk_data]    |     C:\\Users\\Dell\\AppData\\Roaming\\nltk_data...\n",
      "[nltk_data]    | Downloading package maxent_ne_chunker to\n",
      "[nltk_data]    |     C:\\Users\\Dell\\AppData\\Roaming\\nltk_data...\n",
      "[nltk_data]    |   Unzipping chunkers\\maxent_ne_chunker.zip.\n",
      "[nltk_data]    | Downloading package maxent_treebank_pos_tagger to\n",
      "[nltk_data]    |     C:\\Users\\Dell\\AppData\\Roaming\\nltk_data...\n",
      "[nltk_data]    |   Unzipping taggers\\maxent_treebank_pos_tagger.zip.\n",
      "[nltk_data]    | Downloading package moses_sample to\n",
      "[nltk_data]    |     C:\\Users\\Dell\\AppData\\Roaming\\nltk_data...\n",
      "[nltk_data]    |   Unzipping models\\moses_sample.zip.\n",
      "[nltk_data]    | Downloading package movie_reviews to\n",
      "[nltk_data]    |     C:\\Users\\Dell\\AppData\\Roaming\\nltk_data...\n",
      "[nltk_data]    |   Unzipping corpora\\movie_reviews.zip.\n",
      "[nltk_data]    | Downloading package mte_teip5 to\n",
      "[nltk_data]    |     C:\\Users\\Dell\\AppData\\Roaming\\nltk_data...\n",
      "[nltk_data]    |   Unzipping corpora\\mte_teip5.zip.\n",
      "[nltk_data]    | Downloading package mwa_ppdb to\n",
      "[nltk_data]    |     C:\\Users\\Dell\\AppData\\Roaming\\nltk_data...\n",
      "[nltk_data]    |   Unzipping misc\\mwa_ppdb.zip.\n",
      "[nltk_data]    | Downloading package names to\n",
      "[nltk_data]    |     C:\\Users\\Dell\\AppData\\Roaming\\nltk_data...\n",
      "[nltk_data]    |   Unzipping corpora\\names.zip.\n",
      "[nltk_data]    | Downloading package nombank.1.0 to\n",
      "[nltk_data]    |     C:\\Users\\Dell\\AppData\\Roaming\\nltk_data...\n",
      "[nltk_data]    | Downloading package nonbreaking_prefixes to\n",
      "[nltk_data]    |     C:\\Users\\Dell\\AppData\\Roaming\\nltk_data...\n",
      "[nltk_data]    |   Unzipping corpora\\nonbreaking_prefixes.zip.\n",
      "[nltk_data]    | Downloading package nps_chat to\n",
      "[nltk_data]    |     C:\\Users\\Dell\\AppData\\Roaming\\nltk_data...\n",
      "[nltk_data]    |   Unzipping corpora\\nps_chat.zip.\n",
      "[nltk_data]    | Downloading package omw to\n",
      "[nltk_data]    |     C:\\Users\\Dell\\AppData\\Roaming\\nltk_data...\n",
      "[nltk_data]    | Downloading package omw-1.4 to\n",
      "[nltk_data]    |     C:\\Users\\Dell\\AppData\\Roaming\\nltk_data...\n",
      "[nltk_data]    |   Package omw-1.4 is already up-to-date!\n",
      "[nltk_data]    | Downloading package opinion_lexicon to\n",
      "[nltk_data]    |     C:\\Users\\Dell\\AppData\\Roaming\\nltk_data...\n",
      "[nltk_data]    |   Unzipping corpora\\opinion_lexicon.zip.\n",
      "[nltk_data]    | Downloading package panlex_swadesh to\n",
      "[nltk_data]    |     C:\\Users\\Dell\\AppData\\Roaming\\nltk_data...\n",
      "[nltk_data]    | Downloading package paradigms to\n",
      "[nltk_data]    |     C:\\Users\\Dell\\AppData\\Roaming\\nltk_data...\n",
      "[nltk_data]    |   Unzipping corpora\\paradigms.zip.\n",
      "[nltk_data]    | Downloading package pe08 to\n",
      "[nltk_data]    |     C:\\Users\\Dell\\AppData\\Roaming\\nltk_data...\n",
      "[nltk_data]    |   Unzipping corpora\\pe08.zip.\n",
      "[nltk_data]    | Downloading package perluniprops to\n",
      "[nltk_data]    |     C:\\Users\\Dell\\AppData\\Roaming\\nltk_data...\n",
      "[nltk_data]    |   Unzipping misc\\perluniprops.zip.\n",
      "[nltk_data]    | Downloading package pil to\n",
      "[nltk_data]    |     C:\\Users\\Dell\\AppData\\Roaming\\nltk_data...\n",
      "[nltk_data]    |   Unzipping corpora\\pil.zip.\n",
      "[nltk_data]    | Downloading package pl196x to\n",
      "[nltk_data]    |     C:\\Users\\Dell\\AppData\\Roaming\\nltk_data...\n",
      "[nltk_data]    |   Unzipping corpora\\pl196x.zip.\n",
      "[nltk_data]    | Downloading package porter_test to\n",
      "[nltk_data]    |     C:\\Users\\Dell\\AppData\\Roaming\\nltk_data...\n",
      "[nltk_data]    |   Unzipping stemmers\\porter_test.zip.\n",
      "[nltk_data]    | Downloading package ppattach to\n",
      "[nltk_data]    |     C:\\Users\\Dell\\AppData\\Roaming\\nltk_data...\n",
      "[nltk_data]    |   Unzipping corpora\\ppattach.zip.\n",
      "[nltk_data]    | Downloading package problem_reports to\n",
      "[nltk_data]    |     C:\\Users\\Dell\\AppData\\Roaming\\nltk_data...\n",
      "[nltk_data]    |   Unzipping corpora\\problem_reports.zip.\n",
      "[nltk_data]    | Downloading package product_reviews_1 to\n",
      "[nltk_data]    |     C:\\Users\\Dell\\AppData\\Roaming\\nltk_data...\n",
      "[nltk_data]    |   Unzipping corpora\\product_reviews_1.zip.\n",
      "[nltk_data]    | Downloading package product_reviews_2 to\n",
      "[nltk_data]    |     C:\\Users\\Dell\\AppData\\Roaming\\nltk_data...\n",
      "[nltk_data]    |   Unzipping corpora\\product_reviews_2.zip.\n",
      "[nltk_data]    | Downloading package propbank to\n",
      "[nltk_data]    |     C:\\Users\\Dell\\AppData\\Roaming\\nltk_data...\n",
      "[nltk_data]    | Downloading package pros_cons to\n",
      "[nltk_data]    |     C:\\Users\\Dell\\AppData\\Roaming\\nltk_data...\n",
      "[nltk_data]    |   Unzipping corpora\\pros_cons.zip.\n",
      "[nltk_data]    | Downloading package ptb to\n",
      "[nltk_data]    |     C:\\Users\\Dell\\AppData\\Roaming\\nltk_data...\n",
      "[nltk_data]    |   Unzipping corpora\\ptb.zip.\n",
      "[nltk_data]    | Downloading package punkt to\n",
      "[nltk_data]    |     C:\\Users\\Dell\\AppData\\Roaming\\nltk_data...\n",
      "[nltk_data]    |   Package punkt is already up-to-date!\n",
      "[nltk_data]    | Downloading package qc to\n",
      "[nltk_data]    |     C:\\Users\\Dell\\AppData\\Roaming\\nltk_data...\n",
      "[nltk_data]    |   Unzipping corpora\\qc.zip.\n",
      "[nltk_data]    | Downloading package reuters to\n",
      "[nltk_data]    |     C:\\Users\\Dell\\AppData\\Roaming\\nltk_data...\n",
      "[nltk_data]    | Downloading package rslp to\n",
      "[nltk_data]    |     C:\\Users\\Dell\\AppData\\Roaming\\nltk_data...\n",
      "[nltk_data]    |   Unzipping stemmers\\rslp.zip.\n",
      "[nltk_data]    | Downloading package rte to\n",
      "[nltk_data]    |     C:\\Users\\Dell\\AppData\\Roaming\\nltk_data...\n",
      "[nltk_data]    |   Unzipping corpora\\rte.zip.\n",
      "[nltk_data]    | Downloading package sample_grammars to\n",
      "[nltk_data]    |     C:\\Users\\Dell\\AppData\\Roaming\\nltk_data...\n",
      "[nltk_data]    |   Unzipping grammars\\sample_grammars.zip.\n",
      "[nltk_data]    | Downloading package semcor to\n",
      "[nltk_data]    |     C:\\Users\\Dell\\AppData\\Roaming\\nltk_data...\n",
      "[nltk_data]    | Downloading package senseval to\n",
      "[nltk_data]    |     C:\\Users\\Dell\\AppData\\Roaming\\nltk_data...\n",
      "[nltk_data]    |   Unzipping corpora\\senseval.zip.\n",
      "[nltk_data]    | Downloading package sentence_polarity to\n",
      "[nltk_data]    |     C:\\Users\\Dell\\AppData\\Roaming\\nltk_data...\n",
      "[nltk_data]    |   Unzipping corpora\\sentence_polarity.zip.\n",
      "[nltk_data]    | Downloading package sentiwordnet to\n",
      "[nltk_data]    |     C:\\Users\\Dell\\AppData\\Roaming\\nltk_data...\n",
      "[nltk_data]    |   Unzipping corpora\\sentiwordnet.zip.\n",
      "[nltk_data]    | Downloading package shakespeare to\n",
      "[nltk_data]    |     C:\\Users\\Dell\\AppData\\Roaming\\nltk_data...\n",
      "[nltk_data]    |   Unzipping corpora\\shakespeare.zip.\n",
      "[nltk_data]    | Downloading package sinica_treebank to\n",
      "[nltk_data]    |     C:\\Users\\Dell\\AppData\\Roaming\\nltk_data...\n",
      "[nltk_data]    |   Unzipping corpora\\sinica_treebank.zip.\n",
      "[nltk_data]    | Downloading package smultron to\n",
      "[nltk_data]    |     C:\\Users\\Dell\\AppData\\Roaming\\nltk_data...\n",
      "[nltk_data]    |   Unzipping corpora\\smultron.zip.\n",
      "[nltk_data]    | Downloading package snowball_data to\n",
      "[nltk_data]    |     C:\\Users\\Dell\\AppData\\Roaming\\nltk_data...\n",
      "[nltk_data]    | Downloading package spanish_grammars to\n",
      "[nltk_data]    |     C:\\Users\\Dell\\AppData\\Roaming\\nltk_data...\n",
      "[nltk_data]    |   Unzipping grammars\\spanish_grammars.zip.\n",
      "[nltk_data]    | Downloading package state_union to\n",
      "[nltk_data]    |     C:\\Users\\Dell\\AppData\\Roaming\\nltk_data...\n",
      "[nltk_data]    |   Unzipping corpora\\state_union.zip.\n",
      "[nltk_data]    | Downloading package stopwords to\n",
      "[nltk_data]    |     C:\\Users\\Dell\\AppData\\Roaming\\nltk_data...\n",
      "[nltk_data]    |   Package stopwords is already up-to-date!\n",
      "[nltk_data]    | Downloading package subjectivity to\n",
      "[nltk_data]    |     C:\\Users\\Dell\\AppData\\Roaming\\nltk_data...\n",
      "[nltk_data]    |   Unzipping corpora\\subjectivity.zip.\n",
      "[nltk_data]    | Downloading package swadesh to\n",
      "[nltk_data]    |     C:\\Users\\Dell\\AppData\\Roaming\\nltk_data...\n",
      "[nltk_data]    |   Unzipping corpora\\swadesh.zip.\n",
      "[nltk_data]    | Downloading package switchboard to\n",
      "[nltk_data]    |     C:\\Users\\Dell\\AppData\\Roaming\\nltk_data...\n",
      "[nltk_data]    |   Unzipping corpora\\switchboard.zip.\n",
      "[nltk_data]    | Downloading package tagsets to\n",
      "[nltk_data]    |     C:\\Users\\Dell\\AppData\\Roaming\\nltk_data...\n",
      "[nltk_data]    |   Unzipping help\\tagsets.zip.\n",
      "[nltk_data]    | Downloading package timit to\n",
      "[nltk_data]    |     C:\\Users\\Dell\\AppData\\Roaming\\nltk_data...\n",
      "[nltk_data]    |   Unzipping corpora\\timit.zip.\n",
      "[nltk_data]    | Downloading package toolbox to\n",
      "[nltk_data]    |     C:\\Users\\Dell\\AppData\\Roaming\\nltk_data...\n",
      "[nltk_data]    |   Unzipping corpora\\toolbox.zip.\n",
      "[nltk_data]    | Downloading package treebank to\n",
      "[nltk_data]    |     C:\\Users\\Dell\\AppData\\Roaming\\nltk_data...\n",
      "[nltk_data]    |   Unzipping corpora\\treebank.zip.\n",
      "[nltk_data]    | Downloading package twitter_samples to\n",
      "[nltk_data]    |     C:\\Users\\Dell\\AppData\\Roaming\\nltk_data...\n",
      "[nltk_data]    |   Unzipping corpora\\twitter_samples.zip.\n",
      "[nltk_data]    | Downloading package udhr to\n",
      "[nltk_data]    |     C:\\Users\\Dell\\AppData\\Roaming\\nltk_data...\n",
      "[nltk_data]    |   Unzipping corpora\\udhr.zip.\n",
      "[nltk_data]    | Downloading package udhr2 to\n",
      "[nltk_data]    |     C:\\Users\\Dell\\AppData\\Roaming\\nltk_data...\n",
      "[nltk_data]    |   Unzipping corpora\\udhr2.zip.\n",
      "[nltk_data]    | Downloading package unicode_samples to\n",
      "[nltk_data]    |     C:\\Users\\Dell\\AppData\\Roaming\\nltk_data...\n",
      "[nltk_data]    |   Unzipping corpora\\unicode_samples.zip.\n",
      "[nltk_data]    | Downloading package universal_tagset to\n",
      "[nltk_data]    |     C:\\Users\\Dell\\AppData\\Roaming\\nltk_data...\n",
      "[nltk_data]    |   Unzipping taggers\\universal_tagset.zip.\n",
      "[nltk_data]    | Downloading package universal_treebanks_v20 to\n",
      "[nltk_data]    |     C:\\Users\\Dell\\AppData\\Roaming\\nltk_data...\n",
      "[nltk_data]    | Downloading package vader_lexicon to\n",
      "[nltk_data]    |     C:\\Users\\Dell\\AppData\\Roaming\\nltk_data...\n",
      "[nltk_data]    | Downloading package verbnet to\n",
      "[nltk_data]    |     C:\\Users\\Dell\\AppData\\Roaming\\nltk_data...\n",
      "[nltk_data]    |   Unzipping corpora\\verbnet.zip.\n",
      "[nltk_data]    | Downloading package verbnet3 to\n",
      "[nltk_data]    |     C:\\Users\\Dell\\AppData\\Roaming\\nltk_data...\n",
      "[nltk_data]    |   Unzipping corpora\\verbnet3.zip.\n",
      "[nltk_data]    | Downloading package webtext to\n",
      "[nltk_data]    |     C:\\Users\\Dell\\AppData\\Roaming\\nltk_data...\n",
      "[nltk_data]    |   Unzipping corpora\\webtext.zip.\n",
      "[nltk_data]    | Downloading package wmt15_eval to\n",
      "[nltk_data]    |     C:\\Users\\Dell\\AppData\\Roaming\\nltk_data...\n",
      "[nltk_data]    |   Unzipping models\\wmt15_eval.zip.\n",
      "[nltk_data]    | Downloading package word2vec_sample to\n",
      "[nltk_data]    |     C:\\Users\\Dell\\AppData\\Roaming\\nltk_data...\n",
      "[nltk_data]    |   Unzipping models\\word2vec_sample.zip.\n",
      "[nltk_data]    | Downloading package wordnet to\n",
      "[nltk_data]    |     C:\\Users\\Dell\\AppData\\Roaming\\nltk_data...\n",
      "[nltk_data]    |   Package wordnet is already up-to-date!\n",
      "[nltk_data]    | Downloading package wordnet2021 to\n",
      "[nltk_data]    |     C:\\Users\\Dell\\AppData\\Roaming\\nltk_data...\n",
      "[nltk_data]    | Downloading package wordnet2022 to\n",
      "[nltk_data]    |     C:\\Users\\Dell\\AppData\\Roaming\\nltk_data...\n",
      "[nltk_data]    |   Package wordnet2022 is already up-to-date!\n",
      "[nltk_data]    | Downloading package wordnet31 to\n",
      "[nltk_data]    |     C:\\Users\\Dell\\AppData\\Roaming\\nltk_data...\n",
      "[nltk_data]    | Downloading package wordnet_ic to\n",
      "[nltk_data]    |     C:\\Users\\Dell\\AppData\\Roaming\\nltk_data...\n",
      "[nltk_data]    |   Unzipping corpora\\wordnet_ic.zip.\n",
      "[nltk_data]    | Downloading package words to\n",
      "[nltk_data]    |     C:\\Users\\Dell\\AppData\\Roaming\\nltk_data...\n",
      "[nltk_data]    |   Unzipping corpora\\words.zip.\n",
      "[nltk_data]    | Downloading package ycoe to\n",
      "[nltk_data]    |     C:\\Users\\Dell\\AppData\\Roaming\\nltk_data...\n",
      "[nltk_data]    |   Unzipping corpora\\ycoe.zip.\n",
      "[nltk_data]    | \n",
      "[nltk_data]  Done downloading collection all\n"
     ]
    },
    {
     "data": {
      "text/plain": [
       "True"
      ]
     },
     "execution_count": 2,
     "metadata": {},
     "output_type": "execute_result"
    }
   ],
   "source": [
    "import nltk\n",
    "nltk.download('all')"
   ]
  },
  {
   "cell_type": "code",
   "execution_count": 3,
   "id": "92164ac2",
   "metadata": {},
   "outputs": [],
   "source": [
    "import os\n",
    "import nltk\n",
    "from nltk.corpus import *"
   ]
  },
  {
   "cell_type": "code",
   "execution_count": 5,
   "id": "e62f645c",
   "metadata": {},
   "outputs": [
    {
     "data": {
      "text/plain": [
       "str"
      ]
     },
     "execution_count": 5,
     "metadata": {},
     "output_type": "execute_result"
    }
   ],
   "source": [
    "X=\"Hello Sagar , How are you ? Where were you these days?\"\n",
    "type(X)"
   ]
  },
  {
   "cell_type": "code",
   "execution_count": 8,
   "id": "2f383917",
   "metadata": {},
   "outputs": [
    {
     "name": "stdout",
     "output_type": "stream",
     "text": [
      "['This', 'is', 'a', 'sample', 'sentence', '.', 'It', 'has', 'multiple', 'sentences', '.']\n",
      "['This is a sample sentence.', 'It has multiple sentences.']\n"
     ]
    }
   ],
   "source": [
    "from nltk.tokenize import word_tokenize, sent_tokenize\n",
    "\n",
    "x = \"This is a sample sentence. It has multiple sentences.\"\n",
    "\n",
    "z = word_tokenize(x)\n",
    "y = sent_tokenize(x)\n",
    "\n",
    "print(z)\n",
    "print(y)"
   ]
  },
  {
   "cell_type": "code",
   "execution_count": 9,
   "id": "ad626875",
   "metadata": {},
   "outputs": [
    {
     "name": "stdout",
     "output_type": "stream",
     "text": [
      "Requirement already satisfied: nltk in c:\\users\\dell\\anaconda3\\lib\\site-packages (3.8.1)\n",
      "Requirement already satisfied: click in c:\\users\\dell\\anaconda3\\lib\\site-packages (from nltk) (8.0.4)\n",
      "Requirement already satisfied: joblib in c:\\users\\dell\\anaconda3\\lib\\site-packages (from nltk) (1.2.0)\n",
      "Requirement already satisfied: regex>=2021.8.3 in c:\\users\\dell\\anaconda3\\lib\\site-packages (from nltk) (2022.7.9)\n",
      "Requirement already satisfied: tqdm in c:\\users\\dell\\anaconda3\\lib\\site-packages (from nltk) (4.65.0)\n",
      "Requirement already satisfied: colorama in c:\\users\\dell\\anaconda3\\lib\\site-packages (from click->nltk) (0.4.6)\n",
      "Note: you may need to restart the kernel to use updated packages.\n"
     ]
    }
   ],
   "source": [
    "pip install nltk"
   ]
  },
  {
   "cell_type": "code",
   "execution_count": 10,
   "id": "e21c64fc",
   "metadata": {},
   "outputs": [
    {
     "name": "stderr",
     "output_type": "stream",
     "text": [
      "[nltk_data] Downloading package punkt to\n",
      "[nltk_data]     C:\\Users\\Dell\\AppData\\Roaming\\nltk_data...\n",
      "[nltk_data]   Package punkt is already up-to-date!\n"
     ]
    },
    {
     "data": {
      "text/plain": [
       "True"
      ]
     },
     "execution_count": 10,
     "metadata": {},
     "output_type": "execute_result"
    }
   ],
   "source": [
    "import nltk\n",
    "nltk.download('punkt')"
   ]
  },
  {
   "cell_type": "code",
   "execution_count": 12,
   "id": "4b976d01",
   "metadata": {},
   "outputs": [
    {
     "data": {
      "text/plain": [
       "['python', 'is', 'an', 'awesome', 'language', '.']"
      ]
     },
     "execution_count": 12,
     "metadata": {},
     "output_type": "execute_result"
    }
   ],
   "source": [
    " s = 'python is an awesome language.'\n",
    "tokens = nltk.word_tokenize(s)\n",
    "tokens"
   ]
  },
  {
   "cell_type": "code",
   "execution_count": null,
   "id": "846e6ed9",
   "metadata": {},
   "outputs": [],
   "source": [
    "Look at corpora provided by nltk .i.e.the whole data which are files with different functionalities and different kinds of data"
   ]
  },
  {
   "cell_type": "code",
   "execution_count": 13,
   "id": "f35653e4",
   "metadata": {},
   "outputs": [
    {
     "name": "stdout",
     "output_type": "stream",
     "text": [
      "['abc', 'abc.zip', 'alpino', 'alpino.zip', 'bcp47.zip', 'biocreative_ppi', 'biocreative_ppi.zip', 'brown', 'brown.zip', 'brown_tei', 'brown_tei.zip', 'cess_cat', 'cess_cat.zip', 'cess_esp', 'cess_esp.zip', 'chat80', 'chat80.zip', 'city_database', 'city_database.zip', 'cmudict', 'cmudict.zip', 'comparative_sentences', 'comparative_sentences.zip', 'comtrans.zip', 'conll2000', 'conll2000.zip', 'conll2002', 'conll2002.zip', 'conll2007.zip', 'crubadan', 'crubadan.zip', 'dependency_treebank', 'dependency_treebank.zip', 'dolch', 'dolch.zip', 'europarl_raw', 'europarl_raw.zip', 'extended_omw.zip', 'floresta', 'floresta.zip', 'framenet_v15', 'framenet_v15.zip', 'framenet_v17', 'framenet_v17.zip', 'gazetteers', 'gazetteers.zip', 'genesis', 'genesis.zip', 'gutenberg', 'gutenberg.zip', 'ieer', 'ieer.zip', 'inaugural', 'inaugural.zip', 'indian', 'indian.zip', 'jeita.zip', 'kimmo', 'kimmo.zip', 'knbc.zip', 'lin_thesaurus', 'lin_thesaurus.zip', 'machado.zip', 'mac_morpho', 'mac_morpho.zip', 'masc_tagged.zip', 'movie_reviews', 'movie_reviews.zip', 'mte_teip5', 'mte_teip5.zip', 'names', 'names.zip', 'nombank.1.0.zip', 'nonbreaking_prefixes', 'nonbreaking_prefixes.zip', 'nps_chat', 'nps_chat.zip', 'omw-1.4.zip', 'omw.zip', 'opinion_lexicon', 'opinion_lexicon.zip', 'panlex_swadesh.zip', 'paradigms', 'paradigms.zip', 'pe08', 'pe08.zip', 'pil', 'pil.zip', 'pl196x', 'pl196x.zip', 'ppattach', 'ppattach.zip', 'problem_reports', 'problem_reports.zip', 'product_reviews_1', 'product_reviews_1.zip', 'product_reviews_2', 'product_reviews_2.zip', 'propbank.zip', 'pros_cons', 'pros_cons.zip', 'ptb', 'ptb.zip', 'qc', 'qc.zip', 'reuters.zip', 'rte', 'rte.zip', 'semcor.zip', 'senseval', 'senseval.zip', 'sentence_polarity', 'sentence_polarity.zip', 'sentiwordnet', 'sentiwordnet.zip', 'shakespeare', 'shakespeare.zip', 'sinica_treebank', 'sinica_treebank.zip', 'smultron', 'smultron.zip', 'state_union', 'state_union.zip', 'stopwords', 'stopwords.zip', 'subjectivity', 'subjectivity.zip', 'swadesh', 'swadesh.zip', 'switchboard', 'switchboard.zip', 'timit', 'timit.zip', 'toolbox', 'toolbox.zip', 'treebank', 'treebank.zip', 'twitter_samples', 'twitter_samples.zip', 'udhr', 'udhr.zip', 'udhr2', 'udhr2.zip', 'unicode_samples', 'unicode_samples.zip', 'universal_treebanks_v20.zip', 'verbnet', 'verbnet.zip', 'verbnet3', 'verbnet3.zip', 'webtext', 'webtext.zip', 'wordnet.zip', 'wordnet2021.zip', 'wordnet2022', 'wordnet2022.zip', 'wordnet31.zip', 'wordnet_ic', 'wordnet_ic.zip', 'words', 'words.zip', 'ycoe', 'ycoe.zip']\n"
     ]
    }
   ],
   "source": [
    "print(os.listdir(nltk.data.find('corpora')))"
   ]
  },
  {
   "cell_type": "code",
   "execution_count": 14,
   "id": "3c3185fe",
   "metadata": {},
   "outputs": [
    {
     "data": {
      "text/plain": [
       "['The', 'Fulton', 'County', 'Grand', 'Jury', 'said', ...]"
      ]
     },
     "execution_count": 14,
     "metadata": {},
     "output_type": "execute_result"
    }
   ],
   "source": [
    "from nltk.corpus import brown\n",
    "brown.words()"
   ]
  },
  {
   "cell_type": "code",
   "execution_count": 18,
   "id": "86890e8d",
   "metadata": {},
   "outputs": [
    {
     "name": "stdout",
     "output_type": "stream",
     "text": [
      "File IDs: ['austen-emma.txt', 'austen-persuasion.txt', 'austen-sense.txt', 'bible-kjv.txt', 'blake-poems.txt', 'bryant-stories.txt', 'burgess-busterbrown.txt', 'carroll-alice.txt', 'chesterton-ball.txt', 'chesterton-brown.txt', 'chesterton-thursday.txt', 'edgeworth-parents.txt', 'melville-moby_dick.txt', 'milton-paradise.txt', 'shakespeare-caesar.txt', 'shakespeare-hamlet.txt', 'shakespeare-macbeth.txt', 'whitman-leaves.txt']\n",
      "First 10 words from the first file: ['[', 'Emma', 'by', 'Jane', 'Austen', '1816', ']', 'VOLUME', 'I', 'CHAPTER']\n",
      "First 2 sentences from the second file: [['[', 'Persuasion', 'by', 'Jane', 'Austen', '1818', ']'], ['Chapter', '1']]\n"
     ]
    }
   ],
   "source": [
    "from nltk.corpus import gutenberg\n",
    "\n",
    "# Get a list of file identifiers\n",
    "file_ids = gutenberg.fileids()\n",
    "print(f\"File IDs: {file_ids}\")\n",
    "\n",
    "# Get the words from the first file\n",
    "first_file_words = gutenberg.words(file_ids[0])\n",
    "print(f\"First 10 words from the first file: {first_file_words[:10]}\")\n",
    "\n",
    "# Get the sentences from the second file\n",
    "second_file_sents = gutenberg.sents(file_ids[1])\n",
    "print(f\"First 2 sentences from the second file: {second_file_sents[:2]}\")"
   ]
  },
  {
   "cell_type": "code",
   "execution_count": null,
   "id": "32187675",
   "metadata": {},
   "outputs": [],
   "source": [
    "Let us open a text from this bible kjv"
   ]
  },
  {
   "cell_type": "code",
   "execution_count": 21,
   "id": "7846e8d7",
   "metadata": {},
   "outputs": [
    {
     "name": "stdout",
     "output_type": "stream",
     "text": [
      "['austen-emma.txt', 'austen-persuasion.txt', 'austen-sense.txt', 'bible-kjv.txt', 'blake-poems.txt', 'bryant-stories.txt', 'burgess-busterbrown.txt', 'carroll-alice.txt', 'chesterton-ball.txt', 'chesterton-brown.txt', 'chesterton-thursday.txt', 'edgeworth-parents.txt', 'melville-moby_dick.txt', 'milton-paradise.txt', 'shakespeare-caesar.txt', 'shakespeare-hamlet.txt', 'shakespeare-macbeth.txt', 'whitman-leaves.txt']\n"
     ]
    }
   ],
   "source": [
    "from nltk.corpus import gutenberg\n",
    "\n",
    "# Get a list of available file IDs\n",
    "file_ids = gutenberg.fileids()\n",
    "print(file_ids)"
   ]
  },
  {
   "cell_type": "code",
   "execution_count": 22,
   "id": "17186424",
   "metadata": {},
   "outputs": [
    {
     "name": "stdout",
     "output_type": "stream",
     "text": [
      "['bible-kjv.txt']\n"
     ]
    }
   ],
   "source": [
    "import re\n",
    "from nltk.corpus import gutenberg\n",
    "\n",
    "# Search for file IDs containing 'Bible' or 'bible'\n",
    "bible_ids = [fileid for fileid in gutenberg.fileids() if re.search(r'Bible|bible', fileid)]\n",
    "print(bible_ids)"
   ]
  },
  {
   "cell_type": "code",
   "execution_count": 23,
   "id": "fe091f3f",
   "metadata": {},
   "outputs": [
    {
     "name": "stdout",
     "output_type": "stream",
     "text": [
      "['[', 'The', 'King', 'James', 'Bible', ']', 'The', 'Old', 'Testament', 'of']\n",
      "[['[', 'The', 'King', 'James', 'Bible', ']'], ['The', 'Old', 'Testament', 'of', 'the', 'King', 'James', 'Bible']]\n"
     ]
    }
   ],
   "source": [
    "from nltk.corpus import gutenberg\n",
    "\n",
    "# Assuming the file ID is 'bible-kjv.txt'\n",
    "bible_words = gutenberg.words('bible-kjv.txt')\n",
    "bible_sents = gutenberg.sents('bible-kjv.txt')\n",
    "\n",
    "print(bible_words[:10])  # Print the first 10 words\n",
    "print(bible_sents[:2])   # Print the first 2 sentences"
   ]
  },
  {
   "cell_type": "code",
   "execution_count": null,
   "id": "7b3bb872",
   "metadata": {},
   "outputs": [],
   "source": [
    "Let us open a text from this bible kjv"
   ]
  },
  {
   "cell_type": "code",
   "execution_count": null,
   "id": "32872a53",
   "metadata": {},
   "outputs": [],
   "source": [
    "find first 100 words in bible by using forloop"
   ]
  },
  {
   "cell_type": "code",
   "execution_count": 25,
   "id": "3b817ec0",
   "metadata": {},
   "outputs": [
    {
     "name": "stdout",
     "output_type": "stream",
     "text": [
      "First 100 words in the Bible:\n",
      "[ The King James Bible ] The Old Testament of the King James Bible The First Book of Moses : Called Genesis 1 : 1 In the beginning God created the heaven and the earth . 1 : 2 And the earth was without form , and void ; and darkness was upon the face of the deep . And the Spirit of God moved upon the face of the waters . 1 : 3 And God said , Let there be light : and there was light . 1 : 4 And God saw the light , that it "
     ]
    }
   ],
   "source": [
    "from nltk.corpus import gutenberg\n",
    "\n",
    "# Get the file ID for the King James Version of the Bible\n",
    "bible_ids = [fileid for fileid in gutenberg.fileids() if re.search(r'Bible|bible', fileid)]\n",
    "bible_fileid = bible_ids[0]  # Assuming the first match is the correct file\n",
    "\n",
    "# Get the words from the Bible\n",
    "bible_words = gutenberg.words(bible_fileid)\n",
    "\n",
    "# Print the first 100 words using a for loop\n",
    "print(\"First 100 words in the Bible:\")\n",
    "for i in range(100):\n",
    "    print(bible_words[i], end=\" \")"
   ]
  },
  {
   "cell_type": "code",
   "execution_count": 26,
   "id": "20111ad2",
   "metadata": {},
   "outputs": [
    {
     "name": "stderr",
     "output_type": "stream",
     "text": [
      "[nltk_data] Downloading package gutenberg to\n",
      "[nltk_data]     C:\\Users\\Dell\\AppData\\Roaming\\nltk_data...\n",
      "[nltk_data]   Package gutenberg is already up-to-date!\n"
     ]
    },
    {
     "data": {
      "text/plain": [
       "True"
      ]
     },
     "execution_count": 26,
     "metadata": {},
     "output_type": "execute_result"
    }
   ],
   "source": [
    "import nltk\n",
    "nltk.download('gutenberg')"
   ]
  },
  {
   "cell_type": "code",
   "execution_count": null,
   "id": "c219adaf",
   "metadata": {},
   "outputs": [],
   "source": [
    "Now let us use our own word data and provide it to nltk for tokenization"
   ]
  },
  {
   "cell_type": "code",
   "execution_count": 29,
   "id": "2184cf89",
   "metadata": {},
   "outputs": [],
   "source": [
    "NLP = \"\"\"Natural Language Processing, usually shortened as NLP, is a branch of aetificial intelligence.\n",
    "The altimate object of NLPNis to read, decipher, understand, and make sense of the human languages.\n",
    "Most NLP techniques rely on machine learning to derive meaning from human Languages.\"\"\"\n"
   ]
  },
  {
   "cell_type": "code",
   "execution_count": 30,
   "id": "8236eaee",
   "metadata": {},
   "outputs": [
    {
     "data": {
      "text/plain": [
       "str"
      ]
     },
     "execution_count": 30,
     "metadata": {},
     "output_type": "execute_result"
    }
   ],
   "source": [
    "type(NLP)"
   ]
  },
  {
   "cell_type": "code",
   "execution_count": null,
   "id": "a8be8eca",
   "metadata": {},
   "outputs": [],
   "source": [
    "Use the words_tokenize functionfrom nltk to fing different tokens in given paragraph"
   ]
  },
  {
   "cell_type": "code",
   "execution_count": 31,
   "id": "c73b6a0e",
   "metadata": {},
   "outputs": [
    {
     "data": {
      "text/plain": [
       "['Natural',\n",
       " 'Language',\n",
       " 'Processing',\n",
       " ',',\n",
       " 'usually',\n",
       " 'shortened',\n",
       " 'as',\n",
       " 'NLP',\n",
       " ',',\n",
       " 'is',\n",
       " 'a',\n",
       " 'branch',\n",
       " 'of',\n",
       " 'aetificial',\n",
       " 'intelligence',\n",
       " '.',\n",
       " 'The',\n",
       " 'altimate',\n",
       " 'object',\n",
       " 'of',\n",
       " 'NLPNis',\n",
       " 'to',\n",
       " 'read',\n",
       " ',',\n",
       " 'decipher',\n",
       " ',',\n",
       " 'understand',\n",
       " ',',\n",
       " 'and',\n",
       " 'make',\n",
       " 'sense',\n",
       " 'of',\n",
       " 'the',\n",
       " 'human',\n",
       " 'languages',\n",
       " '.',\n",
       " 'Most',\n",
       " 'NLP',\n",
       " 'techniques',\n",
       " 'rely',\n",
       " 'on',\n",
       " 'machine',\n",
       " 'learning',\n",
       " 'to',\n",
       " 'derive',\n",
       " 'meaning',\n",
       " 'from',\n",
       " 'human',\n",
       " 'Languages',\n",
       " '.']"
      ]
     },
     "execution_count": 31,
     "metadata": {},
     "output_type": "execute_result"
    }
   ],
   "source": [
    "from nltk.tokenize import word_tokenize\n",
    "NLP_tokens = word_tokenize(NLP)\n",
    "NLP_tokens    "
   ]
  },
  {
   "cell_type": "code",
   "execution_count": 34,
   "id": "0b341ec8",
   "metadata": {},
   "outputs": [
    {
     "name": "stdout",
     "output_type": "stream",
     "text": [
      "70\n"
     ]
    }
   ],
   "source": [
    "print(len(NLP_tokens))"
   ]
  },
  {
   "cell_type": "code",
   "execution_count": null,
   "id": "9ea37d49",
   "metadata": {},
   "outputs": [],
   "source": [
    "Find the frequency of different words in the paragraph"
   ]
  },
  {
   "cell_type": "code",
   "execution_count": 36,
   "id": "85f4ddf6",
   "metadata": {},
   "outputs": [],
   "source": [
    "from nltk.probability import FreqDist\n",
    "\n",
    "fdist = FreqDist()"
   ]
  },
  {
   "cell_type": "code",
   "execution_count": 37,
   "id": "82875fb7",
   "metadata": {},
   "outputs": [
    {
     "name": "stdout",
     "output_type": "stream",
     "text": [
      "<FreqDist with 9 samples and 12 outcomes>\n"
     ]
    }
   ],
   "source": [
    "from nltk.probability import FreqDist\n",
    "from nltk.tokenize import word_tokenize\n",
    "\n",
    "sentence = \"This is a sample sentence. This sentence has multiple words.\"\n",
    "tokens = word_tokenize(sentence)\n",
    "\n",
    "fdist = FreqDist(tokens)\n",
    "print(fdist)"
   ]
  },
  {
   "cell_type": "code",
   "execution_count": 38,
   "id": "2eea7268",
   "metadata": {},
   "outputs": [
    {
     "name": "stdout",
     "output_type": "stream",
     "text": [
      "[('This', 2), ('sentence', 2), ('.', 2)]\n"
     ]
    }
   ],
   "source": [
    "most_common = fdist.most_common(3)\n",
    "print(most_common)"
   ]
  },
  {
   "cell_type": "code",
   "execution_count": 40,
   "id": "be75a239",
   "metadata": {},
   "outputs": [
    {
     "name": "stdout",
     "output_type": "stream",
     "text": [
      "<FreqDist with 8 samples and 9 outcomes>\n"
     ]
    }
   ],
   "source": [
    "from nltk.probability import FreqDist\n",
    "\n",
    "NLP_tokens = ['The', 'quick', 'brown', 'fox', 'jumps', 'over', 'the', 'lazy', 'dog']\n",
    "\n",
    "fdist = FreqDist()\n",
    "\n",
    "for word in NLP_tokens:\n",
    "    fdist[word.lower()] += 1\n",
    "\n",
    "print(fdist)"
   ]
  },
  {
   "cell_type": "code",
   "execution_count": 41,
   "id": "b01fe925",
   "metadata": {},
   "outputs": [
    {
     "data": {
      "text/plain": [
       "FreqDist({'the': 2, 'quick': 1, 'brown': 1, 'fox': 1, 'jumps': 1, 'over': 1, 'lazy': 1, 'dog': 1})"
      ]
     },
     "execution_count": 41,
     "metadata": {},
     "output_type": "execute_result"
    }
   ],
   "source": [
    "FreqDist({'the': 2, 'quick': 1, 'brown': 1, 'fox': 1, 'jumps': 1, 'over': 1, 'lazy': 1, 'dog': 1})"
   ]
  },
  {
   "cell_type": "code",
   "execution_count": 44,
   "id": "b151685a",
   "metadata": {},
   "outputs": [
    {
     "name": "stdout",
     "output_type": "stream",
     "text": [
      "2\n"
     ]
    }
   ],
   "source": [
    "from nltk.probability import FreqDist\n",
    "\n",
    "NLP_tokens = ['The', 'quick', 'brown', 'fox', 'jumps', 'over', 'the', 'lazy', 'dog', 'natural', 'natural']\n",
    "\n",
    "fdist = FreqDist()\n",
    "\n",
    "for word in NLP_tokens:\n",
    "    fdist[word.lower()] += 1\n",
    "\n",
    "print(fdist['natural'])"
   ]
  },
  {
   "cell_type": "code",
   "execution_count": null,
   "id": "1d6422b7",
   "metadata": {},
   "outputs": [],
   "source": [
    "Finding the distinct words in paragraph"
   ]
  },
  {
   "cell_type": "code",
   "execution_count": 43,
   "id": "b35e7668",
   "metadata": {},
   "outputs": [
    {
     "data": {
      "text/plain": [
       "8"
      ]
     },
     "execution_count": 43,
     "metadata": {},
     "output_type": "execute_result"
    }
   ],
   "source": [
    "len(fdist)"
   ]
  },
  {
   "cell_type": "code",
   "execution_count": null,
   "id": "316e3544",
   "metadata": {},
   "outputs": [],
   "source": [
    "Selecting top 5 tokens with highest frequency"
   ]
  },
  {
   "cell_type": "code",
   "execution_count": 46,
   "id": "925ed99c",
   "metadata": {},
   "outputs": [
    {
     "name": "stdout",
     "output_type": "stream",
     "text": [
      "[('the', 2), ('quick', 1), ('brown', 1), ('fox', 1), ('jumps', 1)]\n"
     ]
    }
   ],
   "source": [
    "from nltk.probability import FreqDist\n",
    "\n",
    "NLP_tokens = ['The', 'quick', 'brown', 'fox', 'jumps', 'over', 'the', 'lazy', 'dog']\n",
    "\n",
    "fdist = FreqDist()\n",
    "\n",
    "for word in NLP_tokens:\n",
    "    fdist[word.lower()] += 1\n",
    "\n",
    "fdist_top5 = fdist.most_common(5)\n",
    "print(fdist_top5)"
   ]
  },
  {
   "cell_type": "code",
   "execution_count": null,
   "id": "d93eb983",
   "metadata": {},
   "outputs": [],
   "source": [
    "Now, lets look at other tokenizer, blankline tokenizer over the same paragragh, it tokenizes based on the blank string"
   ]
  },
  {
   "cell_type": "code",
   "execution_count": 47,
   "id": "bc90cc02",
   "metadata": {},
   "outputs": [],
   "source": [
    "from nltk.tokenize import blankline_tokenize\n",
    "NLP_blank = blankline_tokenize(NLP)"
   ]
  },
  {
   "cell_type": "code",
   "execution_count": 48,
   "id": "d4cc7c96",
   "metadata": {},
   "outputs": [
    {
     "data": {
      "text/plain": [
       "['Natural Language Processing, usually shortened as NLP, is a branch of aetificial intelligence.\\nThe altimate object of NLPNis to read, decipher, understand, and make sense of the human languages.\\nMost NLP techniques rely on machine learning to derive meaning from human Languages.']"
      ]
     },
     "execution_count": 48,
     "metadata": {},
     "output_type": "execute_result"
    }
   ],
   "source": [
    "NLP_blank"
   ]
  },
  {
   "cell_type": "code",
   "execution_count": null,
   "id": "8e1c50fd",
   "metadata": {},
   "outputs": [],
   "source": [
    "To count no. of paragrphs seperated by a blankline/newline"
   ]
  },
  {
   "cell_type": "code",
   "execution_count": 56,
   "id": "46768086",
   "metadata": {},
   "outputs": [
    {
     "name": "stdout",
     "output_type": "stream",
     "text": [
      "3\n"
     ]
    }
   ],
   "source": [
    "NLP_blank = ['token1', 'token2', 'token3']\n",
    "print(len(NLP_blank))"
   ]
  },
  {
   "cell_type": "code",
   "execution_count": 53,
   "id": "6e0abcf5",
   "metadata": {},
   "outputs": [
    {
     "name": "stdout",
     "output_type": "stream",
     "text": [
      "The ultimate objective of NLP is to read, decipher, understand, and make sense of the s in a manner that is valuable\n"
     ]
    }
   ],
   "source": [
    "NLP_objective \n",
    "print(NLP_objective)"
   ]
  },
  {
   "cell_type": "code",
   "execution_count": 57,
   "id": "c127c6c9",
   "metadata": {},
   "outputs": [
    {
     "data": {
      "text/plain": [
       "'token2'"
      ]
     },
     "execution_count": 57,
     "metadata": {},
     "output_type": "execute_result"
    }
   ],
   "source": [
    "NLP_blank[1]"
   ]
  },
  {
   "cell_type": "code",
   "execution_count": 58,
   "id": "305f97b0",
   "metadata": {},
   "outputs": [],
   "source": [
    "from nltk.util import bigrams, trigrams, ngrams"
   ]
  },
  {
   "cell_type": "code",
   "execution_count": 59,
   "id": "bc70db75",
   "metadata": {},
   "outputs": [
    {
     "data": {
      "text/plain": [
       "[('The', 'quick'),\n",
       " ('quick', 'brown'),\n",
       " ('brown', 'fox'),\n",
       " ('fox', 'jumps'),\n",
       " ('jumps', 'over'),\n",
       " ('over', 'the'),\n",
       " ('the', 'lazy'),\n",
       " ('lazy', 'dog')]"
      ]
     },
     "execution_count": 59,
     "metadata": {},
     "output_type": "execute_result"
    }
   ],
   "source": [
    "NLP_bigrams = list(nltk.bigrams(NLP_tokens))\n",
    "NLP_bigrams"
   ]
  },
  {
   "cell_type": "code",
   "execution_count": 60,
   "id": "3e4207cc",
   "metadata": {},
   "outputs": [
    {
     "data": {
      "text/plain": [
       "[('The', 'quick', 'brown'),\n",
       " ('quick', 'brown', 'fox'),\n",
       " ('brown', 'fox', 'jumps'),\n",
       " ('fox', 'jumps', 'over'),\n",
       " ('jumps', 'over', 'the'),\n",
       " ('over', 'the', 'lazy'),\n",
       " ('the', 'lazy', 'dog')]"
      ]
     },
     "execution_count": 60,
     "metadata": {},
     "output_type": "execute_result"
    }
   ],
   "source": [
    "NLP_trigrams = list(nltk.trigrams(NLP_tokens))\n",
    "NLP_trigrams"
   ]
  },
  {
   "cell_type": "code",
   "execution_count": 62,
   "id": "060355c1",
   "metadata": {},
   "outputs": [
    {
     "data": {
      "text/plain": [
       "[('The', 'quick', 'brown', 'fox'),\n",
       " ('quick', 'brown', 'fox', 'jumps'),\n",
       " ('brown', 'fox', 'jumps', 'over'),\n",
       " ('fox', 'jumps', 'over', 'the'),\n",
       " ('jumps', 'over', 'the', 'lazy'),\n",
       " ('over', 'the', 'lazy', 'dog')]"
      ]
     },
     "execution_count": 62,
     "metadata": {},
     "output_type": "execute_result"
    }
   ],
   "source": [
    "NLP_ngrams = list (nltk.ngrams(NLP_tokens, 4))\n",
    "NLP_ngrams\n"
   ]
  },
  {
   "cell_type": "code",
   "execution_count": 63,
   "id": "a591b43a",
   "metadata": {},
   "outputs": [
    {
     "data": {
      "text/plain": [
       "[('The', 'quick'),\n",
       " ('quick', 'brown'),\n",
       " ('brown', 'fox'),\n",
       " ('fox', 'jumps'),\n",
       " ('jumps', 'over'),\n",
       " ('over', 'the'),\n",
       " ('the', 'lazy'),\n",
       " ('lazy', 'dog')]"
      ]
     },
     "execution_count": 63,
     "metadata": {},
     "output_type": "execute_result"
    }
   ],
   "source": [
    "NLP_bigrams = list(nltk.bigrams(NLP_tokens))\n",
    "NLP_bigrams"
   ]
  },
  {
   "cell_type": "code",
   "execution_count": 64,
   "id": "d6a41614",
   "metadata": {},
   "outputs": [
    {
     "data": {
      "text/plain": [
       "[('The', 'quick', 'brown'),\n",
       " ('quick', 'brown', 'fox'),\n",
       " ('brown', 'fox', 'jumps'),\n",
       " ('fox', 'jumps', 'over'),\n",
       " ('jumps', 'over', 'the'),\n",
       " ('over', 'the', 'lazy'),\n",
       " ('the', 'lazy', 'dog')]"
      ]
     },
     "execution_count": 64,
     "metadata": {},
     "output_type": "execute_result"
    }
   ],
   "source": [
    "NLP_trigrams = list(nltk.trigrams(NLP_tokens))\n",
    "NLP_trigrams"
   ]
  },
  {
   "cell_type": "code",
   "execution_count": null,
   "id": "4ff03f59",
   "metadata": {},
   "outputs": [],
   "source": [
    "Stopwords"
   ]
  },
  {
   "cell_type": "code",
   "execution_count": 65,
   "id": "4be29bed",
   "metadata": {},
   "outputs": [
    {
     "name": "stdout",
     "output_type": "stream",
     "text": [
      "{'be', 'so', 'why', 't', 'not', 'o', 'it', 'to', 'all', 'both', 'now', 'over', 'weren', 'yourselves', 'which', 'into', 'ma', \"it's\", 'and', 'shan', 'who', 'about', 'in', 'what', 'ain', 'ourselves', 'doing', 'y', 'from', 'few', 'their', 'than', 'i', \"hadn't\", 'wasn', 'until', 'that', 'if', 'd', \"shouldn't\", 'did', 'hers', 's', 'my', 'haven', 'too', 'yourself', 'he', 'her', 'am', 'himself', 'between', \"don't\", \"didn't\", 'any', 'm', 'after', 'his', \"mustn't\", 'of', \"shan't\", 'or', 'hadn', 'couldn', 'a', 'down', 'she', 'just', 'your', 'only', \"isn't\", 'for', 'll', 'been', 'most', 'at', \"you'll\", 'these', 'mightn', 'how', 'needn', 'on', 'during', \"aren't\", 'the', 'will', 'this', 'where', 'no', 'aren', 'then', 'further', 'mustn', 'myself', 'under', 've', 'more', 'shouldn', 'can', 'there', \"should've\", 're', \"you've\", 'same', 'having', 'were', 'yours', 'didn', \"you'd\", 'nor', 'very', \"mightn't\", 'herself', 'each', 'own', \"wouldn't\", 'we', 'being', 'such', \"weren't\", 'other', 'because', 'do', 'wouldn', 'its', 'you', 'should', \"couldn't\", 'him', 'was', 'them', 'while', 'up', 'theirs', 'when', 'ours', 'is', 'isn', 'has', 'don', \"needn't\", \"haven't\", 'above', 'won', 'those', 'with', \"wasn't\", 'as', 'had', 'before', 'hasn', \"she's\", 'through', 'against', \"doesn't\", 'once', 'some', \"won't\", 'again', \"that'll\", 'here', 'does', 'they', 'whom', 'but', 'by', 'doesn', 'our', 'have', 'out', 'below', 'itself', 'themselves', 'me', \"you're\", 'an', 'off', \"hasn't\", 'are'}\n"
     ]
    }
   ],
   "source": [
    "from nltk.corpus import stopwords\n",
    "stop_words = set(stopwords.words(\"english\"))\n",
    "print(stop_words)"
   ]
  },
  {
   "cell_type": "code",
   "execution_count": 67,
   "id": "70aa1c3a",
   "metadata": {},
   "outputs": [
    {
     "name": "stdout",
     "output_type": "stream",
     "text": [
      "['This', 'is', 'a', 'sample', 'sentence', 'for', 'NLP', 'processing', '.']\n",
      "['sample', 'sentence', 'NLP', 'processing', '.']\n"
     ]
    }
   ],
   "source": [
    "from nltk.corpus import stopwords\n",
    "from nltk.tokenize import word_tokenize\n",
    "\n",
    "# Define a sample sentence\n",
    "sentence = \"This is a sample sentence for NLP processing.\"\n",
    "\n",
    "# Tokenize the sentence into words\n",
    "NLP_tokens = word_tokenize(sentence)\n",
    "print(NLP_tokens)\n",
    "\n",
    "# Define the set of stop words\n",
    "stop_words = set(stopwords.words('english'))\n",
    "\n",
    "# Filter out stop words from NLP_tokens\n",
    "filtered_sen = []\n",
    "for w in NLP_tokens:\n",
    "    if w.lower() not in stop_words:\n",
    "        filtered_sen.append(w)\n",
    "\n",
    "print(filtered_sen)"
   ]
  },
  {
   "cell_type": "code",
   "execution_count": 69,
   "id": "5990a4a3",
   "metadata": {},
   "outputs": [
    {
     "name": "stdout",
     "output_type": "stream",
     "text": [
      "Natural Language Processing, usually shortened as NLP, is a branch of artificial intelligence.\n",
      "\n",
      "The ultimate objective of NLP is to read, decipher, understand, and make sense of the human languages.\n",
      "\n",
      "Most NLP techniques rely on machine learning to derive meaning from human languages.\n"
     ]
    }
   ],
   "source": [
    "nlp_text \n",
    "\n",
    "print(nlp_text)"
   ]
  },
  {
   "cell_type": "code",
   "execution_count": 78,
   "id": "feb71874",
   "metadata": {},
   "outputs": [
    {
     "name": "stdout",
     "output_type": "stream",
     "text": [
      "'Natural Language Processing, usually shortened as NLP, is a branch of artificial intelligence.\n",
      "\n",
      "The ultimate objective of NLP is to read, decipher, understand, and make sense of the human languages.\n",
      "\n",
      "Most NLP techniques rely on machine learning to derive meaning from human languages.''Natural Language Processing, usually shortened as NLP, is a branch of artificial intelligence.\n",
      "\n",
      "The ultimate objective of NLP is to read, decipher, understand, and make sense of the human languages.\n",
      "\n",
      "Most NLP techniques rely on machine learning to derive meaning from human languages.''Natural Language Processing, usually shortened as NLP, is a branch of artificial intelligence.\n",
      "\n",
      "The ultimate objective of NLP is to read, decipher, understand, and make sense of the human languages.\n",
      "\n",
      "Most NLP techniques rely on machine learning to derive meaning from human languages.''Natural Language Processing, usually shortened as NLP, is a branch of artificial intelligence.\n",
      "\n",
      "The ultimate objective of NLP is to read, decipher, understand, and make sense of the human languages.\n",
      "\n",
      "Most NLP techniques rely on machine learning to derive meaning from human languages.'\n"
     ]
    }
   ],
   "source": [
    "paragraph = '''\\'Natural Language Processing, usually shortened as NLP, is a branch of artificial intelligence.\n",
    "\n",
    "The ultimate objective of NLP is to read, decipher, understand, and make sense of the human languages.\n",
    "\n",
    "Most NLP techniques rely on machine learning to derive meaning from human languages.\\''''\n",
    "\n",
    "print(paragraph * 4)"
   ]
  },
  {
   "cell_type": "code",
   "execution_count": 79,
   "id": "dc1a5c04",
   "metadata": {},
   "outputs": [
    {
     "name": "stdout",
     "output_type": "stream",
     "text": [
      "['This', 'sample', 'sentence', 'NLP', 'processing', '.']\n"
     ]
    }
   ],
   "source": [
    "filtered_sent = [w for w in NLP_tokens if not w in stop_words]\n",
    "print(filtered_sent)"
   ]
  },
  {
   "cell_type": "code",
   "execution_count": null,
   "id": "415cf0cc",
   "metadata": {},
   "outputs": [],
   "source": [
    "Stemming"
   ]
  },
  {
   "cell_type": "code",
   "execution_count": 81,
   "id": "e22c3265",
   "metadata": {},
   "outputs": [
    {
     "name": "stdout",
     "output_type": "stream",
     "text": [
      "python\n",
      "python\n",
      "pythonli\n",
      "python\n"
     ]
    }
   ],
   "source": [
    "from nltk.stem import PorterStemmer\n",
    "\n",
    "ps = PorterStemmer()\n",
    "\n",
    "sample_words = ['python', 'pythoning', 'pythonly', 'pythoned']\n",
    "\n",
    "for w in sample_words:\n",
    "    print(ps.stem(w))"
   ]
  },
  {
   "cell_type": "code",
   "execution_count": 82,
   "id": "9281a017",
   "metadata": {},
   "outputs": [
    {
     "name": "stdout",
     "output_type": "stream",
     "text": [
      "thi\n",
      "is\n",
      "a\n",
      "sampl\n",
      "sentenc\n",
      "for\n",
      "nlp\n",
      "process\n",
      ".\n"
     ]
    }
   ],
   "source": [
    "for w in NLP_tokens:\n",
    "    print(ps.stem(w))"
   ]
  },
  {
   "cell_type": "code",
   "execution_count": null,
   "id": "02d167a2",
   "metadata": {},
   "outputs": [],
   "source": [
    "POS Tagging"
   ]
  },
  {
   "cell_type": "code",
   "execution_count": 84,
   "id": "9b01c6ca",
   "metadata": {},
   "outputs": [
    {
     "name": "stdout",
     "output_type": "stream",
     "text": [
      "[('PRESIDENT', 'NNP'), ('GEORGE', 'NNP'), ('W.', 'NNP'), ('BUSH', 'NNP'), (\"'S\", 'POS'), ('ADDRESS', 'NNP'), ('BEFORE', 'IN'), ('A', 'NNP'), ('JOINT', 'NNP'), ('SESSION', 'NNP'), ('OF', 'IN'), ('THE', 'NNP'), ('CONGRESS', 'NNP'), ('ON', 'NNP'), ('THE', 'NNP'), ('STATE', 'NNP'), ('OF', 'IN'), ('THE', 'NNP'), ('UNION', 'NNP'), ('February', 'NNP'), ('2', 'CD'), (',', ','), ('2005', 'CD'), ('9:10', 'CD'), ('P.M.', 'NNP'), ('EST', 'NNP'), ('THE', 'NNP'), ('PRESIDENT', 'NNP'), (':', ':'), ('Mr.', 'NNP'), ('Speaker', 'NNP'), (',', ','), ('Vice', 'NNP'), ('President', 'NNP'), ('Cheney', 'NNP'), (',', ','), ('members', 'NNS'), ('of', 'IN'), ('Congress', 'NNP'), (',', ','), ('fellow', 'JJ'), ('citizens', 'NNS'), (':', ':'), ('As', 'IN'), ('a', 'DT'), ('new', 'JJ'), ('Congress', 'NNP'), ('gathers', 'NNS'), (',', ','), ('all', 'DT'), ('of', 'IN'), ('us', 'PRP'), ('in', 'IN'), ('the', 'DT'), ('elected', 'JJ'), ('branches', 'NNS'), ('of', 'IN'), ('government', 'NN'), ('share', 'NN'), ('a', 'DT'), ('great', 'JJ'), ('privilege', 'NN'), (':', ':'), ('We', 'PRP'), (\"'ve\", 'VBP'), ('been', 'VBN'), ('placed', 'VBN'), ('in', 'IN'), ('office', 'NN'), ('by', 'IN'), ('the', 'DT'), ('votes', 'NNS'), ('of', 'IN'), ('the', 'DT'), ('people', 'NNS'), ('we', 'PRP'), ('serve', 'VBP'), ('.', '.')]\n",
      "[('And', 'CC'), ('tonight', 'NN'), ('that', 'WDT'), ('is', 'VBZ'), ('a', 'DT'), ('privilege', 'NN'), ('we', 'PRP'), ('share', 'NN'), ('with', 'IN'), ('newly-elected', 'JJ'), ('leaders', 'NNS'), ('of', 'IN'), ('Afghanistan', 'NNP'), (',', ','), ('the', 'DT'), ('Palestinian', 'JJ'), ('Territories', 'NNP'), (',', ','), ('Ukraine', 'NNP'), (',', ','), ('and', 'CC'), ('a', 'DT'), ('free', 'JJ'), ('and', 'CC'), ('sovereign', 'JJ'), ('Iraq', 'NNP'), ('.', '.')]\n",
      "[('(', '('), ('Applause', 'NNP'), ('.', '.'), (')', ')')]\n",
      "[('Two', 'CD'), ('weeks', 'NNS'), ('ago', 'RB'), (',', ','), ('I', 'PRP'), ('stood', 'VBD'), ('on', 'IN'), ('the', 'DT'), ('steps', 'NNS'), ('of', 'IN'), ('this', 'DT'), ('Capitol', 'NNP'), ('and', 'CC'), ('renewed', 'VBN'), ('the', 'DT'), ('commitment', 'NN'), ('of', 'IN'), ('our', 'PRP$'), ('nation', 'NN'), ('to', 'TO'), ('the', 'DT'), ('guiding', 'VBG'), ('ideal', 'NN'), ('of', 'IN'), ('liberty', 'NN'), ('for', 'IN'), ('all', 'DT'), ('.', '.')]\n",
      "[('This', 'DT'), ('evening', 'NN'), ('I', 'PRP'), ('will', 'MD'), ('set', 'VB'), ('forth', 'JJ'), ('policies', 'NNS'), ('to', 'TO'), ('advance', 'VB'), ('that', 'DT'), ('ideal', 'NN'), ('at', 'IN'), ('home', 'NN'), ('and', 'CC'), ('around', 'IN'), ('the', 'DT'), ('world', 'NN'), ('.', '.')]\n",
      "[('Tonight', 'NNP'), (',', ','), ('with', 'IN'), ('a', 'DT'), ('healthy', 'JJ'), (',', ','), ('growing', 'VBG'), ('economy', 'NN'), (',', ','), ('with', 'IN'), ('more', 'JJR'), ('Americans', 'NNS'), ('going', 'VBG'), ('back', 'RB'), ('to', 'TO'), ('work', 'NN'), (',', ','), ('with', 'IN'), ('our', 'PRP$'), ('nation', 'NN'), ('an', 'DT'), ('active', 'JJ'), ('force', 'NN'), ('for', 'IN'), ('good', 'JJ'), ('in', 'IN'), ('the', 'DT'), ('world', 'NN'), ('--', ':'), ('the', 'DT'), ('state', 'NN'), ('of', 'IN'), ('our', 'PRP$'), ('union', 'NN'), ('is', 'VBZ'), ('confident', 'JJ'), ('and', 'CC'), ('strong', 'JJ'), ('.', '.')]\n",
      "[('(', '('), ('Applause', 'NNP'), ('.', '.'), (')', ')')]\n",
      "[('Our', 'PRP$'), ('generation', 'NN'), ('has', 'VBZ'), ('been', 'VBN'), ('blessed', 'VBN'), ('--', ':'), ('by', 'IN'), ('the', 'DT'), ('expansion', 'NN'), ('of', 'IN'), ('opportunity', 'NN'), (',', ','), ('by', 'IN'), ('advances', 'NNS'), ('in', 'IN'), ('medicine', 'NN'), (',', ','), ('by', 'IN'), ('the', 'DT'), ('security', 'NN'), ('purchased', 'VBN'), ('by', 'IN'), ('our', 'PRP$'), ('parents', 'NNS'), (\"'\", 'POS'), ('sacrifice', 'NN'), ('.', '.')]\n",
      "[('Now', 'RB'), (',', ','), ('as', 'IN'), ('we', 'PRP'), ('see', 'VBP'), ('a', 'DT'), ('little', 'JJ'), ('gray', 'NN'), ('in', 'IN'), ('the', 'DT'), ('mirror', 'NN'), ('--', ':'), ('or', 'CC'), ('a', 'DT'), ('lot', 'NN'), ('of', 'IN'), ('gray', 'NN'), ('--', ':'), ('(', '('), ('laughter', 'NN'), (')', ')'), ('--', ':'), ('and', 'CC'), ('we', 'PRP'), ('watch', 'VBP'), ('our', 'PRP$'), ('children', 'NNS'), ('moving', 'VBG'), ('into', 'IN'), ('adulthood', 'NN'), (',', ','), ('we', 'PRP'), ('ask', 'VBP'), ('the', 'DT'), ('question', 'NN'), (':', ':'), ('What', 'WP'), ('will', 'MD'), ('be', 'VB'), ('the', 'DT'), ('state', 'NN'), ('of', 'IN'), ('their', 'PRP$'), ('union', 'NN'), ('?', '.')]\n",
      "[('Members', 'NNS'), ('of', 'IN'), ('Congress', 'NNP'), (',', ','), ('the', 'DT'), ('choices', 'NNS'), ('we', 'PRP'), ('make', 'VBP'), ('together', 'RB'), ('will', 'MD'), ('answer', 'VB'), ('that', 'DT'), ('question', 'NN'), ('.', '.')]\n",
      "[('Over', 'IN'), ('the', 'DT'), ('next', 'JJ'), ('several', 'JJ'), ('months', 'NNS'), (',', ','), ('on', 'IN'), ('issue', 'NN'), ('after', 'IN'), ('issue', 'NN'), (',', ','), ('let', 'VB'), ('us', 'PRP'), ('do', 'VB'), ('what', 'WP'), ('Americans', 'NNPS'), ('have', 'VBP'), ('always', 'RB'), ('done', 'VBN'), (',', ','), ('and', 'CC'), ('build', 'VB'), ('a', 'DT'), ('better', 'JJR'), ('world', 'NN'), ('for', 'IN'), ('our', 'PRP$'), ('children', 'NNS'), ('and', 'CC'), ('our', 'PRP$'), ('grandchildren', 'NNS'), ('.', '.')]\n",
      "[('(', '('), ('Applause', 'NNP'), ('.', '.'), (')', ')')]\n",
      "[('First', 'RB'), (',', ','), ('we', 'PRP'), ('must', 'MD'), ('be', 'VB'), ('good', 'JJ'), ('stewards', 'NNS'), ('of', 'IN'), ('this', 'DT'), ('economy', 'NN'), (',', ','), ('and', 'CC'), ('renew', 'VB'), ('the', 'DT'), ('great', 'JJ'), ('institutions', 'NNS'), ('on', 'IN'), ('which', 'WDT'), ('millions', 'NNS'), ('of', 'IN'), ('our', 'PRP$'), ('fellow', 'JJ'), ('citizens', 'NNS'), ('rely', 'RB'), ('.', '.')]\n",
      "[('America', 'NNP'), (\"'s\", 'POS'), ('economy', 'NN'), ('is', 'VBZ'), ('the', 'DT'), ('fastest', 'JJS'), ('growing', 'NN'), ('of', 'IN'), ('any', 'DT'), ('major', 'JJ'), ('industrialized', 'VBN'), ('nation', 'NN'), ('.', '.')]\n",
      "[('In', 'IN'), ('the', 'DT'), ('past', 'JJ'), ('four', 'CD'), ('years', 'NNS'), (',', ','), ('we', 'PRP'), ('provided', 'VBD'), ('tax', 'NN'), ('relief', 'NN'), ('to', 'TO'), ('every', 'DT'), ('person', 'NN'), ('who', 'WP'), ('pays', 'VBZ'), ('income', 'NN'), ('taxes', 'NNS'), (',', ','), ('overcome', 'VBP'), ('a', 'DT'), ('recession', 'NN'), (',', ','), ('opened', 'VBD'), ('up', 'RP'), ('new', 'JJ'), ('markets', 'NNS'), ('abroad', 'RB'), (',', ','), ('prosecuted', 'JJ'), ('corporate', 'JJ'), ('criminals', 'NNS'), (',', ','), ('raised', 'VBD'), ('homeownership', 'NN'), ('to', 'TO'), ('its', 'PRP$'), ('highest', 'JJS'), ('level', 'NN'), ('in', 'IN'), ('history', 'NN'), (',', ','), ('and', 'CC'), ('in', 'IN'), ('the', 'DT'), ('last', 'JJ'), ('year', 'NN'), ('alone', 'RB'), (',', ','), ('the', 'DT'), ('United', 'NNP'), ('States', 'NNPS'), ('has', 'VBZ'), ('added', 'VBN'), ('2.3', 'CD'), ('million', 'CD'), ('new', 'JJ'), ('jobs', 'NNS'), ('.', '.')]\n",
      "[('(', '('), ('Applause', 'NNP'), ('.', '.'), (')', ')')]\n",
      "[('When', 'WRB'), ('action', 'NN'), ('was', 'VBD'), ('needed', 'VBN'), (',', ','), ('the', 'DT'), ('Congress', 'NNP'), ('delivered', 'VBN'), ('--', ':'), ('and', 'CC'), ('the', 'DT'), ('nation', 'NN'), ('is', 'VBZ'), ('grateful', 'JJ'), ('.', '.')]\n",
      "[('Now', 'RB'), ('we', 'PRP'), ('must', 'MD'), ('add', 'VB'), ('to', 'TO'), ('these', 'DT'), ('achievements', 'NNS'), ('.', '.')]\n",
      "[('By', 'IN'), ('making', 'VBG'), ('our', 'PRP$'), ('economy', 'NN'), ('more', 'RBR'), ('flexible', 'JJ'), (',', ','), ('more', 'RBR'), ('innovative', 'JJ'), (',', ','), ('and', 'CC'), ('more', 'RBR'), ('competitive', 'JJ'), (',', ','), ('we', 'PRP'), ('will', 'MD'), ('keep', 'VB'), ('America', 'NNP'), ('the', 'DT'), ('economic', 'JJ'), ('leader', 'NN'), ('of', 'IN'), ('the', 'DT'), ('world', 'NN'), ('.', '.')]\n",
      "[('(', '('), ('Applause', 'NNP'), ('.', '.'), (')', ')')]\n",
      "[('America', 'NNP'), (\"'s\", 'POS'), ('prosperity', 'NN'), ('requires', 'VBZ'), ('restraining', 'VBG'), ('the', 'DT'), ('spending', 'NN'), ('appetite', 'NN'), ('of', 'IN'), ('the', 'DT'), ('federal', 'JJ'), ('government', 'NN'), ('.', '.')]\n",
      "[('I', 'PRP'), ('welcome', 'VBP'), ('the', 'DT'), ('bipartisan', 'JJ'), ('enthusiasm', 'NN'), ('for', 'IN'), ('spending', 'NN'), ('discipline', 'NN'), ('.', '.')]\n",
      "[('I', 'PRP'), ('will', 'MD'), ('send', 'VB'), ('you', 'PRP'), ('a', 'DT'), ('budget', 'NN'), ('that', 'WDT'), ('holds', 'VBZ'), ('the', 'DT'), ('growth', 'NN'), ('of', 'IN'), ('discretionary', 'JJ'), ('spending', 'NN'), ('below', 'IN'), ('inflation', 'NN'), (',', ','), ('makes', 'VBZ'), ('tax', 'NN'), ('relief', 'NN'), ('permanent', 'NN'), (',', ','), ('and', 'CC'), ('stays', 'NNS'), ('on', 'IN'), ('track', 'NN'), ('to', 'TO'), ('cut', 'VB'), ('the', 'DT'), ('deficit', 'NN'), ('in', 'IN'), ('half', 'NN'), ('by', 'IN'), ('2009', 'CD'), ('.', '.')]\n",
      "[('(', '('), ('Applause', 'NNP'), ('.', '.'), (')', ')')]\n",
      "[('My', 'PRP$'), ('budget', 'NN'), ('substantially', 'RB'), ('reduces', 'VBZ'), ('or', 'CC'), ('eliminates', 'VBZ'), ('more', 'JJR'), ('than', 'IN'), ('150', 'CD'), ('government', 'NN'), ('programs', 'NNS'), ('that', 'WDT'), ('are', 'VBP'), ('not', 'RB'), ('getting', 'VBG'), ('results', 'NNS'), (',', ','), ('or', 'CC'), ('duplicate', 'VB'), ('current', 'JJ'), ('efforts', 'NNS'), (',', ','), ('or', 'CC'), ('do', 'VBP'), ('not', 'RB'), ('fulfill', 'VB'), ('essential', 'JJ'), ('priorities', 'NNS'), ('.', '.')]\n",
      "[('The', 'DT'), ('principle', 'NN'), ('here', 'RB'), ('is', 'VBZ'), ('clear', 'JJ'), (':', ':'), ('Taxpayer', 'NN'), ('dollars', 'NNS'), ('must', 'MD'), ('be', 'VB'), ('spent', 'VBN'), ('wisely', 'RB'), (',', ','), ('or', 'CC'), ('not', 'RB'), ('at', 'IN'), ('all', 'DT'), ('.', '.')]\n",
      "[('(', '('), ('Applause', 'NNP'), ('.', '.'), (')', ')')]\n",
      "[('To', 'TO'), ('make', 'VB'), ('our', 'PRP$'), ('economy', 'NN'), ('stronger', 'JJR'), ('and', 'CC'), ('more', 'RBR'), ('dynamic', 'JJ'), (',', ','), ('we', 'PRP'), ('must', 'MD'), ('prepare', 'VB'), ('a', 'DT'), ('rising', 'VBG'), ('generation', 'NN'), ('to', 'TO'), ('fill', 'VB'), ('the', 'DT'), ('jobs', 'NNS'), ('of', 'IN'), ('the', 'DT'), ('21st', 'JJ'), ('century', 'NN'), ('.', '.')]\n",
      "[('Under', 'IN'), ('the', 'DT'), ('No', 'NNP'), ('Child', 'NNP'), ('Left', 'NNP'), ('Behind', 'NNP'), ('Act', 'NNP'), (',', ','), ('standards', 'NNS'), ('are', 'VBP'), ('higher', 'JJR'), (',', ','), ('test', 'NN'), ('scores', 'NNS'), ('are', 'VBP'), ('on', 'IN'), ('the', 'DT'), ('rise', 'NN'), (',', ','), ('and', 'CC'), ('we', 'PRP'), (\"'re\", 'VBP'), ('closing', 'VBG'), ('the', 'DT'), ('achievement', 'NN'), ('gap', 'NN'), ('for', 'IN'), ('minority', 'NN'), ('students', 'NNS'), ('.', '.')]\n",
      "[('Now', 'RB'), ('we', 'PRP'), ('must', 'MD'), ('demand', 'VB'), ('better', 'JJR'), ('results', 'NNS'), ('from', 'IN'), ('our', 'PRP$'), ('high', 'JJ'), ('schools', 'NNS'), (',', ','), ('so', 'RB'), ('every', 'DT'), ('high', 'JJ'), ('school', 'NN'), ('diploma', 'NN'), ('is', 'VBZ'), ('a', 'DT'), ('ticket', 'NN'), ('to', 'TO'), ('success', 'NN'), ('.', '.')]\n",
      "[('We', 'PRP'), ('will', 'MD'), ('help', 'VB'), ('an', 'DT'), ('additional', 'JJ'), ('200,000', 'CD'), ('workers', 'NNS'), ('to', 'TO'), ('get', 'VB'), ('training', 'NN'), ('for', 'IN'), ('a', 'DT'), ('better', 'JJR'), ('career', 'NN'), (',', ','), ('by', 'IN'), ('reforming', 'VBG'), ('our', 'PRP$'), ('job', 'NN'), ('training', 'NN'), ('system', 'NN'), ('and', 'CC'), ('strengthening', 'VBG'), ('America', 'NNP'), (\"'s\", 'POS'), ('community', 'NN'), ('colleges', 'NNS'), ('.', '.')]\n",
      "[('And', 'CC'), ('we', 'PRP'), (\"'ll\", 'MD'), ('make', 'VB'), ('it', 'PRP'), ('easier', 'JJR'), ('for', 'IN'), ('Americans', 'NNPS'), ('to', 'TO'), ('afford', 'VB'), ('a', 'DT'), ('college', 'NN'), ('education', 'NN'), (',', ','), ('by', 'IN'), ('increasing', 'VBG'), ('the', 'DT'), ('size', 'NN'), ('of', 'IN'), ('Pell', 'NNP'), ('Grants', 'NNP'), ('.', '.')]\n",
      "[('(', '('), ('Applause', 'NNP'), ('.', '.'), (')', ')')]\n",
      "[('To', 'TO'), ('make', 'VB'), ('our', 'PRP$'), ('economy', 'NN'), ('stronger', 'JJR'), ('and', 'CC'), ('more', 'RBR'), ('competitive', 'JJ'), (',', ','), ('America', 'NNP'), ('must', 'MD'), ('reward', 'VB'), (',', ','), ('not', 'RB'), ('punish', 'VB'), (',', ','), ('the', 'DT'), ('efforts', 'NNS'), ('and', 'CC'), ('dreams', 'NNS'), ('of', 'IN'), ('entrepreneurs', 'NNS'), ('.', '.')]\n",
      "[('Small', 'JJ'), ('business', 'NN'), ('is', 'VBZ'), ('the', 'DT'), ('path', 'NN'), ('of', 'IN'), ('advancement', 'NN'), (',', ','), ('especially', 'RB'), ('for', 'IN'), ('women', 'NNS'), ('and', 'CC'), ('minorities', 'NNS'), (',', ','), ('so', 'IN'), ('we', 'PRP'), ('must', 'MD'), ('free', 'VB'), ('small', 'JJ'), ('businesses', 'NNS'), ('from', 'IN'), ('needless', 'JJ'), ('regulation', 'NN'), ('and', 'CC'), ('protect', 'JJ'), ('honest', 'JJS'), ('job-creators', 'NNS'), ('from', 'IN'), ('junk', 'NN'), ('lawsuits', 'NNS'), ('.', '.')]\n",
      "[('(', '('), ('Applause', 'NNP'), ('.', '.'), (')', ')')]\n",
      "[('Justice', 'NNP'), ('is', 'VBZ'), ('distorted', 'VBN'), (',', ','), ('and', 'CC'), ('our', 'PRP$'), ('economy', 'NN'), ('is', 'VBZ'), ('held', 'VBN'), ('back', 'RB'), ('by', 'IN'), ('irresponsible', 'JJ'), ('class-actions', 'NNS'), ('and', 'CC'), ('frivolous', 'JJ'), ('asbestos', 'NN'), ('claims', 'NNS'), ('--', ':'), ('and', 'CC'), ('I', 'PRP'), ('urge', 'VBP'), ('Congress', 'NNP'), ('to', 'TO'), ('pass', 'VB'), ('legal', 'JJ'), ('reforms', 'NNS'), ('this', 'DT'), ('year', 'NN'), ('.', '.')]\n",
      "[('(', '('), ('Applause', 'NNP'), ('.', '.'), (')', ')')]\n",
      "[('To', 'TO'), ('make', 'VB'), ('our', 'PRP$'), ('economy', 'NN'), ('stronger', 'JJR'), ('and', 'CC'), ('more', 'RBR'), ('productive', 'JJ'), (',', ','), ('we', 'PRP'), ('must', 'MD'), ('make', 'VB'), ('health', 'NN'), ('care', 'NN'), ('more', 'RBR'), ('affordable', 'JJ'), (',', ','), ('and', 'CC'), ('give', 'VB'), ('families', 'NNS'), ('greater', 'JJR'), ('access', 'NN'), ('to', 'TO'), ('good', 'JJ'), ('coverage', 'NN'), ('--', ':'), ('(', '('), ('applause', 'NN'), (')', ')'), ('--', ':'), ('and', 'CC'), ('more', 'JJR'), ('control', 'NN'), ('over', 'IN'), ('their', 'PRP$'), ('health', 'NN'), ('decisions', 'NNS'), ('.', '.')]\n",
      "[('(', '('), ('Applause', 'NNP'), ('.', '.'), (')', ')')]\n",
      "[('I', 'PRP'), ('ask', 'VBP'), ('Congress', 'NNP'), ('to', 'TO'), ('move', 'VB'), ('forward', 'RB'), ('on', 'IN'), ('a', 'DT'), ('comprehensive', 'JJ'), ('health', 'NN'), ('care', 'NN'), ('agenda', 'NN'), ('with', 'IN'), ('tax', 'NN'), ('credits', 'NNS'), ('to', 'TO'), ('help', 'VB'), ('low-income', 'JJ'), ('workers', 'NNS'), ('buy', 'VBP'), ('insurance', 'NN'), (',', ','), ('a', 'DT'), ('community', 'NN'), ('health', 'NN'), ('center', 'NN'), ('in', 'IN'), ('every', 'DT'), ('poor', 'JJ'), ('country', 'NN'), (',', ','), ('improved', 'VBN'), ('information', 'NN'), ('technology', 'NN'), ('to', 'TO'), ('prevent', 'VB'), ('medical', 'JJ'), ('error', 'NN'), ('and', 'CC'), ('needless', 'NN'), ('costs', 'NNS'), (',', ','), ('association', 'NN'), ('health', 'NN'), ('plans', 'NNS'), ('for', 'IN'), ('small', 'JJ'), ('businesses', 'NNS'), ('and', 'CC'), ('their', 'PRP$'), ('employees', 'NNS'), ('--', ':'), ('(', '('), ('applause', 'NN'), (')', ')'), ('--', ':'), ('expanded', 'VBD'), ('health', 'NN'), ('savings', 'NNS'), ('accounts', 'NNS'), ('--', ':'), ('(', '('), ('applause', 'NN'), (')', ')'), ('--', ':'), ('and', 'CC'), ('medical', 'JJ'), ('liability', 'NN'), ('reform', 'NN'), ('that', 'WDT'), ('will', 'MD'), ('reduce', 'VB'), ('health', 'NN'), ('care', 'NN'), ('costs', 'NNS'), ('and', 'CC'), ('make', 'VB'), ('sure', 'JJ'), ('patients', 'NNS'), ('have', 'VBP'), ('the', 'DT'), ('doctors', 'NNS'), ('and', 'CC'), ('care', 'NN'), ('they', 'PRP'), ('need', 'VBP'), ('.', '.')]\n",
      "[('(', '('), ('Applause', 'NNP'), ('.', '.'), (')', ')')]\n",
      "[('To', 'TO'), ('keep', 'VB'), ('our', 'PRP$'), ('economy', 'NN'), ('growing', 'VBG'), (',', ','), ('we', 'PRP'), ('also', 'RB'), ('need', 'VBP'), ('reliable', 'JJ'), ('supplies', 'NNS'), ('of', 'IN'), ('affordable', 'JJ'), (',', ','), ('environmentally', 'RB'), ('responsible', 'JJ'), ('energy', 'NN'), ('.', '.')]\n",
      "[('(', '('), ('Applause', 'NNP'), ('.', '.'), (')', ')')]\n",
      "[('Nearly', 'RB'), ('four', 'CD'), ('years', 'NNS'), ('ago', 'RB'), (',', ','), ('I', 'PRP'), ('submitted', 'VBD'), ('a', 'DT'), ('comprehensive', 'JJ'), ('energy', 'NN'), ('strategy', 'NN'), ('that', 'WDT'), ('encourages', 'VBZ'), ('conservation', 'NN'), (',', ','), ('alternative', 'JJ'), ('sources', 'NNS'), (',', ','), ('a', 'DT'), ('modernized', 'JJ'), ('electricity', 'NN'), ('grid', 'NN'), (',', ','), ('and', 'CC'), ('more', 'JJR'), ('production', 'NN'), ('here', 'RB'), ('at', 'IN'), ('home', 'NN'), ('--', ':'), ('including', 'VBG'), ('safe', 'JJ'), (',', ','), ('clean', 'JJ'), ('nuclear', 'JJ'), ('energy', 'NN'), ('.', '.')]\n",
      "[('(', '('), ('Applause', 'NNP'), ('.', '.'), (')', ')')]\n",
      "[('My', 'PRP$'), ('Clear', 'JJ'), ('Skies', 'NNPS'), ('legislation', 'NN'), ('will', 'MD'), ('cut', 'VB'), ('power', 'NN'), ('plant', 'NN'), ('pollution', 'NN'), ('and', 'CC'), ('improve', 'VB'), ('the', 'DT'), ('health', 'NN'), ('of', 'IN'), ('our', 'PRP$'), ('citizens', 'NNS'), ('.', '.')]\n",
      "[('(', '('), ('Applause', 'NNP'), ('.', '.'), (')', ')')]\n",
      "[('And', 'CC'), ('my', 'PRP$'), ('budget', 'NN'), ('provides', 'VBZ'), ('strong', 'JJ'), ('funding', 'NN'), ('for', 'IN'), ('leading-edge', 'JJ'), ('technology', 'NN'), ('--', ':'), ('from', 'IN'), ('hydrogen-fueled', 'JJ'), ('cars', 'NNS'), (',', ','), ('to', 'TO'), ('clean', 'VB'), ('coal', 'NN'), (',', ','), ('to', 'TO'), ('renewable', 'VB'), ('sources', 'NNS'), ('such', 'JJ'), ('as', 'IN'), ('ethanol', 'NN'), ('.', '.')]\n",
      "[('(', '('), ('Applause', 'NNP'), ('.', '.'), (')', ')')]\n",
      "[('Four', 'CD'), ('years', 'NNS'), ('of', 'IN'), ('debate', 'NN'), ('is', 'VBZ'), ('enough', 'JJ'), (':', ':'), ('I', 'PRP'), ('urge', 'VBP'), ('Congress', 'NNP'), ('to', 'TO'), ('pass', 'VB'), ('legislation', 'NN'), ('that', 'WDT'), ('makes', 'VBZ'), ('America', 'NNP'), ('more', 'JJR'), ('secure', 'NN'), ('and', 'CC'), ('less', 'RBR'), ('dependent', 'JJ'), ('on', 'IN'), ('foreign', 'JJ'), ('energy', 'NN'), ('.', '.')]\n",
      "[('(', '('), ('Applause', 'NNP'), ('.', '.'), (')', ')')]\n",
      "[('All', 'PDT'), ('these', 'DT'), ('proposals', 'NNS'), ('are', 'VBP'), ('essential', 'JJ'), ('to', 'TO'), ('expand', 'VB'), ('this', 'DT'), ('economy', 'NN'), ('and', 'CC'), ('add', 'VB'), ('new', 'JJ'), ('jobs', 'NNS'), ('--', ':'), ('but', 'CC'), ('they', 'PRP'), ('are', 'VBP'), ('just', 'RB'), ('the', 'DT'), ('beginning', 'NN'), ('of', 'IN'), ('our', 'PRP$'), ('duty', 'NN'), ('.', '.')]\n",
      "[('To', 'TO'), ('build', 'VB'), ('the', 'DT'), ('prosperity', 'NN'), ('of', 'IN'), ('future', 'JJ'), ('generations', 'NNS'), (',', ','), ('we', 'PRP'), ('must', 'MD'), ('update', 'VB'), ('institutions', 'NNS'), ('that', 'WDT'), ('were', 'VBD'), ('created', 'VBN'), ('to', 'TO'), ('meet', 'VB'), ('the', 'DT'), ('needs', 'NNS'), ('of', 'IN'), ('an', 'DT'), ('earlier', 'JJR'), ('time', 'NN'), ('.', '.')]\n",
      "[('Year', 'NN'), ('after', 'IN'), ('year', 'NN'), (',', ','), ('Americans', 'NNPS'), ('are', 'VBP'), ('burdened', 'VBN'), ('by', 'IN'), ('an', 'DT'), ('archaic', 'NN'), (',', ','), ('incoherent', 'JJ'), ('federal', 'JJ'), ('tax', 'NN'), ('code', 'NN'), ('.', '.')]\n",
      "[('I', 'PRP'), (\"'ve\", 'VBP'), ('appointed', 'VBN'), ('a', 'DT'), ('bipartisan', 'JJ'), ('panel', 'NN'), ('to', 'TO'), ('examine', 'VB'), ('the', 'DT'), ('tax', 'NN'), ('code', 'NN'), ('from', 'IN'), ('top', 'JJ'), ('to', 'TO'), ('bottom', 'VB'), ('.', '.')]\n",
      "[('And', 'CC'), ('when', 'WRB'), ('their', 'PRP$'), ('recommendations', 'NNS'), ('are', 'VBP'), ('delivered', 'VBN'), (',', ','), ('you', 'PRP'), ('and', 'CC'), ('I', 'PRP'), ('will', 'MD'), ('work', 'VB'), ('together', 'RB'), ('to', 'TO'), ('give', 'VB'), ('this', 'DT'), ('nation', 'NN'), ('a', 'DT'), ('tax', 'NN'), ('code', 'NN'), ('that', 'WDT'), ('is', 'VBZ'), ('pro-growth', 'JJ'), (',', ','), ('easy', 'JJ'), ('to', 'TO'), ('understand', 'VB'), (',', ','), ('and', 'CC'), ('fair', 'JJ'), ('to', 'TO'), ('all', 'DT'), ('.', '.')]\n",
      "[('(', '('), ('Applause', 'NNP'), ('.', '.'), (')', ')')]\n",
      "[('America', 'NNP'), (\"'s\", 'POS'), ('immigration', 'NN'), ('system', 'NN'), ('is', 'VBZ'), ('also', 'RB'), ('outdated', 'VBN'), ('--', ':'), ('unsuited', 'JJ'), ('to', 'TO'), ('the', 'DT'), ('needs', 'NNS'), ('of', 'IN'), ('our', 'PRP$'), ('economy', 'NN'), ('and', 'CC'), ('to', 'TO'), ('the', 'DT'), ('values', 'NNS'), ('of', 'IN'), ('our', 'PRP$'), ('country', 'NN'), ('.', '.')]\n",
      "[('We', 'PRP'), ('should', 'MD'), ('not', 'RB'), ('be', 'VB'), ('content', 'JJ'), ('with', 'IN'), ('laws', 'NNS'), ('that', 'WDT'), ('punish', 'VBP'), ('hardworking', 'VBG'), ('people', 'NNS'), ('who', 'WP'), ('want', 'VBP'), ('only', 'RB'), ('to', 'TO'), ('provide', 'VB'), ('for', 'IN'), ('their', 'PRP$'), ('families', 'NNS'), (',', ','), ('and', 'CC'), ('deny', 'JJ'), ('businesses', 'NNS'), ('willing', 'JJ'), ('workers', 'NNS'), (',', ','), ('and', 'CC'), ('invite', 'JJ'), ('chaos', 'NN'), ('at', 'IN'), ('our', 'PRP$'), ('border', 'NN'), ('.', '.')]\n",
      "[('It', 'PRP'), ('is', 'VBZ'), ('time', 'NN'), ('for', 'IN'), ('an', 'DT'), ('immigration', 'NN'), ('policy', 'NN'), ('that', 'IN'), ('permits', 'VBZ'), ('temporary', 'JJ'), ('guest', 'NN'), ('workers', 'NNS'), ('to', 'TO'), ('fill', 'VB'), ('jobs', 'NNS'), ('Americans', 'NNPS'), ('will', 'MD'), ('not', 'RB'), ('take', 'VB'), (',', ','), ('that', 'DT'), ('rejects', 'VBZ'), ('amnesty', 'JJ'), (',', ','), ('that', 'WDT'), ('tells', 'VBZ'), ('us', 'PRP'), ('who', 'WP'), ('is', 'VBZ'), ('entering', 'VBG'), ('and', 'CC'), ('leaving', 'VBG'), ('our', 'PRP$'), ('country', 'NN'), (',', ','), ('and', 'CC'), ('that', 'IN'), ('closes', 'VBZ'), ('the', 'DT'), ('border', 'NN'), ('to', 'TO'), ('drug', 'NN'), ('dealers', 'NNS'), ('and', 'CC'), ('terrorists', 'NNS'), ('.', '.')]\n",
      "[('(', '('), ('Applause', 'NNP'), ('.', '.'), (')', ')')]\n",
      "[('One', 'CD'), ('of', 'IN'), ('America', 'NNP'), (\"'s\", 'POS'), ('most', 'RBS'), ('important', 'JJ'), ('institutions', 'NNS'), ('--', ':'), ('a', 'DT'), ('symbol', 'NN'), ('of', 'IN'), ('the', 'DT'), ('trust', 'NN'), ('between', 'IN'), ('generations', 'NNS'), ('--', ':'), ('is', 'VBZ'), ('also', 'RB'), ('in', 'IN'), ('need', 'NN'), ('of', 'IN'), ('wise', 'NN'), ('and', 'CC'), ('effective', 'JJ'), ('reform', 'NN'), ('.', '.')]\n",
      "[('Social', 'NNP'), ('Security', 'NNP'), ('was', 'VBD'), ('a', 'DT'), ('great', 'JJ'), ('moral', 'JJ'), ('success', 'NN'), ('of', 'IN'), ('the', 'DT'), ('20th', 'JJ'), ('century', 'NN'), (',', ','), ('and', 'CC'), ('we', 'PRP'), ('must', 'MD'), ('honor', 'VB'), ('its', 'PRP$'), ('great', 'JJ'), ('purposes', 'NNS'), ('in', 'IN'), ('this', 'DT'), ('new', 'JJ'), ('century', 'NN'), ('.', '.')]\n",
      "[('(', '('), ('Applause', 'NNP'), ('.', '.'), (')', ')')]\n",
      "[('The', 'DT'), ('system', 'NN'), (',', ','), ('however', 'RB'), (',', ','), ('on', 'IN'), ('its', 'PRP$'), ('current', 'JJ'), ('path', 'NN'), (',', ','), ('is', 'VBZ'), ('headed', 'VBN'), ('toward', 'IN'), ('bankruptcy', 'NN'), ('.', '.')]\n",
      "[('And', 'CC'), ('so', 'IN'), ('we', 'PRP'), ('must', 'MD'), ('join', 'VB'), ('together', 'RB'), ('to', 'TO'), ('strengthen', 'VB'), ('and', 'CC'), ('save', 'VB'), ('Social', 'NNP'), ('Security', 'NNP'), ('.', '.')]\n",
      "[('(', '('), ('Applause', 'NNP'), ('.', '.'), (')', ')')]\n",
      "[('Today', 'NN'), (',', ','), ('more', 'JJR'), ('than', 'IN'), ('45', 'CD'), ('million', 'CD'), ('Americans', 'NNPS'), ('receive', 'VBP'), ('Social', 'NNP'), ('Security', 'NNP'), ('benefits', 'NNS'), (',', ','), ('and', 'CC'), ('millions', 'NNS'), ('more', 'JJR'), ('are', 'VBP'), ('nearing', 'JJ'), ('retirement', 'NN'), ('--', ':'), ('and', 'CC'), ('for', 'IN'), ('them', 'PRP'), ('the', 'DT'), ('system', 'NN'), ('is', 'VBZ'), ('sound', 'JJ'), ('and', 'CC'), ('fiscally', 'RB'), ('strong', 'JJ'), ('.', '.')]\n",
      "[('I', 'PRP'), ('have', 'VBP'), ('a', 'DT'), ('message', 'NN'), ('for', 'IN'), ('every', 'DT'), ('American', 'NNP'), ('who', 'WP'), ('is', 'VBZ'), ('55', 'CD'), ('or', 'CC'), ('older', 'JJR'), (':', ':'), ('Do', 'VB'), ('not', 'RB'), ('let', 'VB'), ('anyone', 'NN'), ('mislead', 'VB'), ('you', 'PRP'), (';', ':'), ('for', 'IN'), ('you', 'PRP'), (',', ','), ('the', 'DT'), ('Social', 'NNP'), ('Security', 'NNP'), ('system', 'NN'), ('will', 'MD'), ('not', 'RB'), ('change', 'VB'), ('in', 'IN'), ('any', 'DT'), ('way', 'NN'), ('.', '.')]\n",
      "[('(', '('), ('Applause', 'NNP'), ('.', '.'), (')', ')')]\n",
      "[('For', 'IN'), ('younger', 'JJR'), ('workers', 'NNS'), (',', ','), ('the', 'DT'), ('Social', 'NNP'), ('Security', 'NNP'), ('system', 'NN'), ('has', 'VBZ'), ('serious', 'JJ'), ('problems', 'NNS'), ('that', 'WDT'), ('will', 'MD'), ('grow', 'VB'), ('worse', 'JJR'), ('with', 'IN'), ('time', 'NN'), ('.', '.')]\n",
      "[('Social', 'NNP'), ('Security', 'NNP'), ('was', 'VBD'), ('created', 'VBN'), ('decades', 'NNS'), ('ago', 'RB'), (',', ','), ('for', 'IN'), ('a', 'DT'), ('very', 'RB'), ('different', 'JJ'), ('era', 'NN'), ('.', '.')]\n",
      "[('In', 'IN'), ('those', 'DT'), ('days', 'NNS'), (',', ','), ('people', 'NNS'), ('did', 'VBD'), ('not', 'RB'), ('live', 'VB'), ('as', 'IN'), ('long', 'RB'), ('.', '.')]\n",
      "[('Benefits', 'NNS'), ('were', 'VBD'), ('much', 'RB'), ('lower', 'JJR'), ('than', 'IN'), ('they', 'PRP'), ('are', 'VBP'), ('today', 'NN'), ('.', '.')]\n",
      "[('And', 'CC'), ('a', 'DT'), ('half-century', 'NN'), ('ago', 'RB'), (',', ','), ('about', 'IN'), ('sixteen', 'JJ'), ('workers', 'NNS'), ('paid', 'VBN'), ('into', 'IN'), ('the', 'DT'), ('system', 'NN'), ('for', 'IN'), ('each', 'DT'), ('person', 'NN'), ('drawing', 'VBG'), ('benefits', 'NNS'), ('.', '.')]\n",
      "[('Our', 'PRP$'), ('society', 'NN'), ('has', 'VBZ'), ('changed', 'VBN'), ('in', 'IN'), ('ways', 'NNS'), ('the', 'DT'), ('founders', 'NNS'), ('of', 'IN'), ('Social', 'NNP'), ('Security', 'NNP'), ('could', 'MD'), ('not', 'RB'), ('have', 'VB'), ('foreseen', 'NN'), ('.', '.')]\n",
      "[('In', 'IN'), ('today', 'NN'), (\"'s\", 'POS'), ('world', 'NN'), (',', ','), ('people', 'NNS'), ('are', 'VBP'), ('living', 'VBG'), ('longer', 'RBR'), ('and', 'CC'), (',', ','), ('therefore', 'RB'), (',', ','), ('drawing', 'VBG'), ('benefits', 'NNS'), ('longer', 'RBR'), ('.', '.')]\n",
      "[('And', 'CC'), ('those', 'DT'), ('benefits', 'NNS'), ('are', 'VBP'), ('scheduled', 'VBN'), ('to', 'TO'), ('rise', 'VB'), ('dramatically', 'RB'), ('over', 'IN'), ('the', 'DT'), ('next', 'JJ'), ('few', 'JJ'), ('decades', 'NNS'), ('.', '.')]\n",
      "[('And', 'CC'), ('instead', 'RB'), ('of', 'IN'), ('sixteen', 'JJ'), ('workers', 'NNS'), ('paying', 'VBG'), ('in', 'IN'), ('for', 'IN'), ('every', 'DT'), ('beneficiary', 'NN'), (',', ','), ('right', 'RB'), ('now', 'RB'), ('it', 'PRP'), (\"'s\", 'VBZ'), ('only', 'RB'), ('about', 'RB'), ('three', 'CD'), ('workers', 'NNS'), ('.', '.')]\n",
      "[('And', 'CC'), ('over', 'IN'), ('the', 'DT'), ('next', 'JJ'), ('few', 'JJ'), ('decades', 'NNS'), ('that', 'IN'), ('number', 'NN'), ('will', 'MD'), ('fall', 'VB'), ('to', 'TO'), ('just', 'RB'), ('two', 'CD'), ('workers', 'NNS'), ('per', 'IN'), ('beneficiary', 'NN'), ('.', '.')]\n",
      "[('With', 'IN'), ('each', 'DT'), ('passing', 'VBG'), ('year', 'NN'), (',', ','), ('fewer', 'JJR'), ('workers', 'NNS'), ('are', 'VBP'), ('paying', 'VBG'), ('ever-higher', 'JJ'), ('benefits', 'NNS'), ('to', 'TO'), ('an', 'DT'), ('ever-larger', 'JJ'), ('number', 'NN'), ('of', 'IN'), ('retirees', 'NNS'), ('.', '.')]\n",
      "[('So', 'RB'), ('here', 'RB'), ('is', 'VBZ'), ('the', 'DT'), ('result', 'NN'), (':', ':'), ('Thirteen', 'CD'), ('years', 'NNS'), ('from', 'IN'), ('now', 'RB'), (',', ','), ('in', 'IN'), ('2018', 'CD'), (',', ','), ('Social', 'NNP'), ('Security', 'NNP'), ('will', 'MD'), ('be', 'VB'), ('paying', 'VBG'), ('out', 'IN'), ('more', 'JJR'), ('than', 'IN'), ('it', 'PRP'), ('takes', 'VBZ'), ('in', 'IN'), ('.', '.')]\n",
      "[('And', 'CC'), ('every', 'DT'), ('year', 'NN'), ('afterward', 'RB'), ('will', 'MD'), ('bring', 'VB'), ('a', 'DT'), ('new', 'JJ'), ('shortfall', 'NN'), (',', ','), ('bigger', 'JJR'), ('than', 'IN'), ('the', 'DT'), ('year', 'NN'), ('before', 'RB'), ('.', '.')]\n",
      "[('For', 'IN'), ('example', 'NN'), (',', ','), ('in', 'IN'), ('the', 'DT'), ('year', 'NN'), ('2027', 'CD'), (',', ','), ('the', 'DT'), ('government', 'NN'), ('will', 'MD'), ('somehow', 'RB'), ('have', 'VB'), ('to', 'TO'), ('come', 'VB'), ('up', 'RP'), ('with', 'IN'), ('an', 'DT'), ('extra', 'JJ'), ('$', '$'), ('200', 'CD'), ('billion', 'CD'), ('to', 'TO'), ('keep', 'VB'), ('the', 'DT'), ('system', 'NN'), ('afloat', 'NN'), ('--', ':'), ('and', 'CC'), ('by', 'IN'), ('2033', 'CD'), (',', ','), ('the', 'DT'), ('annual', 'JJ'), ('shortfall', 'NN'), ('would', 'MD'), ('be', 'VB'), ('more', 'JJR'), ('than', 'IN'), ('$', '$'), ('300', 'CD'), ('billion', 'CD'), ('.', '.')]\n",
      "[('By', 'IN'), ('the', 'DT'), ('year', 'NN'), ('2042', 'CD'), (',', ','), ('the', 'DT'), ('entire', 'JJ'), ('system', 'NN'), ('would', 'MD'), ('be', 'VB'), ('exhausted', 'VBN'), ('and', 'CC'), ('bankrupt', 'JJ'), ('.', '.')]\n",
      "[('If', 'IN'), ('steps', 'NNS'), ('are', 'VBP'), ('not', 'RB'), ('taken', 'VBN'), ('to', 'TO'), ('avert', 'VB'), ('that', 'DT'), ('outcome', 'NN'), (',', ','), ('the', 'DT'), ('only', 'JJ'), ('solutions', 'NNS'), ('would', 'MD'), ('be', 'VB'), ('dramatically', 'RB'), ('higher', 'JJR'), ('taxes', 'NNS'), (',', ','), ('massive', 'JJ'), ('new', 'JJ'), ('borrowing', 'NN'), (',', ','), ('or', 'CC'), ('sudden', 'JJ'), ('and', 'CC'), ('severe', 'JJ'), ('cuts', 'NNS'), ('in', 'IN'), ('Social', 'NNP'), ('Security', 'NNP'), ('benefits', 'NNS'), ('or', 'CC'), ('other', 'JJ'), ('government', 'NN'), ('programs', 'NNS'), ('.', '.')]\n",
      "[('I', 'PRP'), ('recognize', 'VBP'), ('that', 'IN'), ('2018', 'CD'), ('and', 'CC'), ('2042', 'CD'), ('may', 'MD'), ('seem', 'VB'), ('a', 'DT'), ('long', 'JJ'), ('way', 'NN'), ('off', 'IN'), ('.', '.')]\n",
      "[('But', 'CC'), ('those', 'DT'), ('dates', 'NNS'), ('are', 'VBP'), ('not', 'RB'), ('so', 'RB'), ('distant', 'JJ'), (',', ','), ('as', 'IN'), ('any', 'DT'), ('parent', 'NN'), ('will', 'MD'), ('tell', 'VB'), ('you', 'PRP'), ('.', '.')]\n",
      "[('If', 'IN'), ('you', 'PRP'), ('have', 'VBP'), ('a', 'DT'), ('five-year-old', 'JJ'), (',', ','), ('you', 'PRP'), (\"'re\", 'VBP'), ('already', 'RB'), ('concerned', 'VBN'), ('about', 'IN'), ('how', 'WRB'), ('you', 'PRP'), (\"'ll\", 'MD'), ('pay', 'VB'), ('for', 'IN'), ('college', 'NN'), ('tuition', 'NN'), ('13', 'CD'), ('years', 'NNS'), ('down', 'IN'), ('the', 'DT'), ('road', 'NN'), ('.', '.')]\n",
      "[('If', 'IN'), ('you', 'PRP'), (\"'ve\", 'VBP'), ('got', 'VBN'), ('children', 'NNS'), ('in', 'IN'), ('their', 'PRP$'), ('20s', 'CD'), (',', ','), ('as', 'IN'), ('some', 'DT'), ('of', 'IN'), ('us', 'PRP'), ('do', 'VBP'), (',', ','), ('the', 'DT'), ('idea', 'NN'), ('of', 'IN'), ('Social', 'NNP'), ('Security', 'NNP'), ('collapsing', 'VBG'), ('before', 'IN'), ('they', 'PRP'), ('retire', 'VBP'), ('does', 'VBZ'), ('not', 'RB'), ('seem', 'VB'), ('like', 'IN'), ('a', 'DT'), ('small', 'JJ'), ('matter', 'NN'), ('.', '.')]\n",
      "[('And', 'CC'), ('it', 'PRP'), ('should', 'MD'), ('not', 'RB'), ('be', 'VB'), ('a', 'DT'), ('small', 'JJ'), ('matter', 'NN'), ('to', 'TO'), ('the', 'DT'), ('United', 'NNP'), ('States', 'NNPS'), ('Congress', 'NNP'), ('.', '.')]\n",
      "[('(', '('), ('Applause', 'NNP'), ('.', '.'), (')', ')')]\n",
      "[('You', 'PRP'), ('and', 'CC'), ('I', 'PRP'), ('share', 'NN'), ('a', 'DT'), ('responsibility', 'NN'), ('.', '.')]\n",
      "[('We', 'PRP'), ('must', 'MD'), ('pass', 'VB'), ('reforms', 'NNS'), ('that', 'WDT'), ('solve', 'VBP'), ('the', 'DT'), ('financial', 'JJ'), ('problems', 'NNS'), ('of', 'IN'), ('Social', 'NNP'), ('Security', 'NNP'), ('once', 'RB'), ('and', 'CC'), ('for', 'IN'), ('all', 'DT'), ('.', '.')]\n",
      "[('Fixing', 'VBG'), ('Social', 'NNP'), ('Security', 'NNP'), ('permanently', 'RB'), ('will', 'MD'), ('require', 'VB'), ('an', 'DT'), ('open', 'JJ'), (',', ','), ('candid', 'JJ'), ('review', 'NN'), ('of', 'IN'), ('the', 'DT'), ('options', 'NNS'), ('.', '.')]\n",
      "[('Some', 'DT'), ('have', 'VBP'), ('suggested', 'VBN'), ('limiting', 'JJ'), ('benefits', 'NNS'), ('for', 'IN'), ('wealthy', 'JJ'), ('retirees', 'NNS'), ('.', '.')]\n",
      "[('Former', 'NNP'), ('Congressman', 'NNP'), ('Tim', 'NNP'), ('Penny', 'NNP'), ('has', 'VBZ'), ('raised', 'VBN'), ('the', 'DT'), ('possibility', 'NN'), ('of', 'IN'), ('indexing', 'VBG'), ('benefits', 'NNS'), ('to', 'TO'), ('prices', 'NNS'), ('rather', 'RB'), ('than', 'IN'), ('wages', 'NNS'), ('.', '.')]\n",
      "[('During', 'IN'), ('the', 'DT'), ('1990s', 'CD'), (',', ','), ('my', 'PRP$'), ('predecessor', 'NN'), (',', ','), ('President', 'NNP'), ('Clinton', 'NNP'), (',', ','), ('spoke', 'NN'), ('of', 'IN'), ('increasing', 'VBG'), ('the', 'DT'), ('retirement', 'NN'), ('age', 'NN'), ('.', '.')]\n",
      "[('Former', 'NNP'), ('Senator', 'NNP'), ('John', 'NNP'), ('Breaux', 'NNP'), ('suggested', 'VBD'), ('discouraging', 'VBG'), ('early', 'JJ'), ('collection', 'NN'), ('of', 'IN'), ('Social', 'NNP'), ('Security', 'NNP'), ('benefits', 'NNS'), ('.', '.')]\n",
      "[('The', 'DT'), ('late', 'JJ'), ('Senator', 'NNP'), ('Daniel', 'NNP'), ('Patrick', 'NNP'), ('Moynihan', 'NNP'), ('recommended', 'VBD'), ('changing', 'VBG'), ('the', 'DT'), ('way', 'NN'), ('benefits', 'NNS'), ('are', 'VBP'), ('calculated', 'VBN'), ('.', '.')]\n",
      "[('All', 'PDT'), ('these', 'DT'), ('ideas', 'NNS'), ('are', 'VBP'), ('on', 'IN'), ('the', 'DT'), ('table', 'NN'), ('.', '.')]\n",
      "[('I', 'PRP'), ('know', 'VBP'), ('that', 'IN'), ('none', 'NN'), ('of', 'IN'), ('these', 'DT'), ('reforms', 'NNS'), ('would', 'MD'), ('be', 'VB'), ('easy', 'JJ'), ('.', '.')]\n",
      "[('But', 'CC'), ('we', 'PRP'), ('have', 'VBP'), ('to', 'TO'), ('move', 'VB'), ('ahead', 'RB'), ('with', 'IN'), ('courage', 'NN'), ('and', 'CC'), ('honesty', 'NN'), (',', ','), ('because', 'IN'), ('our', 'PRP$'), ('children', 'NNS'), (\"'s\", 'POS'), ('retirement', 'NN'), ('security', 'NN'), ('is', 'VBZ'), ('more', 'RBR'), ('important', 'JJ'), ('than', 'IN'), ('partisan', 'JJ'), ('politics', 'NNS'), ('.', '.')]\n",
      "[('(', '('), ('Applause', 'NNP'), ('.', '.'), (')', ')')]\n",
      "[('I', 'PRP'), ('will', 'MD'), ('work', 'VB'), ('with', 'IN'), ('members', 'NNS'), ('of', 'IN'), ('Congress', 'NNP'), ('to', 'TO'), ('find', 'VB'), ('the', 'DT'), ('most', 'RBS'), ('effective', 'JJ'), ('combination', 'NN'), ('of', 'IN'), ('reforms', 'NNS'), ('.', '.')]\n",
      "[('I', 'PRP'), ('will', 'MD'), ('listen', 'VB'), ('to', 'TO'), ('anyone', 'NN'), ('who', 'WP'), ('has', 'VBZ'), ('a', 'DT'), ('good', 'JJ'), ('idea', 'NN'), ('to', 'TO'), ('offer', 'VB'), ('.', '.')]\n",
      "[('(', '('), ('Applause', 'NNP'), ('.', '.'), (')', ')')]\n",
      "[('We', 'PRP'), ('must', 'MD'), (',', ','), ('however', 'RB'), (',', ','), ('be', 'VB'), ('guided', 'VBN'), ('by', 'IN'), ('some', 'DT'), ('basic', 'JJ'), ('principles', 'NNS'), ('.', '.')]\n",
      "[('We', 'PRP'), ('must', 'MD'), ('make', 'VB'), ('Social', 'NNP'), ('Security', 'NNP'), ('permanently', 'RB'), ('sound', 'VBD'), (',', ','), ('not', 'RB'), ('leave', 'VB'), ('that', 'DT'), ('task', 'NN'), ('for', 'IN'), ('another', 'DT'), ('day', 'NN'), ('.', '.')]\n",
      "[('We', 'PRP'), ('must', 'MD'), ('not', 'RB'), ('jeopardize', 'VB'), ('our', 'PRP$'), ('economic', 'JJ'), ('strength', 'NN'), ('by', 'IN'), ('increasing', 'VBG'), ('payroll', 'NN'), ('taxes', 'NNS'), ('.', '.')]\n",
      "[('We', 'PRP'), ('must', 'MD'), ('ensure', 'VB'), ('that', 'IN'), ('lower-income', 'JJ'), ('Americans', 'NNPS'), ('get', 'VBP'), ('the', 'DT'), ('help', 'NN'), ('they', 'PRP'), ('need', 'VBP'), ('to', 'TO'), ('have', 'VB'), ('dignity', 'NN'), ('and', 'CC'), ('peace', 'NN'), ('of', 'IN'), ('mind', 'NN'), ('in', 'IN'), ('their', 'PRP$'), ('retirement', 'NN'), ('.', '.')]\n",
      "[('We', 'PRP'), ('must', 'MD'), ('guarantee', 'VB'), ('there', 'EX'), ('is', 'VBZ'), ('no', 'DT'), ('change', 'NN'), ('for', 'IN'), ('those', 'DT'), ('now', 'RB'), ('retired', 'JJ'), ('or', 'CC'), ('nearing', 'JJ'), ('retirement', 'NN'), ('.', '.')]\n",
      "[('And', 'CC'), ('we', 'PRP'), ('must', 'MD'), ('take', 'VB'), ('care', 'NN'), ('that', 'IN'), ('any', 'DT'), ('changes', 'NNS'), ('in', 'IN'), ('the', 'DT'), ('system', 'NN'), ('are', 'VBP'), ('gradual', 'JJ'), (',', ','), ('so', 'RB'), ('younger', 'JJR'), ('workers', 'NNS'), ('have', 'VBP'), ('years', 'NNS'), ('to', 'TO'), ('prepare', 'VB'), ('and', 'CC'), ('plan', 'VB'), ('for', 'IN'), ('their', 'PRP$'), ('future', 'NN'), ('.', '.')]\n",
      "[('As', 'IN'), ('we', 'PRP'), ('fix', 'VBP'), ('Social', 'JJ'), ('Security', 'NNP'), (',', ','), ('we', 'PRP'), ('also', 'RB'), ('have', 'VBP'), ('the', 'DT'), ('responsibility', 'NN'), ('to', 'TO'), ('make', 'VB'), ('the', 'DT'), ('system', 'NN'), ('a', 'DT'), ('better', 'JJR'), ('deal', 'NN'), ('for', 'IN'), ('younger', 'JJR'), ('workers', 'NNS'), ('.', '.')]\n",
      "[('And', 'CC'), ('the', 'DT'), ('best', 'JJS'), ('way', 'NN'), ('to', 'TO'), ('reach', 'VB'), ('that', 'DT'), ('goal', 'NN'), ('is', 'VBZ'), ('through', 'IN'), ('voluntary', 'JJ'), ('personal', 'JJ'), ('retirement', 'NN'), ('accounts', 'NNS'), ('.', '.')]\n",
      "[('(', '('), ('Applause', 'NNP'), ('.', '.'), (')', ')')]\n",
      "[('Here', 'RB'), ('is', 'VBZ'), ('how', 'WRB'), ('the', 'DT'), ('idea', 'NN'), ('works', 'VBZ'), ('.', '.')]\n",
      "[('Right', 'RB'), ('now', 'RB'), (',', ','), ('a', 'DT'), ('set', 'NN'), ('portion', 'NN'), ('of', 'IN'), ('the', 'DT'), ('money', 'NN'), ('you', 'PRP'), ('earn', 'VBP'), ('is', 'VBZ'), ('taken', 'VBN'), ('out', 'IN'), ('of', 'IN'), ('your', 'PRP$'), ('paycheck', 'NN'), ('to', 'TO'), ('pay', 'VB'), ('for', 'IN'), ('the', 'DT'), ('Social', 'NNP'), ('Security', 'NNP'), ('benefits', 'NNS'), ('of', 'IN'), ('today', 'NN'), (\"'s\", 'POS'), ('retirees', 'NNS'), ('.', '.')]\n",
      "[('If', 'IN'), ('you', 'PRP'), (\"'re\", 'VBP'), ('a', 'DT'), ('younger', 'JJR'), ('worker', 'NN'), (',', ','), ('I', 'PRP'), ('believe', 'VBP'), ('you', 'PRP'), ('should', 'MD'), ('be', 'VB'), ('able', 'JJ'), ('to', 'TO'), ('set', 'VB'), ('aside', 'RP'), ('part', 'NN'), ('of', 'IN'), ('that', 'DT'), ('money', 'NN'), ('in', 'IN'), ('your', 'PRP$'), ('own', 'JJ'), ('retirement', 'NN'), ('account', 'NN'), (',', ','), ('so', 'IN'), ('you', 'PRP'), ('can', 'MD'), ('build', 'VB'), ('a', 'DT'), ('nest', 'JJS'), ('egg', 'NN'), ('for', 'IN'), ('your', 'PRP$'), ('own', 'JJ'), ('future', 'NN'), ('.', '.')]\n",
      "[('Here', 'RB'), (\"'s\", 'VBZ'), ('why', 'WRB'), ('the', 'DT'), ('personal', 'JJ'), ('accounts', 'NNS'), ('are', 'VBP'), ('a', 'DT'), ('better', 'JJR'), ('deal', 'NN'), ('.', '.')]\n",
      "[('Your', 'PRP$'), ('money', 'NN'), ('will', 'MD'), ('grow', 'VB'), (',', ','), ('over', 'IN'), ('time', 'NN'), (',', ','), ('at', 'IN'), ('a', 'DT'), ('greater', 'JJR'), ('rate', 'NN'), ('than', 'IN'), ('anything', 'NN'), ('the', 'DT'), ('current', 'JJ'), ('system', 'NN'), ('can', 'MD'), ('deliver', 'VB'), ('--', ':'), ('and', 'CC'), ('your', 'PRP$'), ('account', 'NN'), ('will', 'MD'), ('provide', 'VB'), ('money', 'NN'), ('for', 'IN'), ('retirement', 'NN'), ('over', 'IN'), ('and', 'CC'), ('above', 'IN'), ('the', 'DT'), ('check', 'NN'), ('you', 'PRP'), ('will', 'MD'), ('receive', 'VB'), ('from', 'IN'), ('Social', 'NNP'), ('Security', 'NNP'), ('.', '.')]\n",
      "[('In', 'IN'), ('addition', 'NN'), (',', ','), ('you', 'PRP'), (\"'ll\", 'MD'), ('be', 'VB'), ('able', 'JJ'), ('to', 'TO'), ('pass', 'VB'), ('along', 'IN'), ('the', 'DT'), ('money', 'NN'), ('that', 'WDT'), ('accumulates', 'VBZ'), ('in', 'IN'), ('your', 'PRP$'), ('personal', 'JJ'), ('account', 'NN'), (',', ','), ('if', 'IN'), ('you', 'PRP'), ('wish', 'VBP'), (',', ','), ('to', 'TO'), ('your', 'PRP$'), ('children', 'NNS'), ('and', 'CC'), ('--', ':'), ('or', 'CC'), ('grandchildren', 'NNS'), ('.', '.')]\n",
      "[('And', 'CC'), ('best', 'JJS'), ('of', 'IN'), ('all', 'DT'), (',', ','), ('the', 'DT'), ('money', 'NN'), ('in', 'IN'), ('the', 'DT'), ('account', 'NN'), ('is', 'VBZ'), ('yours', 'RB'), (',', ','), ('and', 'CC'), ('the', 'DT'), ('government', 'NN'), ('can', 'MD'), ('never', 'RB'), ('take', 'VB'), ('it', 'PRP'), ('away', 'RB'), ('.', '.')]\n",
      "[('(', '('), ('Applause', 'NNP'), ('.', '.'), (')', ')')]\n",
      "[('The', 'DT'), ('goal', 'NN'), ('here', 'RB'), ('is', 'VBZ'), ('greater', 'JJR'), ('security', 'NN'), ('in', 'IN'), ('retirement', 'NN'), (',', ','), ('so', 'IN'), ('we', 'PRP'), ('will', 'MD'), ('set', 'VB'), ('careful', 'JJ'), ('guidelines', 'NNS'), ('for', 'IN'), ('personal', 'JJ'), ('accounts', 'NNS'), ('.', '.')]\n",
      "[('We', 'PRP'), (\"'ll\", 'MD'), ('make', 'VB'), ('sure', 'JJ'), ('the', 'DT'), ('money', 'NN'), ('can', 'MD'), ('only', 'RB'), ('go', 'VB'), ('into', 'IN'), ('a', 'DT'), ('conservative', 'JJ'), ('mix', 'NN'), ('of', 'IN'), ('bonds', 'NNS'), ('and', 'CC'), ('stock', 'NN'), ('funds', 'NNS'), ('.', '.')]\n",
      "[('We', 'PRP'), (\"'ll\", 'MD'), ('make', 'VB'), ('sure', 'JJ'), ('that', 'IN'), ('your', 'PRP$'), ('earnings', 'NNS'), ('are', 'VBP'), ('not', 'RB'), ('eaten', 'VBN'), ('up', 'RP'), ('by', 'IN'), ('hidden', 'NN'), ('Wall', 'NNP'), ('Street', 'NNP'), ('fees', 'NNS'), ('.', '.')]\n",
      "[('We', 'PRP'), (\"'ll\", 'MD'), ('make', 'VB'), ('sure', 'JJ'), ('there', 'EX'), ('are', 'VBP'), ('good', 'JJ'), ('options', 'NNS'), ('to', 'TO'), ('protect', 'VB'), ('your', 'PRP$'), ('investments', 'NNS'), ('from', 'IN'), ('sudden', 'JJ'), ('market', 'NN'), ('swings', 'NNS'), ('on', 'IN'), ('the', 'DT'), ('eve', 'NN'), ('of', 'IN'), ('your', 'PRP$'), ('retirement', 'NN'), ('.', '.')]\n",
      "[('We', 'PRP'), (\"'ll\", 'MD'), ('make', 'VB'), ('sure', 'JJ'), ('a', 'DT'), ('personal', 'JJ'), ('account', 'NN'), ('can', 'MD'), ('not', 'RB'), ('be', 'VB'), ('emptied', 'VBN'), ('out', 'IN'), ('all', 'DT'), ('at', 'IN'), ('once', 'RB'), (',', ','), ('but', 'CC'), ('rather', 'RB'), ('paid', 'VBD'), ('out', 'RP'), ('over', 'IN'), ('time', 'NN'), (',', ','), ('as', 'IN'), ('an', 'DT'), ('addition', 'NN'), ('to', 'TO'), ('traditional', 'JJ'), ('Social', 'NNP'), ('Security', 'NNP'), ('benefits', 'NNS'), ('.', '.')]\n",
      "[('And', 'CC'), ('we', 'PRP'), (\"'ll\", 'MD'), ('make', 'VB'), ('sure', 'JJ'), ('this', 'DT'), ('plan', 'NN'), ('is', 'VBZ'), ('fiscally', 'RB'), ('responsible', 'JJ'), (',', ','), ('by', 'IN'), ('starting', 'VBG'), ('personal', 'JJ'), ('retirement', 'NN'), ('accounts', 'NNS'), ('gradually', 'RB'), (',', ','), ('and', 'CC'), ('raising', 'VBG'), ('the', 'DT'), ('yearly', 'JJ'), ('limits', 'NNS'), ('on', 'IN'), ('contributions', 'NNS'), ('over', 'IN'), ('time', 'NN'), (',', ','), ('eventually', 'RB'), ('permitting', 'VBG'), ('all', 'DT'), ('workers', 'NNS'), ('to', 'TO'), ('set', 'VB'), ('aside', 'RB'), ('four', 'CD'), ('percentage', 'NN'), ('points', 'NNS'), ('of', 'IN'), ('their', 'PRP$'), ('payroll', 'NN'), ('taxes', 'NNS'), ('in', 'IN'), ('their', 'PRP$'), ('accounts', 'NNS'), ('.', '.')]\n",
      "[('Personal', 'JJ'), ('retirement', 'NN'), ('accounts', 'NNS'), ('should', 'MD'), ('be', 'VB'), ('familiar', 'JJ'), ('to', 'TO'), ('federal', 'JJ'), ('employees', 'NNS'), (',', ','), ('because', 'IN'), ('you', 'PRP'), ('already', 'RB'), ('have', 'VBP'), ('something', 'NN'), ('similar', 'JJ'), (',', ','), ('called', 'VBD'), ('the', 'DT'), ('Thrift', 'NNP'), ('Savings', 'NNPS'), ('Plan', 'NNP'), (',', ','), ('which', 'WDT'), ('lets', 'VBZ'), ('workers', 'NNS'), ('deposit', 'VB'), ('a', 'DT'), ('portion', 'NN'), ('of', 'IN'), ('their', 'PRP$'), ('paychecks', 'NNS'), ('into', 'IN'), ('any', 'DT'), ('of', 'IN'), ('five', 'CD'), ('different', 'JJ'), ('broadly-based', 'JJ'), ('investment', 'NN'), ('funds', 'NNS'), ('.', '.')]\n",
      "[('It', 'PRP'), (\"'s\", 'VBZ'), ('time', 'NN'), ('to', 'TO'), ('extend', 'VB'), ('the', 'DT'), ('same', 'JJ'), ('security', 'NN'), (',', ','), ('and', 'CC'), ('choice', 'NN'), (',', ','), ('and', 'CC'), ('ownership', 'NN'), ('to', 'TO'), ('young', 'JJ'), ('Americans', 'NNPS'), ('.', '.')]\n",
      "[('(', '('), ('Applause', 'NNP'), ('.', '.'), (')', ')')]\n",
      "[('Our', 'PRP$'), ('second', 'JJ'), ('great', 'JJ'), ('responsibility', 'NN'), ('to', 'TO'), ('our', 'PRP$'), ('children', 'NNS'), ('and', 'CC'), ('grandchildren', 'NN'), ('is', 'VBZ'), ('to', 'TO'), ('honor', 'VB'), ('and', 'CC'), ('to', 'TO'), ('pass', 'VB'), ('along', 'IN'), ('the', 'DT'), ('values', 'NNS'), ('that', 'WDT'), ('sustain', 'VBP'), ('a', 'DT'), ('free', 'JJ'), ('society', 'NN'), ('.', '.')]\n",
      "[('So', 'RB'), ('many', 'JJ'), ('of', 'IN'), ('my', 'PRP$'), ('generation', 'NN'), (',', ','), ('after', 'IN'), ('a', 'DT'), ('long', 'JJ'), ('journey', 'NN'), (',', ','), ('have', 'VBP'), ('come', 'VBN'), ('home', 'NN'), ('to', 'TO'), ('family', 'NN'), ('and', 'CC'), ('faith', 'NN'), (',', ','), ('and', 'CC'), ('are', 'VBP'), ('determined', 'VBN'), ('to', 'TO'), ('bring', 'VB'), ('up', 'RP'), ('responsible', 'JJ'), (',', ','), ('moral', 'JJ'), ('children', 'NNS'), ('.', '.')]\n",
      "[('Government', 'NNP'), ('is', 'VBZ'), ('not', 'RB'), ('the', 'DT'), ('source', 'NN'), ('of', 'IN'), ('these', 'DT'), ('values', 'NNS'), (',', ','), ('but', 'CC'), ('government', 'NN'), ('should', 'MD'), ('never', 'RB'), ('undermine', 'VB'), ('them', 'PRP'), ('.', '.')]\n",
      "[('Because', 'IN'), ('marriage', 'NN'), ('is', 'VBZ'), ('a', 'DT'), ('sacred', 'JJ'), ('institution', 'NN'), ('and', 'CC'), ('the', 'DT'), ('foundation', 'NN'), ('of', 'IN'), ('society', 'NN'), (',', ','), ('it', 'PRP'), ('should', 'MD'), ('not', 'RB'), ('be', 'VB'), ('re-defined', 'VBN'), ('by', 'IN'), ('activist', 'NN'), ('judges', 'NNS'), ('.', '.')]\n",
      "[('For', 'IN'), ('the', 'DT'), ('good', 'JJ'), ('of', 'IN'), ('families', 'NNS'), (',', ','), ('children', 'NNS'), (',', ','), ('and', 'CC'), ('society', 'NN'), (',', ','), ('I', 'PRP'), ('support', 'VBP'), ('a', 'DT'), ('constitutional', 'JJ'), ('amendment', 'NN'), ('to', 'TO'), ('protect', 'VB'), ('the', 'DT'), ('institution', 'NN'), ('of', 'IN'), ('marriage', 'NN'), ('.', '.')]\n",
      "[('(', '('), ('Applause', 'NNP'), ('.', '.'), (')', ')')]\n",
      "[('Because', 'IN'), ('a', 'DT'), ('society', 'NN'), ('is', 'VBZ'), ('measured', 'VBN'), ('by', 'IN'), ('how', 'WRB'), ('it', 'PRP'), ('treats', 'VBZ'), ('the', 'DT'), ('weak', 'JJ'), ('and', 'CC'), ('vulnerable', 'JJ'), (',', ','), ('we', 'PRP'), ('must', 'MD'), ('strive', 'VB'), ('to', 'TO'), ('build', 'VB'), ('a', 'DT'), ('culture', 'NN'), ('of', 'IN'), ('life', 'NN'), ('.', '.')]\n",
      "[('Medical', 'JJ'), ('research', 'NN'), ('can', 'MD'), ('help', 'VB'), ('us', 'PRP'), ('reach', 'VB'), ('that', 'DT'), ('goal', 'NN'), (',', ','), ('by', 'IN'), ('developing', 'VBG'), ('treatments', 'NNS'), ('and', 'CC'), ('cures', 'NNS'), ('that', 'WDT'), ('save', 'VBP'), ('lives', 'NNS'), ('and', 'CC'), ('help', 'NN'), ('people', 'NNS'), ('overcome', 'VBP'), ('disabilities', 'NNS'), ('--', ':'), ('and', 'CC'), ('I', 'PRP'), ('thank', 'VBP'), ('the', 'DT'), ('Congress', 'NNP'), ('for', 'IN'), ('doubling', 'VBG'), ('the', 'DT'), ('funding', 'NN'), ('of', 'IN'), ('the', 'DT'), ('National', 'NNP'), ('Institutes', 'NNPS'), ('of', 'IN'), ('Health', 'NNP'), ('.', '.')]\n",
      "[('(', '('), ('Applause', 'NNP'), ('.', '.'), (')', ')')]\n",
      "[('To', 'TO'), ('build', 'VB'), ('a', 'DT'), ('culture', 'NN'), ('of', 'IN'), ('life', 'NN'), (',', ','), ('we', 'PRP'), ('must', 'MD'), ('also', 'RB'), ('ensure', 'VB'), ('that', 'IN'), ('scientific', 'JJ'), ('advances', 'NNS'), ('always', 'RB'), ('serve', 'VBP'), ('human', 'JJ'), ('dignity', 'NN'), (',', ','), ('not', 'RB'), ('take', 'VB'), ('advantage', 'NN'), ('of', 'IN'), ('some', 'DT'), ('lives', 'NNS'), ('for', 'IN'), ('the', 'DT'), ('benefit', 'NN'), ('of', 'IN'), ('others', 'NNS'), ('.', '.')]\n",
      "[('We', 'PRP'), ('should', 'MD'), ('all', 'DT'), ('be', 'VB'), ('able', 'JJ'), ('to', 'TO'), ('agree', 'VB'), ('--', ':'), ('(', '('), ('applause', 'NN'), (')', ')'), ('--', ':'), ('we', 'PRP'), ('should', 'MD'), ('all', 'DT'), ('be', 'VB'), ('able', 'JJ'), ('to', 'TO'), ('agree', 'VB'), ('on', 'IN'), ('some', 'DT'), ('clear', 'JJ'), ('standards', 'NNS'), ('.', '.')]\n",
      "[('I', 'PRP'), ('will', 'MD'), ('work', 'VB'), ('with', 'IN'), ('Congress', 'NNP'), ('to', 'TO'), ('ensure', 'VB'), ('that', 'IN'), ('human', 'JJ'), ('embryos', 'NNS'), ('are', 'VBP'), ('not', 'RB'), ('created', 'VBN'), ('for', 'IN'), ('experimentation', 'NN'), ('or', 'CC'), ('grown', 'VBN'), ('for', 'IN'), ('body', 'NN'), ('parts', 'NNS'), (',', ','), ('and', 'CC'), ('that', 'IN'), ('human', 'JJ'), ('life', 'NN'), ('is', 'VBZ'), ('never', 'RB'), ('bought', 'VBN'), ('and', 'CC'), ('sold', 'VBN'), ('as', 'IN'), ('a', 'DT'), ('commodity', 'NN'), ('.', '.')]\n",
      "[('(', '('), ('Applause', 'NNP'), ('.', '.'), (')', ')')]\n",
      "[('America', 'NNP'), ('will', 'MD'), ('continue', 'VB'), ('to', 'TO'), ('lead', 'VB'), ('the', 'DT'), ('world', 'NN'), ('in', 'IN'), ('medical', 'JJ'), ('research', 'NN'), ('that', 'WDT'), ('is', 'VBZ'), ('ambitious', 'JJ'), (',', ','), ('aggressive', 'JJ'), (',', ','), ('and', 'CC'), ('always', 'RB'), ('ethical', 'JJ'), ('.', '.')]\n",
      "[('Because', 'IN'), ('courts', 'NNS'), ('must', 'MD'), ('always', 'RB'), ('deliver', 'VB'), ('impartial', 'JJ'), ('justice', 'NN'), (',', ','), ('judges', 'NNS'), ('have', 'VBP'), ('a', 'DT'), ('duty', 'NN'), ('to', 'TO'), ('faithfully', 'RB'), ('interpret', 'VB'), ('the', 'DT'), ('law', 'NN'), (',', ','), ('not', 'RB'), ('legislate', 'VB'), ('from', 'IN'), ('the', 'DT'), ('bench', 'NN'), ('.', '.')]\n",
      "[('(', '('), ('Applause', 'NNP'), ('.', '.'), (')', ')')]\n",
      "[('As', 'IN'), ('President', 'NNP'), (',', ','), ('I', 'PRP'), ('have', 'VBP'), ('a', 'DT'), ('constitutional', 'JJ'), ('responsibility', 'NN'), ('to', 'TO'), ('nominate', 'VB'), ('men', 'NNS'), ('and', 'CC'), ('women', 'NNS'), ('who', 'WP'), ('understand', 'VBP'), ('the', 'DT'), ('role', 'NN'), ('of', 'IN'), ('courts', 'NNS'), ('in', 'IN'), ('our', 'PRP$'), ('democracy', 'NN'), (',', ','), ('and', 'CC'), ('are', 'VBP'), ('well-qualified', 'JJ'), ('to', 'TO'), ('serve', 'VB'), ('on', 'IN'), ('the', 'DT'), ('bench', 'NN'), ('--', ':'), ('and', 'CC'), ('I', 'PRP'), ('have', 'VBP'), ('done', 'VBN'), ('so', 'RB'), ('.', '.')]\n",
      "[('(', '('), ('Applause', 'NNP'), ('.', '.'), (')', ')')]\n",
      "[('The', 'DT'), ('Constitution', 'NNP'), ('also', 'RB'), ('gives', 'VBZ'), ('the', 'DT'), ('Senate', 'NNP'), ('a', 'DT'), ('responsibility', 'NN'), (':', ':'), ('Every', 'DT'), ('judicial', 'JJ'), ('nominee', 'NN'), ('deserves', 'VBZ'), ('an', 'DT'), ('up', 'NN'), ('or', 'CC'), ('down', 'RB'), ('vote', 'NN'), ('.', '.')]\n",
      "[('(', '('), ('Applause', 'NNP'), ('.', '.'), (')', ')')]\n",
      "[('Because', 'IN'), ('one', 'CD'), ('of', 'IN'), ('the', 'DT'), ('deepest', 'JJS'), ('values', 'NNS'), ('of', 'IN'), ('our', 'PRP$'), ('country', 'NN'), ('is', 'VBZ'), ('compassion', 'JJ'), (',', ','), ('we', 'PRP'), ('must', 'MD'), ('never', 'RB'), ('turn', 'VB'), ('away', 'RP'), ('from', 'IN'), ('any', 'DT'), ('citizen', 'NN'), ('who', 'WP'), ('feels', 'VBZ'), ('isolated', 'VBN'), ('from', 'IN'), ('the', 'DT'), ('opportunities', 'NNS'), ('of', 'IN'), ('America', 'NNP'), ('.', '.')]\n",
      "[('Our', 'PRP$'), ('government', 'NN'), ('will', 'MD'), ('continue', 'VB'), ('to', 'TO'), ('support', 'VB'), ('faith-based', 'JJ'), ('and', 'CC'), ('community', 'NN'), ('groups', 'NNS'), ('that', 'IN'), ('bring', 'VBG'), ('hope', 'NN'), ('to', 'TO'), ('harsh', 'VB'), ('places', 'NNS'), ('.', '.')]\n",
      "[('Now', 'RB'), ('we', 'PRP'), ('need', 'VBP'), ('to', 'TO'), ('focus', 'VB'), ('on', 'IN'), ('giving', 'VBG'), ('young', 'JJ'), ('people', 'NNS'), (',', ','), ('especially', 'RB'), ('young', 'JJ'), ('men', 'NNS'), ('in', 'IN'), ('our', 'PRP$'), ('cities', 'NNS'), (',', ','), ('better', 'JJR'), ('options', 'NNS'), ('than', 'IN'), ('apathy', 'JJ'), (',', ','), ('or', 'CC'), ('gangs', 'NNS'), (',', ','), ('or', 'CC'), ('jail', 'NN'), ('.', '.')]\n",
      "[('Tonight', 'NNP'), ('I', 'PRP'), ('propose', 'VBP'), ('a', 'DT'), ('three-year', 'JJ'), ('initiative', 'NN'), ('to', 'TO'), ('help', 'VB'), ('organizations', 'NNS'), ('keep', 'VB'), ('young', 'JJ'), ('people', 'NNS'), ('out', 'IN'), ('of', 'IN'), ('gangs', 'NNS'), (',', ','), ('and', 'CC'), ('show', 'VB'), ('young', 'JJ'), ('men', 'NNS'), ('an', 'DT'), ('ideal', 'NN'), ('of', 'IN'), ('manhood', 'NN'), ('that', 'WDT'), ('respects', 'VBZ'), ('women', 'NNS'), ('and', 'CC'), ('rejects', 'NNS'), ('violence', 'NN'), ('.', '.')]\n",
      "[('(', '('), ('Applause', 'NNP'), ('.', '.'), (')', ')')]\n",
      "[('Taking', 'VBG'), ('on', 'IN'), ('gang', 'NN'), ('life', 'NN'), ('will', 'MD'), ('be', 'VB'), ('one', 'CD'), ('part', 'NN'), ('of', 'IN'), ('a', 'DT'), ('broader', 'JJR'), ('outreach', 'NN'), ('to', 'TO'), ('at-risk', 'JJ'), ('youth', 'NN'), (',', ','), ('which', 'WDT'), ('involves', 'VBZ'), ('parents', 'NNS'), ('and', 'CC'), ('pastors', 'NNS'), (',', ','), ('coaches', 'NNS'), ('and', 'CC'), ('community', 'NN'), ('leaders', 'NNS'), (',', ','), ('in', 'IN'), ('programs', 'NNS'), ('ranging', 'VBG'), ('from', 'IN'), ('literacy', 'NN'), ('to', 'TO'), ('sports', 'NNS'), ('.', '.')]\n",
      "[('And', 'CC'), ('I', 'PRP'), ('am', 'VBP'), ('proud', 'JJ'), ('that', 'IN'), ('the', 'DT'), ('leader', 'NN'), ('of', 'IN'), ('this', 'DT'), ('nationwide', 'JJ'), ('effort', 'NN'), ('will', 'MD'), ('be', 'VB'), ('our', 'PRP$'), ('First', 'NNP'), ('Lady', 'NNP'), (',', ','), ('Laura', 'NNP'), ('Bush', 'NNP'), ('.', '.')]\n",
      "[('(', '('), ('Applause', 'NNP'), ('.', '.'), (')', ')')]\n",
      "[('Because', 'IN'), ('HIV/AIDS', 'NNP'), ('brings', 'VBZ'), ('suffering', 'NN'), ('and', 'CC'), ('fear', 'NN'), ('into', 'IN'), ('so', 'RB'), ('many', 'JJ'), ('lives', 'NNS'), (',', ','), ('I', 'PRP'), ('ask', 'VBP'), ('you', 'PRP'), ('to', 'TO'), ('reauthorize', 'VB'), ('the', 'DT'), ('Ryan', 'NNP'), ('White', 'NNP'), ('Act', 'NNP'), ('to', 'TO'), ('encourage', 'VB'), ('prevention', 'NN'), (',', ','), ('and', 'CC'), ('provide', 'VB'), ('care', 'NN'), ('and', 'CC'), ('treatment', 'NN'), ('to', 'TO'), ('the', 'DT'), ('victims', 'NNS'), ('of', 'IN'), ('that', 'DT'), ('disease', 'NN'), ('.', '.')]\n",
      "[('(', '('), ('Applause', 'NNP'), ('.', '.'), (')', ')')]\n",
      "[('And', 'CC'), ('as', 'IN'), ('we', 'PRP'), ('update', 'VBP'), ('this', 'DT'), ('important', 'JJ'), ('law', 'NN'), (',', ','), ('we', 'PRP'), ('must', 'MD'), ('focus', 'VB'), ('our', 'PRP$'), ('efforts', 'NNS'), ('on', 'IN'), ('fellow', 'JJ'), ('citizens', 'NNS'), ('with', 'IN'), ('the', 'DT'), ('highest', 'JJS'), ('rates', 'NNS'), ('of', 'IN'), ('new', 'JJ'), ('cases', 'NNS'), (',', ','), ('African', 'JJ'), ('American', 'JJ'), ('men', 'NNS'), ('and', 'CC'), ('women', 'NNS'), ('.', '.')]\n",
      "[('(', '('), ('Applause', 'NNP'), ('.', '.'), (')', ')')]\n",
      "[('Because', 'IN'), ('one', 'CD'), ('of', 'IN'), ('the', 'DT'), ('main', 'JJ'), ('sources', 'NNS'), ('of', 'IN'), ('our', 'PRP$'), ('national', 'JJ'), ('unity', 'NN'), ('is', 'VBZ'), ('our', 'PRP$'), ('belief', 'NN'), ('in', 'IN'), ('equal', 'JJ'), ('justice', 'NN'), (',', ','), ('we', 'PRP'), ('need', 'VBP'), ('to', 'TO'), ('make', 'VB'), ('sure', 'JJ'), ('Americans', 'NNPS'), ('of', 'IN'), ('all', 'DT'), ('races', 'NNS'), ('and', 'CC'), ('backgrounds', 'NNS'), ('have', 'VBP'), ('confidence', 'NN'), ('in', 'IN'), ('the', 'DT'), ('system', 'NN'), ('that', 'WDT'), ('provides', 'VBZ'), ('justice', 'NN'), ('.', '.')]\n",
      "[('In', 'IN'), ('America', 'NNP'), ('we', 'PRP'), ('must', 'MD'), ('make', 'VB'), ('doubly', 'RB'), ('sure', 'JJ'), ('no', 'DT'), ('person', 'NN'), ('is', 'VBZ'), ('held', 'VBN'), ('to', 'TO'), ('account', 'VB'), ('for', 'IN'), ('a', 'DT'), ('crime', 'NN'), ('he', 'PRP'), ('or', 'CC'), ('she', 'PRP'), ('did', 'VBD'), ('not', 'RB'), ('commit', 'VB'), ('--', ':'), ('so', 'IN'), ('we', 'PRP'), ('are', 'VBP'), ('dramatically', 'RB'), ('expanding', 'VBG'), ('the', 'DT'), ('use', 'NN'), ('of', 'IN'), ('DNA', 'NNP'), ('evidence', 'NN'), ('to', 'TO'), ('prevent', 'VB'), ('wrongful', 'JJ'), ('conviction', 'NN'), ('.', '.')]\n",
      "[('(', '('), ('Applause', 'NNP'), ('.', '.'), (')', ')')]\n",
      "[('Soon', 'RB'), ('I', 'PRP'), ('will', 'MD'), ('send', 'VB'), ('to', 'TO'), ('Congress', 'NNP'), ('a', 'DT'), ('proposal', 'NN'), ('to', 'TO'), ('fund', 'VB'), ('special', 'JJ'), ('training', 'NN'), ('for', 'IN'), ('defense', 'NN'), ('counsel', 'NN'), ('in', 'IN'), ('capital', 'NN'), ('cases', 'NNS'), (',', ','), ('because', 'IN'), ('people', 'NNS'), ('on', 'IN'), ('trial', 'NN'), ('for', 'IN'), ('their', 'PRP$'), ('lives', 'NNS'), ('must', 'MD'), ('have', 'VB'), ('competent', 'NN'), ('lawyers', 'NNS'), ('by', 'IN'), ('their', 'PRP$'), ('side', 'NN'), ('.', '.')]\n",
      "[('(', '('), ('Applause', 'NNP'), ('.', '.'), (')', ')')]\n",
      "[('Our', 'PRP$'), ('third', 'JJ'), ('responsibility', 'NN'), ('to', 'TO'), ('future', 'JJ'), ('generations', 'NNS'), ('is', 'VBZ'), ('to', 'TO'), ('leave', 'VB'), ('them', 'PRP'), ('an', 'DT'), ('America', 'NNP'), ('that', 'WDT'), ('is', 'VBZ'), ('safe', 'JJ'), ('from', 'IN'), ('danger', 'NN'), (',', ','), ('and', 'CC'), ('protected', 'VBN'), ('by', 'IN'), ('peace', 'NN'), ('.', '.')]\n",
      "[('We', 'PRP'), ('will', 'MD'), ('pass', 'VB'), ('along', 'RB'), ('to', 'TO'), ('our', 'PRP$'), ('children', 'NNS'), ('all', 'PDT'), ('the', 'DT'), ('freedoms', 'NNS'), ('we', 'PRP'), ('enjoy', 'VBP'), ('--', ':'), ('and', 'CC'), ('chief', 'JJ'), ('among', 'IN'), ('them', 'PRP'), ('is', 'VBZ'), ('freedom', 'NN'), ('from', 'IN'), ('fear', 'NN'), ('.', '.')]\n",
      "[('In', 'IN'), ('the', 'DT'), ('three', 'CD'), ('and', 'CC'), ('a', 'DT'), ('half', 'NN'), ('years', 'NNS'), ('since', 'IN'), ('September', 'NNP'), ('the', 'DT'), ('11th', 'CD'), (',', ','), ('2001', 'CD'), (',', ','), ('we', 'PRP'), ('have', 'VBP'), ('taken', 'VBN'), ('unprecedented', 'JJ'), ('actions', 'NNS'), ('to', 'TO'), ('protect', 'VB'), ('Americans', 'NNPS'), ('.', '.')]\n",
      "[('We', 'PRP'), (\"'ve\", 'VBP'), ('created', 'VBN'), ('a', 'DT'), ('new', 'JJ'), ('department', 'NN'), ('of', 'IN'), ('government', 'NN'), ('to', 'TO'), ('defend', 'VB'), ('our', 'PRP$'), ('homeland', 'NN'), (',', ','), ('focused', 'VBD'), ('the', 'DT'), ('FBI', 'NNP'), ('on', 'IN'), ('preventing', 'VBG'), ('terrorism', 'NN'), (',', ','), ('begun', 'VBN'), ('to', 'TO'), ('reform', 'VB'), ('our', 'PRP$'), ('intelligence', 'NN'), ('agencies', 'NNS'), (',', ','), ('broken', 'VBD'), ('up', 'RP'), ('terror', 'NN'), ('cells', 'NNS'), ('across', 'IN'), ('the', 'DT'), ('country', 'NN'), (',', ','), ('expanded', 'VBN'), ('research', 'NN'), ('on', 'IN'), ('defenses', 'NNS'), ('against', 'IN'), ('biological', 'JJ'), ('and', 'CC'), ('chemical', 'JJ'), ('attack', 'NN'), (',', ','), ('improved', 'VBN'), ('border', 'NN'), ('security', 'NN'), (',', ','), ('and', 'CC'), ('trained', 'VBD'), ('more', 'JJR'), ('than', 'IN'), ('a', 'DT'), ('half-million', 'NN'), ('first', 'JJ'), ('responders', 'NNS'), ('.', '.')]\n",
      "[('Police', 'NNP'), ('and', 'CC'), ('firefighters', 'NNS'), (',', ','), ('air', 'NN'), ('marshals', 'NNS'), (',', ','), ('researchers', 'NNS'), (',', ','), ('and', 'CC'), ('so', 'RB'), ('many', 'JJ'), ('others', 'NNS'), ('are', 'VBP'), ('working', 'VBG'), ('every', 'DT'), ('day', 'NN'), ('to', 'TO'), ('make', 'VB'), ('our', 'PRP$'), ('homeland', 'NN'), ('safer', 'NN'), (',', ','), ('and', 'CC'), ('we', 'PRP'), ('thank', 'VBP'), ('them', 'PRP'), ('all', 'DT'), ('.', '.')]\n",
      "[('(', '('), ('Applause', 'NNP'), ('.', '.'), (')', ')')]\n",
      "[('Our', 'PRP$'), ('nation', 'NN'), (',', ','), ('working', 'VBG'), ('with', 'IN'), ('allies', 'NNS'), ('and', 'CC'), ('friends', 'NNS'), (',', ','), ('has', 'VBZ'), ('also', 'RB'), ('confronted', 'VBN'), ('the', 'DT'), ('enemy', 'NN'), ('abroad', 'RB'), (',', ','), ('with', 'IN'), ('measures', 'NNS'), ('that', 'WDT'), ('are', 'VBP'), ('determined', 'VBN'), (',', ','), ('successful', 'JJ'), (',', ','), ('and', 'CC'), ('continuing', 'VBG'), ('.', '.')]\n",
      "[('The', 'DT'), ('al', 'NN'), ('Qaeda', 'NNP'), ('terror', 'NN'), ('network', 'NN'), ('that', 'WDT'), ('attacked', 'VBD'), ('our', 'PRP$'), ('country', 'NN'), ('still', 'RB'), ('has', 'VBZ'), ('leaders', 'NNS'), ('--', ':'), ('but', 'CC'), ('many', 'JJ'), ('of', 'IN'), ('its', 'PRP$'), ('top', 'JJ'), ('commanders', 'NNS'), ('have', 'VBP'), ('been', 'VBN'), ('removed', 'VBN'), ('.', '.')]\n",
      "[('There', 'EX'), ('are', 'VBP'), ('still', 'RB'), ('governments', 'NNS'), ('that', 'IN'), ('sponsor', 'NN'), ('and', 'CC'), ('harbor', 'NN'), ('terrorists', 'NNS'), ('--', ':'), ('but', 'CC'), ('their', 'PRP$'), ('number', 'NN'), ('has', 'VBZ'), ('declined', 'VBN'), ('.', '.')]\n",
      "[('There', 'EX'), ('are', 'VBP'), ('still', 'RB'), ('regimes', 'NNS'), ('seeking', 'VBG'), ('weapons', 'NNS'), ('of', 'IN'), ('mass', 'NN'), ('destruction', 'NN'), ('--', ':'), ('but', 'CC'), ('no', 'DT'), ('longer', 'RB'), ('without', 'IN'), ('attention', 'NN'), ('and', 'CC'), ('without', 'IN'), ('consequence', 'NN'), ('.', '.')]\n",
      "[('Our', 'PRP$'), ('country', 'NN'), ('is', 'VBZ'), ('still', 'RB'), ('the', 'DT'), ('target', 'NN'), ('of', 'IN'), ('terrorists', 'NNS'), ('who', 'WP'), ('want', 'VBP'), ('to', 'TO'), ('kill', 'VB'), ('many', 'JJ'), (',', ','), ('and', 'CC'), ('intimidate', 'VB'), ('us', 'PRP'), ('all', 'DT'), ('--', ':'), ('and', 'CC'), ('we', 'PRP'), ('will', 'MD'), ('stay', 'VB'), ('on', 'IN'), ('the', 'DT'), ('offensive', 'JJ'), ('against', 'IN'), ('them', 'PRP'), (',', ','), ('until', 'IN'), ('the', 'DT'), ('fight', 'NN'), ('is', 'VBZ'), ('won', 'VBN'), ('.', '.')]\n",
      "[('(', '('), ('Applause', 'NNP'), ('.', '.'), (')', ')')]\n",
      "[('Pursuing', 'VBG'), ('our', 'PRP$'), ('enemies', 'NNS'), ('is', 'VBZ'), ('a', 'DT'), ('vital', 'JJ'), ('commitment', 'NN'), ('of', 'IN'), ('the', 'DT'), ('war', 'NN'), ('on', 'IN'), ('terror', 'NN'), ('--', ':'), ('and', 'CC'), ('I', 'PRP'), ('thank', 'VBP'), ('the', 'DT'), ('Congress', 'NNP'), ('for', 'IN'), ('providing', 'VBG'), ('our', 'PRP$'), ('servicemen', 'NNS'), ('and', 'CC'), ('women', 'NNS'), ('with', 'IN'), ('the', 'DT'), ('resources', 'NNS'), ('they', 'PRP'), ('have', 'VBP'), ('needed', 'VBN'), ('.', '.')]\n",
      "[('During', 'IN'), ('this', 'DT'), ('time', 'NN'), ('of', 'IN'), ('war', 'NN'), (',', ','), ('we', 'PRP'), ('must', 'MD'), ('continue', 'VB'), ('to', 'TO'), ('support', 'VB'), ('our', 'PRP$'), ('military', 'JJ'), ('and', 'CC'), ('give', 'VB'), ('them', 'PRP'), ('the', 'DT'), ('tools', 'NNS'), ('for', 'IN'), ('victory', 'NN'), ('.', '.')]\n",
      "[('(', '('), ('Applause', 'NNP'), ('.', '.'), (')', ')')]\n",
      "[('Other', 'JJ'), ('nations', 'NNS'), ('around', 'IN'), ('the', 'DT'), ('globe', 'NN'), ('have', 'VBP'), ('stood', 'VBN'), ('with', 'IN'), ('us', 'PRP'), ('.', '.')]\n",
      "[('In', 'IN'), ('Afghanistan', 'NNP'), (',', ','), ('an', 'DT'), ('international', 'JJ'), ('force', 'NN'), ('is', 'VBZ'), ('helping', 'VBG'), ('provide', 'JJ'), ('security', 'NN'), ('.', '.')]\n",
      "[('In', 'IN'), ('Iraq', 'NNP'), (',', ','), ('28', 'CD'), ('countries', 'NNS'), ('have', 'VBP'), ('troops', 'NNS'), ('on', 'IN'), ('the', 'DT'), ('ground', 'NN'), (',', ','), ('the', 'DT'), ('United', 'NNP'), ('Nations', 'NNPS'), ('and', 'CC'), ('the', 'DT'), ('European', 'NNP'), ('Union', 'NNP'), ('provided', 'VBD'), ('technical', 'JJ'), ('assistance', 'NN'), ('for', 'IN'), ('the', 'DT'), ('elections', 'NNS'), (',', ','), ('and', 'CC'), ('NATO', 'NNP'), ('is', 'VBZ'), ('leading', 'VBG'), ('a', 'DT'), ('mission', 'NN'), ('to', 'TO'), ('help', 'VB'), ('train', 'VB'), ('Iraqi', 'NNP'), ('officers', 'NNS'), ('.', '.')]\n",
      "[('We', 'PRP'), (\"'re\", 'VBP'), ('cooperating', 'VBG'), ('with', 'IN'), ('60', 'CD'), ('governments', 'NNS'), ('in', 'IN'), ('the', 'DT'), ('Proliferation', 'NNP'), ('Security', 'NNP'), ('Initiative', 'NNP'), (',', ','), ('to', 'TO'), ('detect', 'VB'), ('and', 'CC'), ('stop', 'VB'), ('the', 'DT'), ('transit', 'NN'), ('of', 'IN'), ('dangerous', 'JJ'), ('materials', 'NNS'), ('.', '.')]\n",
      "[('We', 'PRP'), (\"'re\", 'VBP'), ('working', 'VBG'), ('closely', 'RB'), ('with', 'IN'), ('the', 'DT'), ('governments', 'NNS'), ('in', 'IN'), ('Asia', 'NNP'), ('to', 'TO'), ('convince', 'VB'), ('North', 'NNP'), ('Korea', 'NNP'), ('to', 'TO'), ('abandon', 'VB'), ('its', 'PRP$'), ('nuclear', 'JJ'), ('ambitions', 'NNS'), ('.', '.')]\n",
      "[('Pakistan', 'NNP'), (',', ','), ('Saudi', 'NNP'), ('Arabia', 'NNP'), (',', ','), ('and', 'CC'), ('nine', 'CD'), ('other', 'JJ'), ('countries', 'NNS'), ('have', 'VBP'), ('captured', 'VBN'), ('or', 'CC'), ('detained', 'VBN'), ('al', 'RP'), ('Qaeda', 'NNP'), ('terrorists', 'NNS'), ('.', '.')]\n",
      "[('In', 'IN'), ('the', 'DT'), ('next', 'JJ'), ('four', 'CD'), ('years', 'NNS'), (',', ','), ('my', 'PRP$'), ('administration', 'NN'), ('will', 'MD'), ('continue', 'VB'), ('to', 'TO'), ('build', 'VB'), ('the', 'DT'), ('coalitions', 'NNS'), ('that', 'WDT'), ('will', 'MD'), ('defeat', 'VB'), ('the', 'DT'), ('dangers', 'NNS'), ('of', 'IN'), ('our', 'PRP$'), ('time', 'NN'), ('.', '.')]\n",
      "[('(', '('), ('Applause', 'NNP'), ('.', '.'), (')', ')')]\n",
      "[('In', 'IN'), ('the', 'DT'), ('long-term', 'JJ'), (',', ','), ('the', 'DT'), ('peace', 'NN'), ('we', 'PRP'), ('seek', 'VBP'), ('will', 'MD'), ('only', 'RB'), ('be', 'VB'), ('achieved', 'VBN'), ('by', 'IN'), ('eliminating', 'VBG'), ('the', 'DT'), ('conditions', 'NNS'), ('that', 'WDT'), ('feed', 'VBP'), ('radicalism', 'NN'), ('and', 'CC'), ('ideologies', 'NNS'), ('of', 'IN'), ('murder', 'NN'), ('.', '.')]\n",
      "[('If', 'IN'), ('whole', 'JJ'), ('regions', 'NNS'), ('of', 'IN'), ('the', 'DT'), ('world', 'NN'), ('remain', 'NN'), ('in', 'IN'), ('despair', 'NN'), ('and', 'CC'), ('grow', 'NN'), ('in', 'IN'), ('hatred', 'VBN'), (',', ','), ('they', 'PRP'), ('will', 'MD'), ('be', 'VB'), ('the', 'DT'), ('recruiting', 'NN'), ('grounds', 'NNS'), ('for', 'IN'), ('terror', 'NN'), (',', ','), ('and', 'CC'), ('that', 'DT'), ('terror', 'NN'), ('will', 'MD'), ('stalk', 'VB'), ('America', 'NNP'), ('and', 'CC'), ('other', 'JJ'), ('free', 'JJ'), ('nations', 'NNS'), ('for', 'IN'), ('decades', 'NNS'), ('.', '.')]\n",
      "[('The', 'DT'), ('only', 'JJ'), ('force', 'NN'), ('powerful', 'JJ'), ('enough', 'RB'), ('to', 'TO'), ('stop', 'VB'), ('the', 'DT'), ('rise', 'NN'), ('of', 'IN'), ('tyranny', 'NN'), ('and', 'CC'), ('terror', 'NN'), (',', ','), ('and', 'CC'), ('replace', 'VB'), ('hatred', 'VBN'), ('with', 'IN'), ('hope', 'NN'), (',', ','), ('is', 'VBZ'), ('the', 'DT'), ('force', 'NN'), ('of', 'IN'), ('human', 'JJ'), ('freedom', 'NN'), ('.', '.')]\n",
      "[('(', '('), ('Applause', 'NNP'), ('.', '.'), (')', ')')]\n",
      "[('Our', 'PRP$'), ('enemies', 'NNS'), ('know', 'VBP'), ('this', 'DT'), (',', ','), ('and', 'CC'), ('that', 'DT'), ('is', 'VBZ'), ('why', 'WRB'), ('the', 'DT'), ('terrorist', 'NN'), ('Zarqawi', 'NNP'), ('recently', 'RB'), ('declared', 'VBD'), ('war', 'NN'), ('on', 'IN'), ('what', 'WP'), ('he', 'PRP'), ('called', 'VBD'), ('the', 'DT'), ('``', '``'), ('evil', 'JJ'), ('principle', 'NN'), (\"''\", \"''\"), ('of', 'IN'), ('democracy', 'NN'), ('.', '.')]\n",
      "[('And', 'CC'), ('we', 'PRP'), (\"'ve\", 'VBP'), ('declared', 'VBN'), ('our', 'PRP$'), ('own', 'JJ'), ('intention', 'NN'), (':', ':'), ('America', 'NNP'), ('will', 'MD'), ('stand', 'VB'), ('with', 'IN'), ('the', 'DT'), ('allies', 'NNS'), ('of', 'IN'), ('freedom', 'NN'), ('to', 'TO'), ('support', 'VB'), ('democratic', 'JJ'), ('movements', 'NNS'), ('in', 'IN'), ('the', 'DT'), ('Middle', 'NNP'), ('East', 'NNP'), ('and', 'CC'), ('beyond', 'IN'), (',', ','), ('with', 'IN'), ('the', 'DT'), ('ultimate', 'JJ'), ('goal', 'NN'), ('of', 'IN'), ('ending', 'VBG'), ('tyranny', 'NN'), ('in', 'IN'), ('our', 'PRP$'), ('world', 'NN'), ('.', '.')]\n",
      "[('(', '('), ('Applause', 'NNP'), ('.', '.'), (')', ')')]\n",
      "[('The', 'DT'), ('United', 'NNP'), ('States', 'NNPS'), ('has', 'VBZ'), ('no', 'DT'), ('right', 'NN'), (',', ','), ('no', 'DT'), ('desire', 'NN'), (',', ','), ('and', 'CC'), ('no', 'DT'), ('intention', 'NN'), ('to', 'TO'), ('impose', 'VB'), ('our', 'PRP$'), ('form', 'NN'), ('of', 'IN'), ('government', 'NN'), ('on', 'IN'), ('anyone', 'NN'), ('else', 'RB'), ('.', '.')]\n",
      "[('That', 'DT'), ('is', 'VBZ'), ('one', 'CD'), ('of', 'IN'), ('the', 'DT'), ('main', 'JJ'), ('differences', 'NNS'), ('between', 'IN'), ('us', 'PRP'), ('and', 'CC'), ('our', 'PRP$'), ('enemies', 'NNS'), ('.', '.')]\n",
      "[('They', 'PRP'), ('seek', 'VBP'), ('to', 'TO'), ('impose', 'VB'), ('and', 'CC'), ('expand', 'VB'), ('an', 'DT'), ('empire', 'NN'), ('of', 'IN'), ('oppression', 'NN'), (',', ','), ('in', 'IN'), ('which', 'WDT'), ('a', 'DT'), ('tiny', 'JJ'), ('group', 'NN'), ('of', 'IN'), ('brutal', 'NN'), (',', ','), ('self-appointed', 'JJ'), ('rulers', 'NNS'), ('control', 'NN'), ('every', 'DT'), ('aspect', 'NN'), ('of', 'IN'), ('every', 'DT'), ('life', 'NN'), ('.', '.')]\n",
      "[('Our', 'PRP$'), ('aim', 'NN'), ('is', 'VBZ'), ('to', 'TO'), ('build', 'VB'), ('and', 'CC'), ('preserve', 'VB'), ('a', 'DT'), ('community', 'NN'), ('of', 'IN'), ('free', 'JJ'), ('and', 'CC'), ('independent', 'JJ'), ('nations', 'NNS'), (',', ','), ('with', 'IN'), ('governments', 'NNS'), ('that', 'WDT'), ('answer', 'VBP'), ('to', 'TO'), ('their', 'PRP$'), ('citizens', 'NNS'), (',', ','), ('and', 'CC'), ('reflect', 'VBP'), ('their', 'PRP$'), ('own', 'JJ'), ('cultures', 'NNS'), ('.', '.')]\n",
      "[('And', 'CC'), ('because', 'IN'), ('democracies', 'NNS'), ('respect', 'VBP'), ('their', 'PRP$'), ('own', 'JJ'), ('people', 'NNS'), ('and', 'CC'), ('their', 'PRP$'), ('neighbors', 'NNS'), (',', ','), ('the', 'DT'), ('advance', 'NN'), ('of', 'IN'), ('freedom', 'NN'), ('will', 'MD'), ('lead', 'VB'), ('to', 'TO'), ('peace', 'NN'), ('.', '.')]\n",
      "[('(', '('), ('Applause', 'NNP'), ('.', '.'), (')', ')')]\n",
      "[('That', 'DT'), ('advance', 'NN'), ('has', 'VBZ'), ('great', 'JJ'), ('momentum', 'NN'), ('in', 'IN'), ('our', 'PRP$'), ('time', 'NN'), ('--', ':'), ('shown', 'VBN'), ('by', 'IN'), ('women', 'NNS'), ('voting', 'VBG'), ('in', 'IN'), ('Afghanistan', 'NNP'), (',', ','), ('and', 'CC'), ('Palestinians', 'NNPS'), ('choosing', 'VBG'), ('a', 'DT'), ('new', 'JJ'), ('direction', 'NN'), (',', ','), ('and', 'CC'), ('the', 'DT'), ('people', 'NNS'), ('of', 'IN'), ('Ukraine', 'NNP'), ('asserting', 'VBG'), ('their', 'PRP$'), ('democratic', 'JJ'), ('rights', 'NNS'), ('and', 'CC'), ('electing', 'VBG'), ('a', 'DT'), ('president', 'NN'), ('.', '.')]\n",
      "[('We', 'PRP'), ('are', 'VBP'), ('witnessing', 'VBG'), ('landmark', 'NN'), ('events', 'NNS'), ('in', 'IN'), ('the', 'DT'), ('history', 'NN'), ('of', 'IN'), ('liberty', 'NN'), ('.', '.')]\n",
      "[('And', 'CC'), ('in', 'IN'), ('the', 'DT'), ('coming', 'VBG'), ('years', 'NNS'), (',', ','), ('we', 'PRP'), ('will', 'MD'), ('add', 'VB'), ('to', 'TO'), ('that', 'DT'), ('story', 'NN'), ('.', '.')]\n",
      "[('(', '('), ('Applause', 'NNP'), ('.', '.'), (')', ')')]\n",
      "[('The', 'DT'), ('beginnings', 'NNS'), ('of', 'IN'), ('reform', 'NN'), ('and', 'CC'), ('democracy', 'NN'), ('in', 'IN'), ('the', 'DT'), ('Palestinian', 'JJ'), ('territories', 'NNS'), ('are', 'VBP'), ('now', 'RB'), ('showing', 'VBG'), ('the', 'DT'), ('power', 'NN'), ('of', 'IN'), ('freedom', 'NN'), ('to', 'TO'), ('break', 'VB'), ('old', 'JJ'), ('patterns', 'NNS'), ('of', 'IN'), ('violence', 'NN'), ('and', 'CC'), ('failure', 'NN'), ('.', '.')]\n",
      "[('Tomorrow', 'NN'), ('morning', 'NN'), (',', ','), ('Secretary', 'NNP'), ('of', 'IN'), ('State', 'NNP'), ('Rice', 'NNP'), ('departs', 'NNS'), ('on', 'IN'), ('a', 'DT'), ('trip', 'NN'), ('that', 'WDT'), ('will', 'MD'), ('take', 'VB'), ('her', 'PRP$'), ('to', 'TO'), ('Israel', 'NNP'), ('and', 'CC'), ('the', 'DT'), ('West', 'NNP'), ('Bank', 'NNP'), ('for', 'IN'), ('meetings', 'NNS'), ('with', 'IN'), ('Prime', 'NNP'), ('Minister', 'NNP'), ('Sharon', 'NNP'), ('and', 'CC'), ('President', 'NNP'), ('Abbas', 'NNP'), ('.', '.')]\n",
      "[('She', 'PRP'), ('will', 'MD'), ('discuss', 'VB'), ('with', 'IN'), ('them', 'PRP'), ('how', 'WRB'), ('we', 'PRP'), ('and', 'CC'), ('our', 'PRP$'), ('friends', 'NNS'), ('can', 'MD'), ('help', 'VB'), ('the', 'DT'), ('Palestinian', 'JJ'), ('people', 'NNS'), ('end', 'VBP'), ('terror', 'NN'), ('and', 'CC'), ('build', 'VB'), ('the', 'DT'), ('institutions', 'NNS'), ('of', 'IN'), ('a', 'DT'), ('peaceful', 'JJ'), (',', ','), ('independent', 'JJ'), (',', ','), ('democratic', 'JJ'), ('state', 'NN'), ('.', '.')]\n",
      "[('To', 'TO'), ('promote', 'VB'), ('this', 'DT'), ('democracy', 'NN'), (',', ','), ('I', 'PRP'), ('will', 'MD'), ('ask', 'VB'), ('Congress', 'NNP'), ('for', 'IN'), ('$', '$'), ('350', 'CD'), ('million', 'CD'), ('to', 'TO'), ('support', 'VB'), ('Palestinian', 'JJ'), ('political', 'JJ'), (',', ','), ('economic', 'JJ'), (',', ','), ('and', 'CC'), ('security', 'NN'), ('reforms', 'NNS'), ('.', '.')]\n",
      "[('The', 'DT'), ('goal', 'NN'), ('of', 'IN'), ('two', 'CD'), ('democratic', 'JJ'), ('states', 'NNS'), (',', ','), ('Israel', 'NNP'), ('and', 'CC'), ('Palestine', 'NNP'), (',', ','), ('living', 'VBG'), ('side', 'NN'), ('by', 'IN'), ('side', 'NN'), ('in', 'IN'), ('peace', 'NN'), (',', ','), ('is', 'VBZ'), ('within', 'IN'), ('reach', 'NN'), ('--', ':'), ('and', 'CC'), ('America', 'NNP'), ('will', 'MD'), ('help', 'VB'), ('them', 'PRP'), ('achieve', 'VB'), ('that', 'DT'), ('goal', 'NN'), ('.', '.')]\n",
      "[('(', '('), ('Applause', 'NNP'), ('.', '.'), (')', ')')]\n",
      "[('To', 'TO'), ('promote', 'VB'), ('peace', 'NN'), ('and', 'CC'), ('stability', 'NN'), ('in', 'IN'), ('the', 'DT'), ('broader', 'JJR'), ('Middle', 'NNP'), ('East', 'NNP'), (',', ','), ('the', 'DT'), ('United', 'NNP'), ('States', 'NNPS'), ('will', 'MD'), ('work', 'VB'), ('with', 'IN'), ('our', 'PRP$'), ('friends', 'NNS'), ('in', 'IN'), ('the', 'DT'), ('region', 'NN'), ('to', 'TO'), ('fight', 'VB'), ('the', 'DT'), ('common', 'JJ'), ('threat', 'NN'), ('of', 'IN'), ('terror', 'NN'), (',', ','), ('while', 'IN'), ('we', 'PRP'), ('encourage', 'VBP'), ('a', 'DT'), ('higher', 'JJR'), ('standard', 'NN'), ('of', 'IN'), ('freedom', 'NN'), ('.', '.')]\n",
      "[('Hopeful', 'JJ'), ('reform', 'NN'), ('is', 'VBZ'), ('already', 'RB'), ('taking', 'VBG'), ('hold', 'NN'), ('in', 'IN'), ('an', 'DT'), ('arc', 'NN'), ('from', 'IN'), ('Morocco', 'NNP'), ('to', 'TO'), ('Jordan', 'NNP'), ('to', 'TO'), ('Bahrain', 'NNP'), ('.', '.')]\n",
      "[('The', 'DT'), ('government', 'NN'), ('of', 'IN'), ('Saudi', 'NNP'), ('Arabia', 'NNP'), ('can', 'MD'), ('demonstrate', 'VB'), ('its', 'PRP$'), ('leadership', 'NN'), ('in', 'IN'), ('the', 'DT'), ('region', 'NN'), ('by', 'IN'), ('expanding', 'VBG'), ('the', 'DT'), ('role', 'NN'), ('of', 'IN'), ('its', 'PRP$'), ('people', 'NNS'), ('in', 'IN'), ('determining', 'VBG'), ('their', 'PRP$'), ('future', 'NN'), ('.', '.')]\n",
      "[('And', 'CC'), ('the', 'DT'), ('great', 'JJ'), ('and', 'CC'), ('proud', 'JJ'), ('nation', 'NN'), ('of', 'IN'), ('Egypt', 'NNP'), (',', ','), ('which', 'WDT'), ('showed', 'VBD'), ('the', 'DT'), ('way', 'NN'), ('toward', 'IN'), ('peace', 'NN'), ('in', 'IN'), ('the', 'DT'), ('Middle', 'NNP'), ('East', 'NNP'), (',', ','), ('can', 'MD'), ('now', 'RB'), ('show', 'VB'), ('the', 'DT'), ('way', 'NN'), ('toward', 'IN'), ('democracy', 'NN'), ('in', 'IN'), ('the', 'DT'), ('Middle', 'NNP'), ('East', 'NNP'), ('.', '.')]\n",
      "[('(', '('), ('Applause', 'NNP'), ('.', '.'), (')', ')')]\n",
      "[('To', 'TO'), ('promote', 'VB'), ('peace', 'NN'), ('in', 'IN'), ('the', 'DT'), ('broader', 'JJR'), ('Middle', 'NNP'), ('East', 'NNP'), (',', ','), ('we', 'PRP'), ('must', 'MD'), ('confront', 'VB'), ('regimes', 'NNS'), ('that', 'WDT'), ('continue', 'VBP'), ('to', 'TO'), ('harbor', 'VB'), ('terrorists', 'NNS'), ('and', 'CC'), ('pursue', 'NN'), ('weapons', 'NNS'), ('of', 'IN'), ('mass', 'NN'), ('murder', 'NN'), ('.', '.')]\n",
      "[('Syria', 'NNP'), ('still', 'RB'), ('allows', 'VBZ'), ('its', 'PRP$'), ('territory', 'NN'), (',', ','), ('and', 'CC'), ('parts', 'NNS'), ('of', 'IN'), ('Lebanon', 'NNP'), (',', ','), ('to', 'TO'), ('be', 'VB'), ('used', 'VBN'), ('by', 'IN'), ('terrorists', 'NNS'), ('who', 'WP'), ('seek', 'VBP'), ('to', 'TO'), ('destroy', 'VB'), ('every', 'DT'), ('chance', 'NN'), ('of', 'IN'), ('peace', 'NN'), ('in', 'IN'), ('the', 'DT'), ('region', 'NN'), ('.', '.')]\n",
      "[('You', 'PRP'), ('have', 'VBP'), ('passed', 'VBN'), (',', ','), ('and', 'CC'), ('we', 'PRP'), ('are', 'VBP'), ('applying', 'VBG'), (',', ','), ('the', 'DT'), ('Syrian', 'JJ'), ('Accountability', 'NNP'), ('Act', 'NNP'), ('--', ':'), ('and', 'CC'), ('we', 'PRP'), ('expect', 'VBP'), ('the', 'DT'), ('Syrian', 'JJ'), ('government', 'NN'), ('to', 'TO'), ('end', 'VB'), ('all', 'DT'), ('support', 'NN'), ('for', 'IN'), ('terror', 'NN'), ('and', 'CC'), ('open', 'VB'), ('the', 'DT'), ('door', 'NN'), ('to', 'TO'), ('freedom', 'NN'), ('.', '.')]\n",
      "[('(', '('), ('Applause', 'NNP'), ('.', '.'), (')', ')')]\n",
      "[('Today', 'NN'), (',', ','), ('Iran', 'NNP'), ('remains', 'VBZ'), ('the', 'DT'), ('world', 'NN'), (\"'s\", 'POS'), ('primary', 'JJ'), ('state', 'NN'), ('sponsor', 'NN'), ('of', 'IN'), ('terror', 'NN'), ('--', ':'), ('pursuing', 'VBG'), ('nuclear', 'JJ'), ('weapons', 'NNS'), ('while', 'IN'), ('depriving', 'VBG'), ('its', 'PRP$'), ('people', 'NNS'), ('of', 'IN'), ('the', 'DT'), ('freedom', 'NN'), ('they', 'PRP'), ('seek', 'VBP'), ('and', 'CC'), ('deserve', 'VBP'), ('.', '.')]\n",
      "[('We', 'PRP'), ('are', 'VBP'), ('working', 'VBG'), ('with', 'IN'), ('European', 'JJ'), ('allies', 'NNS'), ('to', 'TO'), ('make', 'VB'), ('clear', 'JJ'), ('to', 'TO'), ('the', 'DT'), ('Iranian', 'JJ'), ('regime', 'NN'), ('that', 'IN'), ('it', 'PRP'), ('must', 'MD'), ('give', 'VB'), ('up', 'RP'), ('its', 'PRP$'), ('uranium', 'JJ'), ('enrichment', 'JJ'), ('program', 'NN'), ('and', 'CC'), ('any', 'DT'), ('plutonium', 'NN'), ('reprocessing', 'NN'), (',', ','), ('and', 'CC'), ('end', 'VB'), ('its', 'PRP$'), ('support', 'NN'), ('for', 'IN'), ('terror', 'NN'), ('.', '.')]\n",
      "[('And', 'CC'), ('to', 'TO'), ('the', 'DT'), ('Iranian', 'JJ'), ('people', 'NNS'), (',', ','), ('I', 'PRP'), ('say', 'VBP'), ('tonight', 'JJ'), (':', ':'), ('As', 'IN'), ('you', 'PRP'), ('stand', 'VBP'), ('for', 'IN'), ('your', 'PRP$'), ('own', 'JJ'), ('liberty', 'NN'), (',', ','), ('America', 'NNP'), ('stands', 'VBZ'), ('with', 'IN'), ('you', 'PRP'), ('.', '.')]\n",
      "[('(', '('), ('Applause', 'NNP'), ('.', '.'), (')', ')')]\n",
      "[('Our', 'PRP$'), ('generational', 'JJ'), ('commitment', 'NN'), ('to', 'TO'), ('the', 'DT'), ('advance', 'NN'), ('of', 'IN'), ('freedom', 'NN'), (',', ','), ('especially', 'RB'), ('in', 'IN'), ('the', 'DT'), ('Middle', 'NNP'), ('East', 'NNP'), (',', ','), ('is', 'VBZ'), ('now', 'RB'), ('being', 'VBG'), ('tested', 'VBN'), ('and', 'CC'), ('honored', 'VBN'), ('in', 'IN'), ('Iraq', 'NNP'), ('.', '.')]\n",
      "[('That', 'DT'), ('country', 'NN'), ('is', 'VBZ'), ('a', 'DT'), ('vital', 'JJ'), ('front', 'NN'), ('in', 'IN'), ('the', 'DT'), ('war', 'NN'), ('on', 'IN'), ('terror', 'NN'), (',', ','), ('which', 'WDT'), ('is', 'VBZ'), ('why', 'WRB'), ('the', 'DT'), ('terrorists', 'NNS'), ('have', 'VBP'), ('chosen', 'VBN'), ('to', 'TO'), ('make', 'VB'), ('a', 'DT'), ('stand', 'NN'), ('there', 'RB'), ('.', '.')]\n",
      "[('Our', 'PRP$'), ('men', 'NNS'), ('and', 'CC'), ('women', 'NNS'), ('in', 'IN'), ('uniform', 'NN'), ('are', 'VBP'), ('fighting', 'VBG'), ('terrorists', 'NNS'), ('in', 'IN'), ('Iraq', 'NNP'), (',', ','), ('so', 'IN'), ('we', 'PRP'), ('do', 'VBP'), ('not', 'RB'), ('have', 'VB'), ('to', 'TO'), ('face', 'VB'), ('them', 'PRP'), ('here', 'RB'), ('at', 'IN'), ('home', 'NN'), ('.', '.')]\n",
      "[('(', '('), ('Applause', 'NNP'), ('.', '.'), (')', ')')]\n",
      "[('And', 'CC'), ('the', 'DT'), ('victory', 'NN'), ('of', 'IN'), ('freedom', 'NN'), ('in', 'IN'), ('Iraq', 'NNP'), ('will', 'MD'), ('strengthen', 'VB'), ('a', 'DT'), ('new', 'JJ'), ('ally', 'NN'), ('in', 'IN'), ('the', 'DT'), ('war', 'NN'), ('on', 'IN'), ('terror', 'NN'), (',', ','), ('inspire', 'VBP'), ('democratic', 'JJ'), ('reformers', 'NNS'), ('from', 'IN'), ('Damascus', 'NNP'), ('to', 'TO'), ('Tehran', 'NNP'), (',', ','), ('bring', 'VBG'), ('more', 'JJR'), ('hope', 'NN'), ('and', 'CC'), ('progress', 'NN'), ('to', 'TO'), ('a', 'DT'), ('troubled', 'JJ'), ('region', 'NN'), (',', ','), ('and', 'CC'), ('thereby', 'RB'), ('lift', 'VB'), ('a', 'DT'), ('terrible', 'JJ'), ('threat', 'NN'), ('from', 'IN'), ('the', 'DT'), ('lives', 'NNS'), ('of', 'IN'), ('our', 'PRP$'), ('children', 'NNS'), ('and', 'CC'), ('grandchildren', 'NNS'), ('.', '.')]\n",
      "[('We', 'PRP'), ('will', 'MD'), ('succeed', 'VB'), ('because', 'IN'), ('the', 'DT'), ('Iraqi', 'NNP'), ('people', 'NNS'), ('value', 'NN'), ('their', 'PRP$'), ('own', 'JJ'), ('liberty', 'NN'), ('--', ':'), ('as', 'IN'), ('they', 'PRP'), ('showed', 'VBD'), ('the', 'DT'), ('world', 'NN'), ('last', 'JJ'), ('Sunday', 'NNP'), ('.', '.')]\n",
      "[('(', '('), ('Applause', 'NNP'), ('.', '.'), (')', ')')]\n",
      "[('Across', 'IN'), ('Iraq', 'NNP'), (',', ','), ('often', 'RB'), ('at', 'IN'), ('great', 'JJ'), ('risk', 'NN'), (',', ','), ('millions', 'NNS'), ('of', 'IN'), ('citizens', 'NNS'), ('went', 'VBD'), ('to', 'TO'), ('the', 'DT'), ('polls', 'NNS'), ('and', 'CC'), ('elected', 'VBD'), ('275', 'CD'), ('men', 'NNS'), ('and', 'CC'), ('women', 'NNS'), ('to', 'TO'), ('represent', 'VB'), ('them', 'PRP'), ('in', 'IN'), ('a', 'DT'), ('new', 'JJ'), ('Transitional', 'NNP'), ('National', 'NNP'), ('Assembly', 'NNP'), ('.', '.')]\n",
      "[('A', 'DT'), ('young', 'JJ'), ('woman', 'NN'), ('in', 'IN'), ('Baghdad', 'NNP'), ('told', 'VBD'), ('of', 'IN'), ('waking', 'VBG'), ('to', 'TO'), ('the', 'DT'), ('sound', 'NN'), ('of', 'IN'), ('mortar', 'NN'), ('fire', 'NN'), ('on', 'IN'), ('election', 'NN'), ('day', 'NN'), (',', ','), ('and', 'CC'), ('wondering', 'VBG'), ('if', 'IN'), ('it', 'PRP'), ('might', 'MD'), ('be', 'VB'), ('too', 'RB'), ('dangerous', 'JJ'), ('to', 'TO'), ('vote', 'VB'), ('.', '.')]\n",
      "[('She', 'PRP'), ('said', 'VBD'), (',', ','), ('``', '``'), ('Hearing', 'VBG'), ('those', 'DT'), ('explosions', 'NNS'), (',', ','), ('it', 'PRP'), ('occurred', 'VBD'), ('to', 'TO'), ('me', 'PRP'), ('--', ':'), ('the', 'DT'), ('insurgents', 'NNS'), ('are', 'VBP'), ('weak', 'JJ'), (',', ','), ('they', 'PRP'), ('are', 'VBP'), ('afraid', 'JJ'), ('of', 'IN'), ('democracy', 'NN'), (',', ','), ('they', 'PRP'), ('are', 'VBP'), ('losing', 'VBG'), ('.', '.')]\n",
      "[('So', 'RB'), ('I', 'PRP'), ('got', 'VBD'), ('my', 'PRP$'), ('husband', 'NN'), (',', ','), ('and', 'CC'), ('I', 'PRP'), ('got', 'VBD'), ('my', 'PRP$'), ('parents', 'NNS'), (',', ','), ('and', 'CC'), ('we', 'PRP'), ('all', 'DT'), ('came', 'VBD'), ('out', 'RP'), ('and', 'CC'), ('voted', 'VBD'), ('together', 'RB'), ('.', '.'), (\"''\", \"''\")]\n",
      "[('Americans', 'NNPS'), ('recognize', 'VBP'), ('that', 'IN'), ('spirit', 'NN'), ('of', 'IN'), ('liberty', 'NN'), (',', ','), ('because', 'IN'), ('we', 'PRP'), ('share', 'NN'), ('it', 'PRP'), ('.', '.')]\n",
      "[('In', 'IN'), ('any', 'DT'), ('nation', 'NN'), (',', ','), ('casting', 'VBG'), ('your', 'PRP$'), ('vote', 'NN'), ('is', 'VBZ'), ('an', 'DT'), ('act', 'NN'), ('of', 'IN'), ('civic', 'JJ'), ('responsibility', 'NN'), (';', ':'), ('for', 'IN'), ('millions', 'NNS'), ('of', 'IN'), ('Iraqis', 'NNP'), (',', ','), ('it', 'PRP'), ('was', 'VBD'), ('also', 'RB'), ('an', 'DT'), ('act', 'NN'), ('of', 'IN'), ('personal', 'JJ'), ('courage', 'NN'), (',', ','), ('and', 'CC'), ('they', 'PRP'), ('have', 'VBP'), ('earned', 'VBN'), ('the', 'DT'), ('respect', 'NN'), ('of', 'IN'), ('us', 'PRP'), ('all', 'DT'), ('.', '.')]\n",
      "[('(', '('), ('Applause', 'NNP'), ('.', '.'), (')', ')')]\n",
      "[('One', 'CD'), ('of', 'IN'), ('Iraq', 'NNP'), (\"'s\", 'POS'), ('leading', 'JJ'), ('democracy', 'NN'), ('and', 'CC'), ('human', 'JJ'), ('rights', 'NNS'), ('advocates', 'NNS'), ('is', 'VBZ'), ('Safia', 'NNP'), ('Taleb', 'NNP'), ('al-Suhail', 'NN'), ('.', '.')]\n",
      "[('She', 'PRP'), ('says', 'VBZ'), ('of', 'IN'), ('her', 'PRP$'), ('country', 'NN'), (',', ','), ('``', '``'), ('We', 'PRP'), ('were', 'VBD'), ('occupied', 'VBN'), ('for', 'IN'), ('35', 'CD'), ('years', 'NNS'), ('by', 'IN'), ('Saddam', 'NNP'), ('Hussein', 'NNP'), ('.', '.')]\n",
      "[('That', 'DT'), ('was', 'VBD'), ('the', 'DT'), ('real', 'JJ'), ('occupation', 'NN'), ('.', '.')]\n",
      "[('Thank', 'NNP'), ('you', 'PRP'), ('to', 'TO'), ('the', 'DT'), ('American', 'JJ'), ('people', 'NNS'), ('who', 'WP'), ('paid', 'VBD'), ('the', 'DT'), ('cost', 'NN'), (',', ','), ('but', 'CC'), ('most', 'JJS'), ('of', 'IN'), ('all', 'DT'), (',', ','), ('to', 'TO'), ('the', 'DT'), ('soldiers', 'NNS'), ('.', '.'), (\"''\", \"''\")]\n",
      "[('Eleven', 'CD'), ('years', 'NNS'), ('ago', 'RB'), (',', ','), ('Safia', 'NNP'), (\"'s\", 'POS'), ('father', 'NN'), ('was', 'VBD'), ('assassinated', 'VBN'), ('by', 'IN'), ('Saddam', 'NNP'), (\"'s\", 'POS'), ('intelligence', 'NN'), ('service', 'NN'), ('.', '.')]\n",
      "[('Three', 'CD'), ('days', 'NNS'), ('ago', 'RB'), ('in', 'IN'), ('Baghdad', 'NNP'), (',', ','), ('Safia', 'NNP'), ('was', 'VBD'), ('finally', 'RB'), ('able', 'JJ'), ('to', 'TO'), ('vote', 'VB'), ('for', 'IN'), ('the', 'DT'), ('leaders', 'NNS'), ('of', 'IN'), ('her', 'PRP$'), ('country', 'NN'), ('--', ':'), ('and', 'CC'), ('we', 'PRP'), ('are', 'VBP'), ('honored', 'VBN'), ('that', 'IN'), ('she', 'PRP'), ('is', 'VBZ'), ('with', 'IN'), ('us', 'PRP'), ('tonight', 'NN'), ('.', '.')]\n",
      "[('(', '('), ('Applause', 'NNP'), ('.', '.'), (')', ')')]\n",
      "[('The', 'DT'), ('terrorists', 'NNS'), ('and', 'CC'), ('insurgents', 'NNS'), ('are', 'VBP'), ('violently', 'RB'), ('opposed', 'VBN'), ('to', 'TO'), ('democracy', 'NN'), (',', ','), ('and', 'CC'), ('will', 'MD'), ('continue', 'VB'), ('to', 'TO'), ('attack', 'VB'), ('it', 'PRP'), ('.', '.')]\n",
      "[('Yet', 'RB'), (',', ','), ('the', 'DT'), ('terrorists', 'NNS'), (\"'\", 'POS'), ('most', 'RBS'), ('powerful', 'JJ'), ('myth', 'NN'), ('is', 'VBZ'), ('being', 'VBG'), ('destroyed', 'VBN'), ('.', '.')]\n",
      "[('The', 'DT'), ('whole', 'JJ'), ('world', 'NN'), ('is', 'VBZ'), ('seeing', 'VBG'), ('that', 'IN'), ('the', 'DT'), ('car', 'NN'), ('bombers', 'NNS'), ('and', 'CC'), ('assassins', 'NNS'), ('are', 'VBP'), ('not', 'RB'), ('only', 'RB'), ('fighting', 'VBG'), ('coalition', 'NN'), ('forces', 'NNS'), (',', ','), ('they', 'PRP'), ('are', 'VBP'), ('trying', 'VBG'), ('to', 'TO'), ('destroy', 'VB'), ('the', 'DT'), ('hopes', 'NNS'), ('of', 'IN'), ('Iraqis', 'NNP'), (',', ','), ('expressed', 'VBD'), ('in', 'IN'), ('free', 'JJ'), ('elections', 'NNS'), ('.', '.')]\n",
      "[('And', 'CC'), ('the', 'DT'), ('whole', 'JJ'), ('world', 'NN'), ('now', 'RB'), ('knows', 'VBZ'), ('that', 'IN'), ('a', 'DT'), ('small', 'JJ'), ('group', 'NN'), ('of', 'IN'), ('extremists', 'NNS'), ('will', 'MD'), ('not', 'RB'), ('overturn', 'VB'), ('the', 'DT'), ('will', 'MD'), ('of', 'IN'), ('the', 'DT'), ('Iraqi', 'NNP'), ('people', 'NNS'), ('.', '.')]\n",
      "[('(', '('), ('Applause', 'NNP'), ('.', '.'), (')', ')')]\n",
      "[('We', 'PRP'), ('will', 'MD'), ('succeed', 'VB'), ('in', 'IN'), ('Iraq', 'NNP'), ('because', 'IN'), ('Iraqis', 'NNP'), ('are', 'VBP'), ('determined', 'VBN'), ('to', 'TO'), ('fight', 'VB'), ('for', 'IN'), ('their', 'PRP$'), ('own', 'JJ'), ('freedom', 'NN'), (',', ','), ('and', 'CC'), ('to', 'TO'), ('write', 'VB'), ('their', 'PRP$'), ('own', 'JJ'), ('history', 'NN'), ('.', '.')]\n",
      "[('As', 'IN'), ('Prime', 'NNP'), ('Minister', 'NNP'), ('Allawi', 'NNP'), ('said', 'VBD'), ('in', 'IN'), ('his', 'PRP$'), ('speech', 'NN'), ('to', 'TO'), ('Congress', 'NNP'), ('last', 'JJ'), ('September', 'NNP'), (',', ','), ('``', '``'), ('Ordinary', 'JJ'), ('Iraqis', 'NNP'), ('are', 'VBP'), ('anxious', 'JJ'), ('to', 'TO'), ('shoulder', 'VB'), ('all', 'PDT'), ('the', 'DT'), ('security', 'NN'), ('burdens', 'VBZ'), ('of', 'IN'), ('our', 'PRP$'), ('country', 'NN'), ('as', 'RB'), ('quickly', 'RB'), ('as', 'IN'), ('possible', 'JJ'), ('.', '.'), (\"''\", \"''\")]\n",
      "[('That', 'DT'), ('is', 'VBZ'), ('the', 'DT'), ('natural', 'JJ'), ('desire', 'NN'), ('of', 'IN'), ('an', 'DT'), ('independent', 'JJ'), ('nation', 'NN'), (',', ','), ('and', 'CC'), ('it', 'PRP'), ('is', 'VBZ'), ('also', 'RB'), ('the', 'DT'), ('stated', 'JJ'), ('mission', 'NN'), ('of', 'IN'), ('our', 'PRP$'), ('coalition', 'NN'), ('in', 'IN'), ('Iraq', 'NNP'), ('.', '.')]\n",
      "[('The', 'DT'), ('new', 'JJ'), ('political', 'JJ'), ('situation', 'NN'), ('in', 'IN'), ('Iraq', 'NNP'), ('opens', 'VBZ'), ('a', 'DT'), ('new', 'JJ'), ('phase', 'NN'), ('of', 'IN'), ('our', 'PRP$'), ('work', 'NN'), ('in', 'IN'), ('that', 'DT'), ('country', 'NN'), ('.', '.')]\n",
      "[('At', 'IN'), ('the', 'DT'), ('recommendation', 'NN'), ('of', 'IN'), ('our', 'PRP$'), ('commanders', 'NNS'), ('on', 'IN'), ('the', 'DT'), ('ground', 'NN'), (',', ','), ('and', 'CC'), ('in', 'IN'), ('consultation', 'NN'), ('with', 'IN'), ('the', 'DT'), ('Iraqi', 'NNP'), ('government', 'NN'), (',', ','), ('we', 'PRP'), ('will', 'MD'), ('increasingly', 'RB'), ('focus', 'VB'), ('our', 'PRP$'), ('efforts', 'NNS'), ('on', 'IN'), ('helping', 'VBG'), ('prepare', 'VB'), ('more', 'RBR'), ('capable', 'JJ'), ('Iraqi', 'NNP'), ('security', 'NN'), ('forces', 'NNS'), ('--', ':'), ('forces', 'NNS'), ('with', 'IN'), ('skilled', 'JJ'), ('officers', 'NNS'), ('and', 'CC'), ('an', 'DT'), ('effective', 'JJ'), ('command', 'NN'), ('structure', 'NN'), ('.', '.')]\n",
      "[('As', 'IN'), ('those', 'DT'), ('forces', 'NNS'), ('become', 'VBP'), ('more', 'JJR'), ('self-reliant', 'JJ'), ('and', 'CC'), ('take', 'VB'), ('on', 'IN'), ('greater', 'JJR'), ('security', 'NN'), ('responsibilities', 'NNS'), (',', ','), ('America', 'NNP'), ('and', 'CC'), ('its', 'PRP$'), ('coalition', 'NN'), ('partners', 'NNS'), ('will', 'MD'), ('increasingly', 'RB'), ('be', 'VB'), ('in', 'IN'), ('a', 'DT'), ('supporting', 'JJ'), ('role', 'NN'), ('.', '.')]\n",
      "[('In', 'IN'), ('the', 'DT'), ('end', 'NN'), (',', ','), ('Iraqis', 'NNP'), ('must', 'MD'), ('be', 'VB'), ('able', 'JJ'), ('to', 'TO'), ('defend', 'VB'), ('their', 'PRP$'), ('own', 'JJ'), ('country', 'NN'), ('--', ':'), ('and', 'CC'), ('we', 'PRP'), ('will', 'MD'), ('help', 'VB'), ('that', 'DT'), ('proud', 'NN'), (',', ','), ('new', 'JJ'), ('nation', 'NN'), ('secure', 'NN'), ('its', 'PRP$'), ('liberty', 'NN'), ('.', '.')]\n",
      "[('Recently', 'RB'), ('an', 'DT'), ('Iraqi', 'NNP'), ('interpreter', 'NN'), ('said', 'VBD'), ('to', 'TO'), ('a', 'DT'), ('reporter', 'NN'), (',', ','), ('``', '``'), ('Tell', 'NNP'), ('America', 'NNP'), ('not', 'RB'), ('to', 'TO'), ('abandon', 'VB'), ('us', 'PRP'), ('.', '.'), (\"''\", \"''\")]\n",
      "[('He', 'PRP'), ('and', 'CC'), ('all', 'DT'), ('Iraqis', 'NNP'), ('can', 'MD'), ('be', 'VB'), ('certain', 'JJ'), (':', ':'), ('While', 'IN'), ('our', 'PRP$'), ('military', 'JJ'), ('strategy', 'NN'), ('is', 'VBZ'), ('adapting', 'VBG'), ('to', 'TO'), ('circumstances', 'NNS'), (',', ','), ('our', 'PRP$'), ('commitment', 'NN'), ('remains', 'VBZ'), ('firm', 'JJ'), ('and', 'CC'), ('unchanging', 'JJ'), ('.', '.')]\n",
      "[('We', 'PRP'), ('are', 'VBP'), ('standing', 'VBG'), ('for', 'IN'), ('the', 'DT'), ('freedom', 'NN'), ('of', 'IN'), ('our', 'PRP$'), ('Iraqi', 'NNP'), ('friends', 'NNS'), (',', ','), ('and', 'CC'), ('freedom', 'NN'), ('in', 'IN'), ('Iraq', 'NNP'), ('will', 'MD'), ('make', 'VB'), ('America', 'NNP'), ('safer', 'NN'), ('for', 'IN'), ('generations', 'NNS'), ('to', 'TO'), ('come', 'VB'), ('.', '.')]\n",
      "[('(', '('), ('Applause', 'NNP'), ('.', '.'), (')', ')')]\n",
      "[('We', 'PRP'), ('will', 'MD'), ('not', 'RB'), ('set', 'VB'), ('an', 'DT'), ('artificial', 'JJ'), ('timetable', 'NN'), ('for', 'IN'), ('leaving', 'VBG'), ('Iraq', 'NNP'), (',', ','), ('because', 'IN'), ('that', 'DT'), ('would', 'MD'), ('embolden', 'VB'), ('the', 'DT'), ('terrorists', 'NNS'), ('and', 'CC'), ('make', 'VB'), ('them', 'PRP'), ('believe', 'VB'), ('they', 'PRP'), ('can', 'MD'), ('wait', 'VB'), ('us', 'PRP'), ('out', 'RP'), ('.', '.')]\n",
      "[('We', 'PRP'), ('are', 'VBP'), ('in', 'IN'), ('Iraq', 'NNP'), ('to', 'TO'), ('achieve', 'VB'), ('a', 'DT'), ('result', 'NN'), (':', ':'), ('A', 'DT'), ('country', 'NN'), ('that', 'WDT'), ('is', 'VBZ'), ('democratic', 'JJ'), (',', ','), ('representative', 'NN'), ('of', 'IN'), ('all', 'PDT'), ('its', 'PRP$'), ('people', 'NNS'), (',', ','), ('at', 'IN'), ('peace', 'NN'), ('with', 'IN'), ('its', 'PRP$'), ('neighbors', 'NNS'), (',', ','), ('and', 'CC'), ('able', 'JJ'), ('to', 'TO'), ('defend', 'VB'), ('itself', 'PRP'), ('.', '.')]\n",
      "[('And', 'CC'), ('when', 'WRB'), ('that', 'DT'), ('result', 'NN'), ('is', 'VBZ'), ('achieved', 'VBN'), (',', ','), ('our', 'PRP$'), ('men', 'NNS'), ('and', 'CC'), ('women', 'NNS'), ('serving', 'VBG'), ('in', 'IN'), ('Iraq', 'NNP'), ('will', 'MD'), ('return', 'VB'), ('home', 'NN'), ('with', 'IN'), ('the', 'DT'), ('honor', 'NN'), ('they', 'PRP'), ('have', 'VBP'), ('earned', 'VBN'), ('.', '.')]\n",
      "[('(', '('), ('Applause', 'NNP'), ('.', '.'), (')', ')')]\n",
      "[('Right', 'RB'), ('now', 'RB'), (',', ','), ('Americans', 'NNPS'), ('in', 'IN'), ('uniform', 'NN'), ('are', 'VBP'), ('serving', 'VBG'), ('at', 'IN'), ('posts', 'NNS'), ('across', 'IN'), ('the', 'DT'), ('world', 'NN'), (',', ','), ('often', 'RB'), ('taking', 'VBG'), ('great', 'JJ'), ('risks', 'NNS'), ('on', 'IN'), ('my', 'PRP$'), ('orders', 'NNS'), ('.', '.')]\n",
      "[('We', 'PRP'), ('have', 'VBP'), ('given', 'VBN'), ('them', 'PRP'), ('training', 'VBG'), ('and', 'CC'), ('equipment', 'NN'), (';', ':'), ('and', 'CC'), ('they', 'PRP'), ('have', 'VBP'), ('given', 'VBN'), ('us', 'PRP'), ('an', 'DT'), ('example', 'NN'), ('of', 'IN'), ('idealism', 'NN'), ('and', 'CC'), ('character', 'NN'), ('that', 'WDT'), ('makes', 'VBZ'), ('every', 'DT'), ('American', 'JJ'), ('proud', 'NN'), ('.', '.')]\n",
      "[('(', '('), ('Applause', 'NNP'), ('.', '.'), (')', ')')]\n",
      "[('The', 'DT'), ('volunteers', 'NNS'), ('of', 'IN'), ('our', 'PRP$'), ('military', 'JJ'), ('are', 'VBP'), ('unrelenting', 'VBG'), ('in', 'IN'), ('battle', 'NN'), (',', ','), ('unwavering', 'VBG'), ('in', 'IN'), ('loyalty', 'NN'), (',', ','), ('unmatched', 'VBN'), ('in', 'IN'), ('honor', 'NN'), ('and', 'CC'), ('decency', 'NN'), (',', ','), ('and', 'CC'), ('every', 'DT'), ('day', 'NN'), ('they', 'PRP'), (\"'re\", 'VBP'), ('making', 'VBG'), ('our', 'PRP$'), ('nation', 'NN'), ('more', 'RBR'), ('secure', 'NN'), ('.', '.')]\n",
      "[('Some', 'DT'), ('of', 'IN'), ('our', 'PRP$'), ('servicemen', 'NNS'), ('and', 'CC'), ('women', 'NNS'), ('have', 'VBP'), ('survived', 'VBN'), ('terrible', 'JJ'), ('injuries', 'NNS'), (',', ','), ('and', 'CC'), ('this', 'DT'), ('grateful', 'JJ'), ('country', 'NN'), ('will', 'MD'), ('do', 'VB'), ('everything', 'NN'), ('we', 'PRP'), ('can', 'MD'), ('to', 'TO'), ('help', 'VB'), ('them', 'PRP'), ('recover', 'VB'), ('.', '.')]\n",
      "[('(', '('), ('Applause', 'NNP'), ('.', '.'), (')', ')')]\n",
      "[('And', 'CC'), ('we', 'PRP'), ('have', 'VBP'), ('said', 'VBD'), ('farewell', 'NN'), ('to', 'TO'), ('some', 'DT'), ('very', 'RB'), ('good', 'JJ'), ('men', 'NNS'), ('and', 'CC'), ('women', 'NNS'), (',', ','), ('who', 'WP'), ('died', 'VBD'), ('for', 'IN'), ('our', 'PRP$'), ('freedom', 'NN'), (',', ','), ('and', 'CC'), ('whose', 'WP$'), ('memory', 'NN'), ('this', 'DT'), ('nation', 'NN'), ('will', 'MD'), ('honor', 'VB'), ('forever', 'RB'), ('.', '.')]\n",
      "[('One', 'CD'), ('name', 'NN'), ('we', 'PRP'), ('honor', 'VBP'), ('is', 'VBZ'), ('Marine', 'NNP'), ('Corps', 'NNP'), ('Sergeant', 'NNP'), ('Byron', 'NNP'), ('Norwood', 'NNP'), ('of', 'IN'), ('Pflugerville', 'NNP'), (',', ','), ('Texas', 'NNP'), (',', ','), ('who', 'WP'), ('was', 'VBD'), ('killed', 'VBN'), ('during', 'IN'), ('the', 'DT'), ('assault', 'NN'), ('on', 'IN'), ('Fallujah', 'NNP'), ('.', '.')]\n",
      "[('His', 'PRP$'), ('mom', 'NN'), (',', ','), ('Janet', 'NNP'), (',', ','), ('sent', 'VBD'), ('me', 'PRP'), ('a', 'DT'), ('letter', 'NN'), ('and', 'CC'), ('told', 'VBD'), ('me', 'PRP'), ('how', 'WRB'), ('much', 'JJ'), ('Byron', 'NNP'), ('loved', 'VBD'), ('being', 'VBG'), ('a', 'DT'), ('Marine', 'NNP'), (',', ','), ('and', 'CC'), ('how', 'WRB'), ('proud', 'JJ'), ('he', 'PRP'), ('was', 'VBD'), ('to', 'TO'), ('be', 'VB'), ('on', 'IN'), ('the', 'DT'), ('front', 'JJ'), ('line', 'NN'), ('against', 'IN'), ('terror', 'NN'), ('.', '.')]\n",
      "[('She', 'PRP'), ('wrote', 'VBD'), (',', ','), ('``', '``'), ('When', 'WRB'), ('Byron', 'NNP'), ('was', 'VBD'), ('home', 'VBN'), ('the', 'DT'), ('last', 'JJ'), ('time', 'NN'), (',', ','), ('I', 'PRP'), ('said', 'VBD'), ('that', 'IN'), ('I', 'PRP'), ('wanted', 'VBD'), ('to', 'TO'), ('protect', 'VB'), ('him', 'PRP'), ('like', 'IN'), ('I', 'PRP'), ('had', 'VBD'), ('since', 'IN'), ('he', 'PRP'), ('was', 'VBD'), ('born', 'VBN'), ('.', '.')]\n",
      "[('He', 'PRP'), ('just', 'RB'), ('hugged', 'VBD'), ('me', 'PRP'), ('and', 'CC'), ('said', 'VBD'), (',', ','), (\"'You\", \"''\"), (\"'ve\", 'VBP'), ('done', 'VBN'), ('your', 'PRP$'), ('job', 'NN'), (',', ','), ('Mom', 'NNP'), ('.', '.')]\n",
      "[('Now', 'RB'), ('it', 'PRP'), ('is', 'VBZ'), ('my', 'PRP$'), ('turn', 'NN'), ('to', 'TO'), ('protect', 'VB'), ('you', 'PRP'), ('.', '.'), (\"'\", \"''\"), (\"''\", \"''\")]\n",
      "[('Ladies', 'NNS'), ('and', 'CC'), ('gentlemen', 'NNS'), (',', ','), ('with', 'IN'), ('grateful', 'JJ'), ('hearts', 'NNS'), (',', ','), ('we', 'PRP'), ('honor', 'VBP'), ('freedom', 'NN'), (\"'s\", 'POS'), ('defenders', 'NNS'), (',', ','), ('and', 'CC'), ('our', 'PRP$'), ('military', 'JJ'), ('families', 'NNS'), (',', ','), ('represented', 'VBN'), ('here', 'RB'), ('this', 'DT'), ('evening', 'NN'), ('by', 'IN'), ('Sergeant', 'NNP'), ('Norwood', 'NNP'), (\"'s\", 'POS'), ('mom', 'NN'), ('and', 'CC'), ('dad', 'NN'), (',', ','), ('Janet', 'NNP'), ('and', 'CC'), ('Bill', 'NNP'), ('Norwood', 'NNP'), ('.', '.')]\n",
      "[('(', '('), ('Applause', 'NNP'), ('.', '.'), (')', ')')]\n",
      "[('In', 'IN'), ('these', 'DT'), ('four', 'CD'), ('years', 'NNS'), (',', ','), ('Americans', 'NNPS'), ('have', 'VBP'), ('seen', 'VBN'), ('the', 'DT'), ('unfolding', 'NN'), ('of', 'IN'), ('large', 'JJ'), ('events', 'NNS'), ('.', '.')]\n",
      "[('We', 'PRP'), ('have', 'VBP'), ('known', 'VBN'), ('times', 'NNS'), ('of', 'IN'), ('sorrow', 'NN'), (',', ','), ('and', 'CC'), ('hours', 'NNS'), ('of', 'IN'), ('uncertainty', 'NN'), (',', ','), ('and', 'CC'), ('days', 'NNS'), ('of', 'IN'), ('victory', 'NN'), ('.', '.')]\n",
      "[('In', 'IN'), ('all', 'PDT'), ('this', 'DT'), ('history', 'NN'), (',', ','), ('even', 'RB'), ('when', 'WRB'), ('we', 'PRP'), ('have', 'VBP'), ('disagreed', 'VBN'), (',', ','), ('we', 'PRP'), ('have', 'VBP'), ('seen', 'VBN'), ('threads', 'NNS'), ('of', 'IN'), ('purpose', 'NN'), ('that', 'IN'), ('unite', 'JJ'), ('us', 'PRP'), ('.', '.')]\n",
      "[('The', 'DT'), ('attack', 'NN'), ('on', 'IN'), ('freedom', 'NN'), ('in', 'IN'), ('our', 'PRP$'), ('world', 'NN'), ('has', 'VBZ'), ('reaffirmed', 'VBN'), ('our', 'PRP$'), ('confidence', 'NN'), ('in', 'IN'), ('freedom', 'NN'), (\"'s\", 'POS'), ('power', 'NN'), ('to', 'TO'), ('change', 'VB'), ('the', 'DT'), ('world', 'NN'), ('.', '.')]\n",
      "[('We', 'PRP'), ('are', 'VBP'), ('all', 'DT'), ('part', 'NN'), ('of', 'IN'), ('a', 'DT'), ('great', 'JJ'), ('venture', 'NN'), (':', ':'), ('To', 'TO'), ('extend', 'VB'), ('the', 'DT'), ('promise', 'NN'), ('of', 'IN'), ('freedom', 'NN'), ('in', 'IN'), ('our', 'PRP$'), ('country', 'NN'), (',', ','), ('to', 'TO'), ('renew', 'VB'), ('the', 'DT'), ('values', 'NNS'), ('that', 'WDT'), ('sustain', 'VBP'), ('our', 'PRP$'), ('liberty', 'NN'), (',', ','), ('and', 'CC'), ('to', 'TO'), ('spread', 'VB'), ('the', 'DT'), ('peace', 'NN'), ('that', 'WDT'), ('freedom', 'NN'), ('brings', 'NNS'), ('.', '.')]\n",
      "[('As', 'IN'), ('Franklin', 'NNP'), ('Roosevelt', 'NNP'), ('once', 'RB'), ('reminded', 'VBD'), ('Americans', 'NNPS'), (',', ','), ('``', '``'), ('Each', 'DT'), ('age', 'NN'), ('is', 'VBZ'), ('a', 'DT'), ('dream', 'NN'), ('that', 'WDT'), ('is', 'VBZ'), ('dying', 'VBG'), (',', ','), ('or', 'CC'), ('one', 'CD'), ('that', 'WDT'), ('is', 'VBZ'), ('coming', 'VBG'), ('to', 'TO'), ('birth', 'NN'), ('.', '.'), (\"''\", \"''\")]\n",
      "[('And', 'CC'), ('we', 'PRP'), ('live', 'VBP'), ('in', 'IN'), ('the', 'DT'), ('country', 'NN'), ('where', 'WRB'), ('the', 'DT'), ('biggest', 'JJS'), ('dreams', 'NNS'), ('are', 'VBP'), ('born', 'VBN'), ('.', '.')]\n",
      "[('The', 'DT'), ('abolition', 'NN'), ('of', 'IN'), ('slavery', 'NN'), ('was', 'VBD'), ('only', 'RB'), ('a', 'DT'), ('dream', 'NN'), ('--', ':'), ('until', 'IN'), ('it', 'PRP'), ('was', 'VBD'), ('fulfilled', 'VBN'), ('.', '.')]\n",
      "[('The', 'DT'), ('liberation', 'NN'), ('of', 'IN'), ('Europe', 'NNP'), ('from', 'IN'), ('fascism', 'NN'), ('was', 'VBD'), ('only', 'RB'), ('a', 'DT'), ('dream', 'NN'), ('--', ':'), ('until', 'IN'), ('it', 'PRP'), ('was', 'VBD'), ('achieved', 'VBN'), ('.', '.')]\n",
      "[('The', 'DT'), ('fall', 'NN'), ('of', 'IN'), ('imperial', 'JJ'), ('communism', 'NN'), ('was', 'VBD'), ('only', 'RB'), ('a', 'DT'), ('dream', 'NN'), ('--', ':'), ('until', 'IN'), (',', ','), ('one', 'CD'), ('day', 'NN'), (',', ','), ('it', 'PRP'), ('was', 'VBD'), ('accomplished', 'VBN'), ('.', '.')]\n",
      "[('Our', 'PRP$'), ('generation', 'NN'), ('has', 'VBZ'), ('dreams', 'NNS'), ('of', 'IN'), ('its', 'PRP$'), ('own', 'JJ'), (',', ','), ('and', 'CC'), ('we', 'PRP'), ('also', 'RB'), ('go', 'VBP'), ('forward', 'RB'), ('with', 'IN'), ('confidence', 'NN'), ('.', '.')]\n",
      "[('The', 'DT'), ('road', 'NN'), ('of', 'IN'), ('Providence', 'NNP'), ('is', 'VBZ'), ('uneven', 'JJ'), ('and', 'CC'), ('unpredictable', 'JJ'), ('--', ':'), ('yet', 'RB'), ('we', 'PRP'), ('know', 'VBP'), ('where', 'WRB'), ('it', 'PRP'), ('leads', 'VBZ'), (':', ':'), ('It', 'PRP'), ('leads', 'VBZ'), ('to', 'TO'), ('freedom', 'VB'), ('.', '.')]\n",
      "[('Thank', 'NNP'), ('you', 'PRP'), (',', ','), ('and', 'CC'), ('may', 'MD'), ('God', 'NNP'), ('bless', 'NN'), ('America', 'NNP'), ('.', '.')]\n",
      "[('(', '('), ('Applause', 'NNP'), ('.', '.'), (')', ')')]\n",
      "[('END', 'NN'), ('10:03', 'CD'), ('P.M.', 'NNP'), ('EST', 'NNP')]\n"
     ]
    }
   ],
   "source": [
    "  "
   ]
  },
  {
   "cell_type": "code",
   "execution_count": null,
   "id": "d6652b7a",
   "metadata": {},
   "outputs": [],
   "source": []
  }
 ],
 "metadata": {
  "kernelspec": {
   "display_name": "Python 3 (ipykernel)",
   "language": "python",
   "name": "python3"
  },
  "language_info": {
   "codemirror_mode": {
    "name": "ipython",
    "version": 3
   },
   "file_extension": ".py",
   "mimetype": "text/x-python",
   "name": "python",
   "nbconvert_exporter": "python",
   "pygments_lexer": "ipython3",
   "version": "3.11.5"
  }
 },
 "nbformat": 4,
 "nbformat_minor": 5
}
